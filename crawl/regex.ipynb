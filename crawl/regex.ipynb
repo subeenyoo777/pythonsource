{
 "cells": [
  {
   "cell_type": "markdown",
   "id": "b3071a20",
   "metadata": {},
   "source": [
    "### 정규 표현식\n",
    "- 자바스크립트에서 했던 것과 동일"
   ]
  },
  {
   "cell_type": "code",
   "execution_count": 5,
   "id": "71e069bf",
   "metadata": {},
   "outputs": [
    {
     "name": "stdout",
     "output_type": "stream",
     "text": [
      "\n",
      "park 800905-1049118\n",
      "kim 700905-1059119\n",
      "\n"
     ]
    }
   ],
   "source": [
    "# 주민등록번호의 뒷자리를 *로 변경\n",
    "\n",
    "data = \"\"\"\n",
    "park 800905-1049118\n",
    "kim 700905-1059119\n",
    "\"\"\"\n",
    "# data.split(\"\\n\") #['', 'park 800905-1049118', 'kim 700905-1059119', '']\n",
    "#출력\n",
    "# park 800905-*******\n",
    "# kim 700905--*******\n",
    "\n",
    "\n",
    "#정규식 사용하지 않을 때\n",
    "#전체 텍스트를 공백문자로 나누기\n",
    "#나뉜 텍스트가 주민등록번호 형식인지 조사\n",
    "#주민등록번호 형식이면 뒷자리를 *로 변환\n",
    "\n",
    "result = []\n",
    "\n",
    "for line in data.split(\"\\n\"):\n",
    "    word_result = []\n",
    "    for word in line.split(\"  \"):\n",
    "        if len(word) == 14 and word[:6].isdigit() and word[:7].isdigit():\n",
    "            word = word[:6] + \"-\" + \"*******\"\n",
    "        word_result.append(word)\n",
    "    result.append(\"  \".join(word_result)) #리스트 -> 문자열로 변경\n",
    "print(\"\\n\".join(result))"
   ]
  },
  {
   "cell_type": "markdown",
   "id": "edc2f129",
   "metadata": {},
   "source": [
    "### 정규식\n",
    " - 문자열이 가지고 있는 메소드 사용\n",
    " - re 모듈\n",
    " - 메서드 \n",
    "    - match() : 문자열 처음부터 정규식과 매칭되는 패턴을 찾아서 리턴(처음과 일치하지 않으면 리턴 안함)\n",
    "    - search() : 문자열 전체를 검색해서 정규식과 매칭되는 패턴을 찾아서 리턴\n",
    "    - findall()\n",
    "    - finditer()\n",
    "    - replace()\n",
    "    - compile()"
   ]
  },
  {
   "cell_type": "code",
   "execution_count": 9,
   "id": "0dbdbde1",
   "metadata": {},
   "outputs": [
    {
     "name": "stdout",
     "output_type": "stream",
     "text": [
      "<re.Match object; span=(0, 3), match='DAA'>\n",
      "패턴 시작 위치 0\n",
      "패턴 종료 위치 3\n",
      "패턴과 일치하는 문자열 반환 DAA\n",
      "패턴과 일치하는 시작, 끝 위치 반환 (0, 3)\n"
     ]
    }
   ],
   "source": [
    "import re\n",
    "\n",
    "#패턴 지정\n",
    "pattern = re.compile(\"D.A\")\n",
    "\n",
    "result = pattern.search(\"DAA\")\n",
    "print(result)\n",
    "print(\"패턴 시작 위치\", result.start())\n",
    "print(\"패턴 종료 위치\", result.end())\n",
    "print(\"패턴과 일치하는 문자열 반환\", result.group())\n",
    "print(\"패턴과 일치하는 시작, 끝 위치 반환\", result.span())"
   ]
  },
  {
   "cell_type": "code",
   "execution_count": 12,
   "id": "0440d1c7",
   "metadata": {},
   "outputs": [
    {
     "name": "stdout",
     "output_type": "stream",
     "text": [
      "<re.Match object; span=(0, 3), match='D0A'>\n",
      "패턴 시작 위치 0\n",
      "패턴 종료 위치 3\n",
      "패턴과 일치하는 문자열 반환 D0A\n"
     ]
    }
   ],
   "source": [
    "result = pattern.search(\"D0A D1A 0111\")\n",
    "\n",
    "print(result)\n",
    "print(\"패턴 시작 위치\", result.start())\n",
    "print(\"패턴 종료 위치\", result.end())\n",
    "print(\"패턴과 일치하는 문자열 반환\", result.group())"
   ]
  },
  {
   "cell_type": "code",
   "execution_count": 16,
   "id": "e21797cd",
   "metadata": {},
   "outputs": [
    {
     "name": "stdout",
     "output_type": "stream",
     "text": [
      "<re.Match object; span=(0, 1), match='A'>\n",
      "<re.Match object; span=(0, 2), match='DA'>\n",
      "<re.Match object; span=(0, 1), match='A'>\n",
      "None\n",
      "<re.Match object; span=(0, 2), match='DA'>\n",
      "<re.Match object; span=(0, 26), match='DDDDDDDDDDDDDDDDDDDDDDDDDA'>\n",
      "<re.Match object; span=(0, 1), match='A'>\n",
      "<re.Match object; span=(0, 2), match='DA'>\n",
      "<re.Match object; span=(0, 26), match='DDDDDDDDDDDDDDDDDDDDDDDDDA'>\n",
      "None\n",
      "None\n",
      "<re.Match object; span=(19, 26), match='DDDDDDA'>\n"
     ]
    }
   ],
   "source": [
    "#반복 : * , + , ? , {3} , {3,5}\n",
    "\n",
    "# ? : 최소 0 ~ 최대 1 \n",
    "pattern = re.compile(\"D?A\")\n",
    "print(pattern.search(\"A\"))\n",
    "print(pattern.search(\"DA\"))\n",
    "print(pattern.search(\"AA\"))\n",
    "\n",
    "# + : 최소 1 ~ 최대 무한대\n",
    "pattern = re.compile(\"D+A\")\n",
    "print(pattern.search(\"A\"))  #None\n",
    "print(pattern.search(\"DA\"))\n",
    "print(pattern.search(\"DDDDDDDDDDDDDDDDDDDDDDDDDA\"))\n",
    "\n",
    "\n",
    "\n",
    "# * : 최소 0 ~ 최대 무한대\n",
    "pattern = re.compile(\"D*A\")\n",
    "print(pattern.search(\"A\"))\n",
    "print(pattern.search(\"DA\"))\n",
    "print(pattern.search(\"DDDDDDDDDDDDDDDDDDDDDDDDDA\"))\n",
    "\n",
    "# {2,6}: 최소 2자리 ~ 최대 6자리 \n",
    "pattern = re.compile(\"D{2,6}A\")\n",
    "print(pattern.search(\"A\")) #None\n",
    "print(pattern.search(\"DA\")) #None\n",
    "print(pattern.search(\"DDDDDDDDDDDDDDDDDDDDDDDDDA\"))"
   ]
  },
  {
   "cell_type": "code",
   "execution_count": 21,
   "id": "c90d3cad",
   "metadata": {},
   "outputs": [
    {
     "name": "stdout",
     "output_type": "stream",
     "text": [
      "None\n",
      "None\n",
      "<re.Match object; span=(0, 1), match='a'>\n",
      "None\n",
      "<re.Match object; span=(0, 1), match='a'>\n",
      "<re.Match object; span=(0, 1), match='z'>\n",
      "^\n",
      "<re.Match object; span=(1, 2), match='1'>\n",
      "<re.Match object; span=(1, 2), match='4'>\n"
     ]
    }
   ],
   "source": [
    "# [abc] :[] 안의 문자들 중 어느 하나라도 있으면 매치됩\n",
    "#  = [a-z]\n",
    "#[0-9a-zA-Z] : 대소문자 or 숫자 \n",
    "#[^0-9a-zA-Z] : 대소문자 or 숫자를 제외한 || 대괄호 안에서 ^가 가장 앞에 오면 **부정(negation)**\n",
    "#[가-힣] :한글\n",
    "\n",
    "\n",
    "pattern = re.compile(\"abcdefgABCDEFG\")\n",
    "print(pattern.search(\"a1234\"))\n",
    "print(pattern.search(\"z4567\")) \n",
    "\n",
    "\n",
    "pattern = re.compile(\"[a-gA-G]\")\n",
    "print(pattern.search(\"a1234\"))\n",
    "print(pattern.search(\"z4567\")) \n",
    "\n",
    "\n",
    "pattern = re.compile(\"[a-zA-G0-0]\")\n",
    "print(pattern.search(\"a1234\"))\n",
    "print(pattern.search(\"z4567\")) \n",
    "\n",
    "print(\"^\")\n",
    "pattern = re.compile(\"[^a-zA-G0-0]\")\n",
    "print(pattern.search(\"a1234\"))\n",
    "print(pattern.search(\"z4567\")) \n"
   ]
  },
  {
   "cell_type": "code",
   "execution_count": 28,
   "id": "df4bff58",
   "metadata": {},
   "outputs": [
    {
     "name": "stdout",
     "output_type": "stream",
     "text": [
      "None\n",
      "<re.Match object; span=(1, 4), match='ave'>\n",
      "Dave Dave Dave DA\n",
      "['ame', 'of', 'ife', 'in', 'ython']\n",
      "['Python', 'java']\n"
     ]
    }
   ],
   "source": [
    "pattern = re.compile(\"[a-z]+\")\n",
    "\n",
    "#match()\n",
    "matched = pattern.match(\"Dave\")\n",
    "print(matched)\n",
    "\n",
    "#search()\n",
    "searched = pattern.search(\"Dave\")\n",
    "print(searched)\n",
    "\n",
    "# . : \\n 제외한 모든 문자열 의미\n",
    "origin = \"DDA D1A DDA DA\"\n",
    "#re.sub(\"패턴\", \"바꿀문자열\", \"원본문자열\")\n",
    "print(re.sub(\"D.A\",\"Dave\", origin))\n",
    "\n",
    "#findall() : 정규 표현식과 매칭되는 모든 문자열을 리스트로 반환\n",
    "pattern = re.compile(\"[a-z]+\")\n",
    "print(pattern.findall(\"Game of Life in Python\"))\n",
    "\n",
    "#split() \n",
    "pattern = re.compile(\":\")\n",
    "print(pattern.split(\"Python:java\"))"
   ]
  },
  {
   "cell_type": "code",
   "execution_count": 38,
   "id": "81ad65b4",
   "metadata": {},
   "outputs": [
    {
     "name": "stdout",
     "output_type": "stream",
     "text": [
      "['python', 'java']\n",
      "python\n",
      "java\n",
      "['python VS java']\n",
      "801025-*******\n"
     ]
    }
   ],
   "source": [
    "origin = \"python VS java\"\n",
    "\n",
    "# VS 을 기준으로 분리하고 싶다.\n",
    "\n",
    "#문자열의 split()\n",
    "print(origin.split(\" VS \"))\n",
    "\n",
    "result = (origin.split(\" VS \"))\n",
    "\n",
    "print(\"\\n\".join(result))\n",
    "\n",
    "#re 모듈의 split()\n",
    "pattern = re.compile(\"  [A-Z]{2}  \")\n",
    "print(pattern.split(origin))\n",
    "\n",
    "jumin = \"801025-1011323\"\n",
    "\n",
    "# 뒷자리를 * 로 변경\n",
    "# 801025-*******\n",
    "pattern = re.compile(\"[0-9]{7}\")\n",
    "print(re.sub(pattern, \"*******\", jumin))\n"
   ]
  },
  {
   "cell_type": "code",
   "execution_count": null,
   "id": "d1fd65e9",
   "metadata": {},
   "outputs": [],
   "source": [
    "# (on|use|rida) \n",
    "# () : 캡쳐링(기억) - 정규식은 소비하는 방식(패턴과 문자열이 일치하면 다시 사용되지 않음)\n",
    "        # = ()는 패턴과 일치하는 문자열 부분을 **별도로 저장(캡처)**하여 나중에 재사용할 수 있도록 기억\n",
    "\n"
   ]
  },
  {
   "cell_type": "code",
   "execution_count": 47,
   "id": "cacbd731",
   "metadata": {},
   "outputs": [
    {
     "name": "stdout",
     "output_type": "stream",
     "text": [
      "\n",
      "park 800905-******\n",
      "kim 700905-******\n",
      "\n"
     ]
    }
   ],
   "source": [
    "data = \"\"\"\n",
    "park 800905-1049118\n",
    "kim 700905-1059119\n",
    "\"\"\"\n",
    "# = 패턴을 기억하라\n",
    "pattern = re.compile(r\"(\\d{6})-(\\d{7})\")\n",
    "\n",
    "# re.sub(\"패턴\",\"바꿀문자열\",\"원본문자열\")\n",
    "# pattern.sub()\n",
    "print(pattern.sub(r\"\\g<1>-******\", data))"
   ]
  },
  {
   "cell_type": "code",
   "execution_count": 53,
   "id": "56f8db46",
   "metadata": {},
   "outputs": [
    {
     "name": "stdout",
     "output_type": "stream",
     "text": [
      "<re.Match object; span=(0, 26), match='<html><header>Title</head>'>\n",
      "<re.Match object; span=(0, 6), match='<html>'>\n"
     ]
    }
   ],
   "source": [
    "s = '<html><header>Title</head>'\n",
    "\n",
    "#탐욕적 일치\n",
    "print(re.match(\"<.*>\",s))\n",
    "#소극적 일치\n",
    "print(re.match(\"<.*?>\",s))\n"
   ]
  },
  {
   "cell_type": "code",
   "execution_count": null,
   "id": "1b7a8f60",
   "metadata": {},
   "outputs": [
    {
     "name": "stdout",
     "output_type": "stream",
     "text": [
      "800905-1049118, g<1>-*******\n",
      "700905-1059119, g<1>-*******\n",
      "951225-2345678, g<1>-*******\n"
     ]
    }
   ],
   "source": [
    "## data_kr 엑셀파일에 첫번째 시트 내용 주민번호 열의 내용 출력\n",
    "#주민번호 뒷자리를 ******* 변경 후 출력\n",
    "\n",
    "from openpyxl import Workbook, load_workbook\n",
    "wb = Workbook() #엑셀 파일 생성\n",
    "ws = wb.active # 첫번째 시트 생성\n",
    "\n",
    "ws['A1'] = \"이름\"\n",
    "ws['B1'] = \"주민등록번호\"\n",
    "ws['A2'] = \"박정아\"\n",
    "ws['B2'] = \"800905-1049118\"\n",
    "ws['A3'] = \"김철수\"\n",
    "ws['B3'] = \"700905-1059119\"\n",
    "ws['A4'] = \"이지은\"\n",
    "ws['B4'] = \"951225-2345678\"\n",
    "\n",
    "ws.title = \"주민등록정보\"\n",
    "file_path = \"./data/data_kr2.xlsx\"\n",
    "wb.save(file_path)\n",
    "\n",
    "#앞 6자리를 그룹 1로 캡처,뒤 7자리를 매칭\n",
    "id_pattern = re.compile(r\"(\\d{6})-\\d{7}\")\n",
    "\n",
    "for row in ws.iter_rows():\n",
    "    for cell in row:\n",
    "        if isinstance(cell.value, str) and id_pattern.search(cell.value):\n",
    "            original_id = cell.value\n",
    "\n",
    "            masked_id = id_pattern.sub(r\"g<1>-*******\", original_id)\n",
    "            print(f\"{original_id}, {masked_id}\")\n",
    "wb.close()"
   ]
  },
  {
   "cell_type": "code",
   "execution_count": 61,
   "id": "4d01a6b4",
   "metadata": {},
   "outputs": [
    {
     "name": "stdout",
     "output_type": "stream",
     "text": [
      "주민등록번호\n",
      "800215-*******\n",
      "821030-*******\n",
      "841230-*******\n",
      "790903-*******\n",
      "800125-*******\n",
      "820612-*******\n"
     ]
    }
   ],
   "source": [
    "wb = load_workbook(\"../basic/data/data_kr.xlsx\")\n",
    "ws = wb.active\n",
    "\n",
    "pattern = re.compile(r\"\\d{7}\")\n",
    "for row in ws.iter_rows():\n",
    "    print(re.sub(pattern, \"*******\", row[1].value))\n",
    "wb.close()\n"
   ]
  },
  {
   "cell_type": "code",
   "execution_count": null,
   "id": "c213c4ab",
   "metadata": {},
   "outputs": [],
   "source": [
    "from openpyxl import Workbook, load_workbook\n",
    "wb = load_workbook(\"../basic/data/train.xlsx\")\n",
    "ws = wb.active \n",
    "\n",
    "pattern = re.compile(\"Mr\\.\")\n",
    "for each_row in ws.iter_rows(min_row=2):\n",
    "    name = each_row[3].value\n",
    "    result =  pattern.search(name)\n",
    "    if result != None:\n",
    "        if result.group().strip() == \"Mr\\.\":\n",
    "            print(name)\n",
    "wb.clase()"
   ]
  },
  {
   "cell_type": "code",
   "execution_count": null,
   "id": "c6cfb415",
   "metadata": {},
   "outputs": [],
   "source": [
    "# Mr\\. / Miss. / Mrs. / 없는 경우\n",
    "#이름을 읽어서 새로운 엑셀 파일 생성\n",
    "\n",
    "#남성(Mr.), 미혼여성(Miss.), 기혼여성(Mrs.), 기타 시트(없는 경우임) 생성\n",
    "\n",
    "import re\n",
    "wb = load_workbook(\"../basic/data/train.xlsx\")\n",
    "ws = wb.active \n",
    "\n",
    "# 새 엑셀 파일\n",
    "work_book = Workbook()\n",
    "\n",
    "#첫번째 sheet 가져오기\n",
    "work_sheet_man = work_book.active\n",
    "work_sheet_man.title = \"남성\"\n",
    "\n",
    "#두번째 시트 생성\n",
    "work_sheet_woman = work_book.create_sheet()\n",
    "work_sheet_woman.title = \"기혼여성\"\n",
    "\n",
    "#세번째 시트 생성\n",
    "work_sheet_solo_woman = work_book.create_sheet()\n",
    "work_sheet_solo_woman.title = \"미혼여성\"\n",
    "\n",
    "#네번째 시트 생성\n",
    "work_sheet_other = work_book.create_sheet()\n",
    "work_sheet_other.title = \"기타\"\n",
    "\n",
    "#Mr\\. , Miss. , Mrs.\n",
    "pattern = re.compile(r\" [A-Za-z]\\. \")\n",
    "\n",
    "list1 = []\n",
    "\n",
    "if each_row[0].row == 1:\n",
    "        for item in each_row:\n",
    "            list1.append(item.value)\n",
    "        work_sheet_man.append(list1)\n",
    "        work_sheet_woman.append(list1)\n",
    "        work_sheet_solo_woman.append(list1)\n",
    "        work_sheet_other.append(list1)\n",
    "else:\n",
    "        if data != None:\n",
    "            if result.group().strip() == \"Mr.\" :\n",
    "                    work_sheet_man.append([item.value for item in each_row])\n",
    "            elif result.strip() == \"Mrs.\":\n",
    "                    work_sheet_woman.append([item.value for item in each_row])\n",
    "            elif result.strip() == \"Miss.\":\n",
    "                    work_sheet_solo_woman.append([item.value for item in each_row])\n",
    "            else:\n",
    "                    work_sheet_other.append([item.value for item in each_row])\n",
    "\n",
    "work_book.save(\"./data/train_result.xlsx\")\n",
    "wb.close()\n",
    "work_book.close()"
   ]
  }
 ],
 "metadata": {
  "kernelspec": {
   "display_name": "venv",
   "language": "python",
   "name": "python3"
  },
  "language_info": {
   "codemirror_mode": {
    "name": "ipython",
    "version": 3
   },
   "file_extension": ".py",
   "mimetype": "text/x-python",
   "name": "python",
   "nbconvert_exporter": "python",
   "pygments_lexer": "ipython3",
   "version": "3.13.3"
  }
 },
 "nbformat": 4,
 "nbformat_minor": 5
}
