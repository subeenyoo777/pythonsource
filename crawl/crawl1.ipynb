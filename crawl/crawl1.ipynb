{
 "cells": [
  {
   "cell_type": "markdown",
   "id": "5b9b443f",
   "metadata": {},
   "source": [
    "### 크롤링 vs 스크랩핑\n",
    " - 크롤링(crawling): 주기적으로, 무작위로 데이터 수집(데이터의 양을 우선으로 수집하는 방식) || 웹에서 정보를 수집하는 자동화된 프로세스\n",
    "    - 사이트에서 허용하는 경로만 가능\n",
    " - 스크랩핑(Scraping) : 어떤 특정 카테고리를 선택해서 데이털르 수집(크롤링보다 양이 작은 개념)  || 웹사이트에서 원하는 데이터를 자동적으로 추출하는 기술"
   ]
  },
  {
   "cell_type": "code",
   "execution_count": null,
   "id": "714d9426",
   "metadata": {},
   "outputs": [
    {
     "name": "stdout",
     "output_type": "stream",
     "text": [
      "Date: Wed, 11 Jun 2025 04:12:05 GMT\n",
      "Expires: -1\n",
      "Cache-Control: private, max-age=0\n",
      "Content-Type: text/html; charset=ISO-8859-1\n",
      "Content-Security-Policy-Report-Only: object-src 'none';base-uri 'self';script-src 'nonce-39XpFlgLVLrQIilc0Ie_AA' 'strict-dynamic' 'report-sample' 'unsafe-eval' 'unsafe-inline' https: http:;report-uri https://csp.withgoogle.com/csp/gws/other-hp\n",
      "P3P: CP=\"This is not a P3P policy! See g.co/p3phelp for more info.\"\n",
      "Server: gws\n",
      "X-XSS-Protection: 0\n",
      "X-Frame-Options: SAMEORIGIN\n",
      "Set-Cookie: AEC=AVh_V2jt2OMacSYdr_9OhMawQQbz7CfGPYdZVp4kW0LItjHCYIgr2-36fQ; expires=Mon, 08-Dec-2025 04:12:05 GMT; path=/; domain=.google.com; Secure; HttpOnly; SameSite=lax\n",
      "Set-Cookie: NID=524=OPFkEe-NDDI-kKZch3_sm9yzYo58Ac2HDbPnQnMcGxpxJn2SKRYApIp4zvNIUyU6keFzUKFwy_zymmiwxn0FlXXZxu3DhbcAU9HAjmR8TxmN0eUAr0532UJDmiBspRmEQ0otudxGekxozUBbbrHXRiCZVSatg748hzY32GtLCYatVXbVfQFvfAu6MPM_Tlfy3u2D4gL4ddheHkQQuIU; expires=Thu, 11-Dec-2025 04:12:05 GMT; path=/; domain=.google.com; HttpOnly\n",
      "Accept-Ranges: none\n",
      "Vary: Accept-Encoding\n",
      "Connection: close\n",
      "Transfer-Encoding: chunked\n",
      "\n",
      "\n"
     ]
    }
   ],
   "source": [
    "import urllib.request as req\n",
    "\n",
    "url = \"http://google.com\"\n",
    "\n",
    "#urlretrieve\n",
    "#요청하는 url 정보를 로컬파일로 저장\n",
    "\n",
    "file1, header1 = req.urlretrieve(url, \"./google.html\")\n",
    "print(header1)\n",
    "\n",
    "\n",
    "# ==> 로 나온 HTML 내용은,\n",
    "#  Google 검색 페이지의 기본 구조와 기능| 출력된 헤더는 이 페이지가 웹 서버로부터 어떻게 전달되었는지에 대한 메타 정보"
   ]
  },
  {
   "cell_type": "code",
   "execution_count": null,
   "id": "0b660503",
   "metadata": {},
   "outputs": [
    {
     "name": "stdout",
     "output_type": "stream",
     "text": [
      "date: Wed, 11 Jun 2025 02:12:17 GMT\n",
      "server: ATS/9.2.9\n",
      "etag: W/81006556a394195bfe03a31b3ad7cd3b\n",
      "expires: Fri, 06 Jun 2025 03:26:19 GMT\n",
      "content-type: image/svg+xml\n",
      "x-object-meta-sha1base36: 525nf9nmp1as8dlq62jqm186y7x59ct\n",
      "last-modified: Sun, 21 Aug 2022 15:50:30 GMT\n",
      "age: 7496\n",
      "accept-ranges: bytes\n",
      "x-cache: cp5032 hit, cp5032 hit/8\n",
      "x-cache-status: hit-front\n",
      "server-timing: cache;desc=\"hit-front\", host;desc=\"cp5032\"\n",
      "strict-transport-security: max-age=106384710; includeSubDomains; preload\n",
      "report-to: { \"group\": \"wm_nel\", \"max_age\": 604800, \"endpoints\": [{ \"url\": \"https://intake-logging.wikimedia.org/v1/events?stream=w3c.reportingapi.network_error&schema_uri=/w3c/reportingapi/network_error/1.0.0\" }] }\n",
      "nel: { \"report_to\": \"wm_nel\", \"max_age\": 604800, \"failure_fraction\": 0.05, \"success_fraction\": 0.0}\n",
      "x-client-ip: 121.160.41.53\n",
      "x-content-type-options: nosniff\n",
      "access-control-allow-origin: *\n",
      "access-control-expose-headers: Age, Date, Content-Length, Content-Range, X-Content-Duration, X-Cache\n",
      "timing-allow-origin: *\n",
      "set-cookie: WMF-Uniq=2ZJ_eeVEil5O7aZgIzZbDQIPAAAAAFvd1IIQoMB6QkaOiiEcbQ7NnNMtyB7Db35a;Domain=upload.wikimedia.org;Path=/;HttpOnly;secure;SameSite=None;Expires=Thu, 11 Jun 2026 00:00:00 GMT\n",
      "content-length: 9605\n",
      "connection: close\n",
      "\n",
      "\n"
     ]
    }
   ],
   "source": [
    "#단순히 다운로드 받을 때\n",
    "import urllib.request as req\n",
    "\n",
    "url = \"https://upload.wikimedia.org/wikipedia/commons/c/c3/Python-logo-notext.svg\"\n",
    "\n",
    "\n",
    "file1, header1 = req.urlretrieve(url, \"./python.png\")\n",
    "#print(header1)"
   ]
  }
 ],
 "metadata": {
  "kernelspec": {
   "display_name": "venv",
   "language": "python",
   "name": "python3"
  },
  "language_info": {
   "codemirror_mode": {
    "name": "ipython",
    "version": 3
   },
   "file_extension": ".py",
   "mimetype": "text/x-python",
   "name": "python",
   "nbconvert_exporter": "python",
   "pygments_lexer": "ipython3",
   "version": "3.13.3"
  }
 },
 "nbformat": 4,
 "nbformat_minor": 5
}
