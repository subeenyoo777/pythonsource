{
 "cells": [
  {
   "cell_type": "markdown",
   "id": "0f7f1241",
   "metadata": {},
   "source": [
    "### excel 작성\n",
    "- pip install openpyxl\n",
    "- 파이썬에서 엑셀 프로그램 처리\n"
   ]
  },
  {
   "cell_type": "code",
   "execution_count": 1,
   "id": "d031e1b9",
   "metadata": {},
   "outputs": [],
   "source": [
    "from openpyxl import Workbook, load_workbook"
   ]
  },
  {
   "cell_type": "code",
   "execution_count": null,
   "id": "752ad480",
   "metadata": {},
   "outputs": [],
   "source": [
    "# 엑셀파일 생성\n",
    "wb = Workbook()\n",
    "#첫번째 sheet 가져오기\n",
    "ws = wb.active\n",
    "#시트명 변경\n",
    "ws.title = \"test\"\n",
    "#엑셀파일 저장\n",
    "wb.save(\"./data/sample1.xlsx\")\n",
    "wb.close()"
   ]
  },
  {
   "cell_type": "code",
   "execution_count": 3,
   "id": "3202366a",
   "metadata": {},
   "outputs": [],
   "source": [
    "# 엑셀파일 생성\n",
    "wb = Workbook()\n",
    "\n",
    "#첫번째 sheet 가져오기\n",
    "ws = wb.active\n",
    "\n",
    "#시트명 변경\n",
    "ws.title = \"test\"\n",
    "\n",
    "#두번째 sheet 생성\n",
    "ws2 = wb.create_sheet()\n",
    "ws2.title = \"MySheet\"\n",
    "ws2.sheet_properties.tabColor = \"ff66ff\"\n",
    "\n",
    "#시트 복사\n",
    "new_ws = wb.copy_worksheet(ws)\n",
    "new_ws.title = \"copied Sheet\"\n",
    "\n",
    "\n",
    "#엑셀파일 저장\n",
    "wb.save(\"./data/sample1.xlsx\")\n",
    "wb.close()"
   ]
  },
  {
   "cell_type": "code",
   "execution_count": null,
   "id": "9082eac3",
   "metadata": {},
   "outputs": [],
   "source": [
    "wb = Workbook()\n",
    "#첫번째 sheet 가져오기\n",
    "ws = wb.active\n",
    "#시트명 변경\n",
    "ws.title = \"test\"\n",
    "\n",
    "#셀 접근\n",
    "ws[\"A1\"] = 1\n",
    "ws[\"A2\"] = 2\n",
    "ws[\"A3\"] = 3\n",
    "\n",
    "\n",
    "ws[\"B1\"] = 4\n",
    "ws[\"B2\"] = 5\n",
    "ws[\"B3\"] = 6\n",
    "\n",
    "\n",
    "#엑셀파일 저장\n",
    "wb.save(\"./data/sample1.xlsx\")\n",
    "wb.close()"
   ]
  },
  {
   "cell_type": "code",
   "execution_count": 5,
   "id": "b65ccec5",
   "metadata": {},
   "outputs": [],
   "source": [
    "from random import randint\n",
    "\n",
    "\n",
    "# 엑셀파일 생성\n",
    "wb = Workbook()\n",
    "\n",
    "#첫번째 sheet 가져오기\n",
    "ws = wb.active\n",
    "\n",
    "#시트명 변경\n",
    "ws.title = \"test\"\n",
    "\n",
    "for i in range(1,11):\n",
    "    for j in range(1,11):\n",
    "        ws.cell(row=i, column=j, value=randint(0,100))\n",
    "\n",
    "\n",
    "#엑셀파일 저장\n",
    "wb.save(\"./data/sample2.xlsx\")\n",
    "wb.close()"
   ]
  },
  {
   "cell_type": "code",
   "execution_count": null,
   "id": "f8f1bcc2",
   "metadata": {},
   "outputs": [],
   "source": [
    "# workbook\n",
    "wb = load_workbook(\"./data/sample2.xlsx\")\n",
    "#worksheet\n",
    "ws = wb.active\n",
    "\n",
    "for i in range(1,11):\n",
    "    for j in range(1,11):\n",
    "        print(ws.cell(row=i, column=j).value, end=\"  \")\n",
    "    print()\n"
   ]
  }
 ],
 "metadata": {
  "kernelspec": {
   "display_name": "venv",
   "language": "python",
   "name": "python3"
  },
  "language_info": {
   "codemirror_mode": {
    "name": "ipython",
    "version": 3
   },
   "file_extension": ".py",
   "mimetype": "text/x-python",
   "name": "python",
   "nbconvert_exporter": "python",
   "pygments_lexer": "ipython3",
   "version": "3.13.3"
  }
 },
 "nbformat": 4,
 "nbformat_minor": 5
}
