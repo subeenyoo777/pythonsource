{
 "cells": [
  {
   "cell_type": "markdown",
   "id": "0f7f1241",
   "metadata": {},
   "source": [
    "### excel 작성\n",
    "- pip install openpyxl\n",
    "- 파이썬에서 엑셀 프로그램 처리\n"
   ]
  },
  {
   "cell_type": "code",
   "execution_count": 1,
   "id": "d031e1b9",
   "metadata": {},
   "outputs": [],
   "source": [
    "from openpyxl import Workbook, load_workbook"
   ]
  },
  {
   "cell_type": "code",
   "execution_count": null,
   "id": "752ad480",
   "metadata": {},
   "outputs": [],
   "source": [
    "# 엑셀파일 생성\n",
    "wb = Workbook()\n",
    "#첫번째 sheet 가져오기\n",
    "ws = wb.active\n",
    "#시트명 변경\n",
    "ws.title = \"test\"\n",
    "#엑셀파일 저장\n",
    "wb.save(\"./data/sample1.xlsx\")\n",
    "wb.close()"
   ]
  },
  {
   "cell_type": "code",
   "execution_count": 3,
   "id": "3202366a",
   "metadata": {},
   "outputs": [],
   "source": [
    "# 엑셀파일 생성\n",
    "wb = Workbook()\n",
    "\n",
    "#첫번째 sheet 가져오기\n",
    "ws = wb.active\n",
    "\n",
    "#시트명 변경\n",
    "ws.title = \"test\"\n",
    "\n",
    "#두번째 sheet 생성\n",
    "ws2 = wb.create_sheet()\n",
    "ws2.title = \"MySheet\"\n",
    "ws2.sheet_properties.tabColor = \"ff66ff\"\n",
    "\n",
    "#시트 복사\n",
    "new_ws = wb.copy_worksheet(ws)\n",
    "new_ws.title = \"copied Sheet\"\n",
    "\n",
    "\n",
    "#엑셀파일 저장\n",
    "wb.save(\"./data/sample1.xlsx\")\n",
    "wb.close()"
   ]
  },
  {
   "cell_type": "code",
   "execution_count": null,
   "id": "9082eac3",
   "metadata": {},
   "outputs": [],
   "source": [
    "wb = Workbook()\n",
    "#첫번째 sheet 가져오기\n",
    "ws = wb.active\n",
    "#시트명 변경\n",
    "ws.title = \"test\"\n",
    "\n",
    "#셀 접근\n",
    "ws[\"A1\"] = 1\n",
    "ws[\"A2\"] = 2\n",
    "ws[\"A3\"] = 3\n",
    "\n",
    "\n",
    "ws[\"B1\"] = 4\n",
    "ws[\"B2\"] = 5\n",
    "ws[\"B3\"] = 6\n",
    "\n",
    "\n",
    "#엑셀파일 저장\n",
    "wb.save(\"./data/sample1.xlsx\")\n",
    "wb.close()"
   ]
  },
  {
   "cell_type": "code",
   "execution_count": 5,
   "id": "b65ccec5",
   "metadata": {},
   "outputs": [],
   "source": [
    "from random import randint\n",
    "\n",
    "\n",
    "# 엑셀파일 생성\n",
    "wb = Workbook()\n",
    "\n",
    "#첫번째 sheet 가져오기\n",
    "ws = wb.active\n",
    "\n",
    "#시트명 변경\n",
    "ws.title = \"test\"\n",
    "\n",
    "for i in range(1,11):\n",
    "    for j in range(1,11):\n",
    "        ws.cell(row=i, column=j, value=randint(0,100))\n",
    "\n",
    "\n",
    "#엑셀파일 저장\n",
    "wb.save(\"./data/sample2.xlsx\")\n",
    "wb.close()"
   ]
  },
  {
   "cell_type": "code",
   "execution_count": 7,
   "id": "f8f1bcc2",
   "metadata": {},
   "outputs": [
    {
     "name": "stdout",
     "output_type": "stream",
     "text": [
      "87  17  10  53  36  40  22  13  71  0  \n",
      "77  56  76  57  81  65  31  88  36  79  \n",
      "7  24  71  23  28  17  32  77  58  32  \n",
      "45  10  50  15  99  90  17  97  71  5  \n",
      "69  82  65  36  94  66  72  48  77  33  \n",
      "57  5  78  54  64  43  26  91  84  14  \n",
      "38  58  81  97  23  86  27  74  81  74  \n",
      "41  59  14  17  88  2  18  64  16  73  \n",
      "30  52  70  65  42  5  89  20  18  53  \n",
      "23  62  11  79  16  68  77  62  44  6  \n"
     ]
    }
   ],
   "source": [
    "# workbook\n",
    "wb = load_workbook(\"./data/sample2.xlsx\")\n",
    "#worksheet\n",
    "ws = wb.active\n",
    "\n",
    "for i in range(1,11):\n",
    "    for j in range(1,11):\n",
    "        print(ws.cell(row=i, column=j).value, end=\"  \")\n",
    "    print()\n",
    "\n",
    "wb.close()"
   ]
  }
 ],
 "metadata": {
  "kernelspec": {
   "display_name": "venv",
   "language": "python",
   "name": "python3"
  },
  "language_info": {
   "codemirror_mode": {
    "name": "ipython",
    "version": 3
   },
   "file_extension": ".py",
   "mimetype": "text/x-python",
   "name": "python",
   "nbconvert_exporter": "python",
   "pygments_lexer": "ipython3",
   "version": "3.13.3"
  }
 },
 "nbformat": 4,
 "nbformat_minor": 5
}
