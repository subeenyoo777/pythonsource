{
 "cells": [
  {
   "cell_type": "markdown",
   "id": "d9e400b0",
   "metadata": {},
   "source": [
    "### DB 연동\n",
    " - oracle 연동\n",
    " - pip install oracledb"
   ]
  },
  {
   "cell_type": "code",
   "execution_count": 1,
   "id": "f57b789a",
   "metadata": {},
   "outputs": [],
   "source": [
    "import oracledb\n",
    "from datetime import datetime"
   ]
  },
  {
   "cell_type": "code",
   "execution_count": 2,
   "id": "984d059d",
   "metadata": {},
   "outputs": [],
   "source": [
    "conn = oracledb.connect(user='c##java', password='12345', dsn='localhost/xe')\n",
    "\n",
    "cursor = conn.cursor()"
   ]
  },
  {
   "cell_type": "code",
   "execution_count": 3,
   "id": "f9c5ba01",
   "metadata": {},
   "outputs": [
    {
     "data": {
      "text/plain": [
       "datetime.datetime(2025, 6, 10, 11, 40, 42, 922461)"
      ]
     },
     "execution_count": 3,
     "metadata": {},
     "output_type": "execute_result"
    }
   ],
   "source": [
    "now = datetime.today()\n",
    "now"
   ]
  },
  {
   "cell_type": "code",
   "execution_count": 5,
   "id": "4e07cba8",
   "metadata": {},
   "outputs": [
    {
     "data": {
      "text/plain": [
       "<oracledb.Cursor on <oracledb.Connection to c##java@localhost/xe>>"
      ]
     },
     "execution_count": 5,
     "metadata": {},
     "output_type": "execute_result"
    }
   ],
   "source": [
    "sql =\"select * from boardtbl where bno between 1 and 10\"\n",
    "cursor.execute(sql)"
   ]
  },
  {
   "cell_type": "code",
   "execution_count": 6,
   "id": "64b5d559",
   "metadata": {},
   "outputs": [
    {
     "name": "stdout",
     "output_type": "stream",
     "text": [
      "(1, datetime.datetime(2025, 5, 13, 9, 54, 30, 297025), datetime.datetime(2025, 5, 13, 9, 54, 30, 297025), 'Board Content1', 'user6@gmail.com', 'Board Title1')\n",
      "(2, datetime.datetime(2025, 5, 13, 9, 54, 30, 574867), datetime.datetime(2025, 5, 13, 9, 54, 30, 574867), 'Board Content2', 'user5@gmail.com', 'Board Title2')\n",
      "(3, datetime.datetime(2025, 5, 13, 9, 54, 30, 605849), datetime.datetime(2025, 5, 13, 9, 54, 30, 605849), 'Board Content3', 'user2@gmail.com', 'Board Title3')\n",
      "(4, datetime.datetime(2025, 5, 13, 9, 54, 30, 644826), datetime.datetime(2025, 5, 13, 9, 54, 30, 644826), 'Board Content4', 'user8@gmail.com', 'Board Title4')\n",
      "(5, datetime.datetime(2025, 5, 13, 9, 54, 30, 682805), datetime.datetime(2025, 5, 13, 9, 54, 30, 682805), 'Board Content5', 'user5@gmail.com', 'Board Title5')\n",
      "(6, datetime.datetime(2025, 5, 13, 9, 54, 30, 699795), datetime.datetime(2025, 5, 13, 9, 54, 30, 699795), 'Board Content6', 'user2@gmail.com', 'Board Title6')\n",
      "(7, datetime.datetime(2025, 5, 13, 9, 54, 30, 710789), datetime.datetime(2025, 5, 13, 9, 54, 30, 710789), 'Board Content7', 'user3@gmail.com', 'Board Title7')\n",
      "(8, datetime.datetime(2025, 5, 13, 9, 54, 30, 718783), datetime.datetime(2025, 5, 13, 9, 54, 30, 718783), 'Board Content8', 'user2@gmail.com', 'Board Title8')\n",
      "(9, datetime.datetime(2025, 5, 13, 9, 54, 30, 777750), datetime.datetime(2025, 5, 13, 9, 54, 30, 777750), 'Board Content9', 'user2@gmail.com', 'Board Title9')\n",
      "(10, datetime.datetime(2025, 5, 13, 9, 54, 30, 799738), datetime.datetime(2025, 5, 13, 9, 54, 30, 799738), 'Board Content10', 'user4@gmail.com', 'Board Title10')\n"
     ]
    }
   ],
   "source": [
    "for row in cursor.fetchall():\n",
    "    print(row)"
   ]
  },
  {
   "cell_type": "code",
   "execution_count": 9,
   "id": "cd863b1a",
   "metadata": {},
   "outputs": [
    {
     "data": {
      "text/plain": [
       "(1,\n",
       " datetime.datetime(2025, 5, 13, 9, 54, 30, 297025),\n",
       " datetime.datetime(2025, 5, 13, 9, 54, 30, 297025),\n",
       " 'Board Content1',\n",
       " 'user6@gmail.com',\n",
       " 'Board Title1')"
      ]
     },
     "execution_count": 9,
     "metadata": {},
     "output_type": "execute_result"
    }
   ],
   "source": [
    "#sql = \"select * from boardtbl where bno=:bno\"\n",
    "sql = \"select * from boardtbl where bno=:1\"\n",
    "cursor.execute(sql,(1,))\n",
    "cursor.fetchone()"
   ]
  },
  {
   "cell_type": "code",
   "execution_count": 12,
   "id": "192ec7bb",
   "metadata": {},
   "outputs": [],
   "source": [
    "sql = \"insert into boardtbl (title,content,member_id, created_date, updated_date)\"\n",
    "sql += \"values(:1,:2,:3,:4,:5)\"\n",
    "\n",
    "data = ('python','python data','user1@gmail.com',now, now)\n",
    "cursor.execute(sql,data)\n",
    "conn.commit()"
   ]
  },
  {
   "cell_type": "code",
   "execution_count": 15,
   "id": "d81f1ee0",
   "metadata": {},
   "outputs": [],
   "source": [
    "sql = \"update boardtbl set title=:1, updated_date=:2 where bno=:3\"\n",
    "\n",
    "now = datetime.today()\n",
    "\n",
    "cursor.execute(sql,('update title', now, 102))\n",
    "conn.commit()"
   ]
  },
  {
   "cell_type": "code",
   "execution_count": 16,
   "id": "0facb26d",
   "metadata": {},
   "outputs": [],
   "source": [
    "sql = \"delete from boardtbl where bno=:1\"\n",
    "\n",
    "cursor.execute(sql,(102,))\n",
    "conn.commit()"
   ]
  }
 ],
 "metadata": {
  "kernelspec": {
   "display_name": "venv",
   "language": "python",
   "name": "python3"
  },
  "language_info": {
   "codemirror_mode": {
    "name": "ipython",
    "version": 3
   },
   "file_extension": ".py",
   "mimetype": "text/x-python",
   "name": "python",
   "nbconvert_exporter": "python",
   "pygments_lexer": "ipython3",
   "version": "3.13.3"
  }
 },
 "nbformat": 4,
 "nbformat_minor": 5
}
