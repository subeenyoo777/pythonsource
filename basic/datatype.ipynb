{
 "cells": [
  {
   "cell_type": "markdown",
   "id": "4cfef950",
   "metadata": {},
   "source": [
    "##자료형\n",
    " - 숫자형 : 정수, 실수, 8진수, 16진수"
   ]
  },
  {
   "cell_type": "code",
   "execution_count": 20,
   "id": "9d9103d6",
   "metadata": {},
   "outputs": [
    {
     "data": {
      "text/plain": [
       "127"
      ]
     },
     "execution_count": 20,
     "metadata": {},
     "output_type": "execute_result"
    }
   ],
   "source": [
    "a = 123\n",
    "b = -456\n",
    "\n",
    "#8진수(0o), #16진수(0x)\n",
    "#1 × 8² + 7 × 8¹ + 7 × 8⁰\n",
    "c #===print(c)"
   ]
  },
  {
   "cell_type": "code",
   "execution_count": 21,
   "id": "4099e948",
   "metadata": {},
   "outputs": [
    {
     "name": "stdout",
     "output_type": "stream",
     "text": [
      "7\n",
      "-1\n",
      "12\n",
      "0.75\n",
      "0\n",
      "3\n"
     ]
    }
   ],
   "source": [
    "# 사칙연산 : +, -, *, /, //, %\n",
    "\n",
    "a=3\n",
    "b=4\n",
    "\n",
    "print(a + b)\n",
    "print(a - b)\n",
    "print(a * b)\n",
    "print(a / b) #자바: 몫만 나옴, 자바스크립트,파이썬: 나머지까지 계산(같은 형식) \n",
    "print(a // b) # 자바스크립트,파이썬 : 몫만 구할 때 // 사용\n",
    "print(a % b)"
   ]
  },
  {
   "cell_type": "markdown",
   "id": "4a45109e",
   "metadata": {},
   "source": [
    " - 문자열 자료형\n",
    "     - 작은따옴표, 큰따옴표, 큰따옴표 3개, 작은 따옴표 3개\n",
    "     "
   ]
  },
  {
   "cell_type": "code",
   "execution_count": 22,
   "id": "4c40e9fb",
   "metadata": {},
   "outputs": [
    {
     "data": {
      "text/plain": [
       "\"Python's favorite food is perl\""
      ]
     },
     "execution_count": 22,
     "metadata": {},
     "output_type": "execute_result"
    }
   ],
   "source": [
    "food = \"Python's favorite food is perl\"\n",
    "\n",
    "food"
   ]
  },
  {
   "cell_type": "code",
   "execution_count": 23,
   "id": "25c4f2b4",
   "metadata": {},
   "outputs": [
    {
     "data": {
      "text/plain": [
       "\"Python's favorite food is perl\""
      ]
     },
     "execution_count": 23,
     "metadata": {},
     "output_type": "execute_result"
    }
   ],
   "source": [
    "food = 'Python\\'s favorite food is perl'\n",
    "food"
   ]
  },
  {
   "cell_type": "code",
   "execution_count": 24,
   "id": "413059ed",
   "metadata": {},
   "outputs": [
    {
     "name": "stdout",
     "output_type": "stream",
     "text": [
      "Life is too short\n",
      " You need python\n"
     ]
    }
   ],
   "source": [
    "multiline = \"Life is too short\\n You need python\"\n",
    "print(multiline)"
   ]
  },
  {
   "cell_type": "code",
   "execution_count": 25,
   "id": "f4399082",
   "metadata": {},
   "outputs": [
    {
     "name": "stdout",
     "output_type": "stream",
     "text": [
      "Life is too short\n",
      "You need python\n",
      "Life is too short\n",
      "You need python\n"
     ]
    }
   ],
   "source": [
    "multiline = \"\"\"Life is too short\n",
    "You need python\"\"\"\n",
    "print(multiline)\n",
    "\n",
    "multiline = '''Life is too short\n",
    "You need python'''\n",
    "print(multiline)"
   ]
  },
  {
   "cell_type": "code",
   "execution_count": 26,
   "id": "ff1a8eb8",
   "metadata": {},
   "outputs": [
    {
     "ename": "SyntaxError",
     "evalue": "unterminated string literal (detected at line 1) (896991935.py, line 1)",
     "output_type": "error",
     "traceback": [
      "  \u001b[36mCell\u001b[39m\u001b[36m \u001b[39m\u001b[32mIn[26]\u001b[39m\u001b[32m, line 1\u001b[39m\n\u001b[31m    \u001b[39m\u001b[31mmultiline = \"Life is too short\u001b[39m\n                ^\n\u001b[31mSyntaxError\u001b[39m\u001b[31m:\u001b[39m unterminated string literal (detected at line 1)\n"
     ]
    }
   ],
   "source": [
    "multiline = \"Life is too short\n",
    "You need python\""
   ]
  },
  {
   "cell_type": "markdown",
   "id": "48ba81e7",
   "metadata": {},
   "source": [
    "```\n",
    "- 문자열 연산\n",
    " + :  연결\n",
    " * :  반복\n",
    "```"
   ]
  },
  {
   "cell_type": "code",
   "execution_count": null,
   "id": "bed39cfb",
   "metadata": {},
   "outputs": [
    {
     "name": "stdout",
     "output_type": "stream",
     "text": [
      "pythonis fun\n"
     ]
    }
   ],
   "source": [
    "head = \"Python\"\n",
    "tail = \"is fun\"\n",
    "print(head + tail)"
   ]
  },
  {
   "cell_type": "code",
   "execution_count": null,
   "id": "2e80eb2e",
   "metadata": {},
   "outputs": [
    {
     "name": "stdout",
     "output_type": "stream",
     "text": [
      "pythonpython\n"
     ]
    }
   ],
   "source": [
    "head = \"Python\"\n",
    "print(head * 2)"
   ]
  },
  {
   "cell_type": "code",
   "execution_count": null,
   "id": "1e0ec246",
   "metadata": {},
   "outputs": [
    {
     "name": "stdout",
     "output_type": "stream",
     "text": [
      "==================================================\n",
      "My Program\n",
      "==================================================\n"
     ]
    }
   ],
   "source": [
    "print(\"=\"*50)\n",
    "print(\"My Program\")\n",
    "print(\"=\"*50)"
   ]
  },
  {
   "cell_type": "markdown",
   "id": "ca8ead04",
   "metadata": {},
   "source": [
    " 문자열 인덱싱과 슬리이싱(★)\n",
    "  - 인덱스 : 0(왼쪽)부터 시작, -1 를 붙일 시 오른쪽부터 접근.\n",
    "  "
   ]
  },
  {
   "cell_type": "code",
   "execution_count": null,
   "id": "b84f31ed",
   "metadata": {},
   "outputs": [
    {
     "data": {
      "text/plain": [
       "'Life is too short You need python'"
      ]
     },
     "execution_count": 16,
     "metadata": {},
     "output_type": "execute_result"
    }
   ],
   "source": [
    "str1 = '''Life is too short You need python'''\n",
    "str1"
   ]
  },
  {
   "cell_type": "code",
   "execution_count": null,
   "id": "59f2fabc",
   "metadata": {},
   "outputs": [
    {
     "name": "stdout",
     "output_type": "stream",
     "text": [
      "e\n",
      "n\n"
     ]
    }
   ],
   "source": [
    "#인덱스\n",
    "print (str1[3])\n",
    "print (str1[-1])"
   ]
  },
  {
   "cell_type": "code",
   "execution_count": 28,
   "id": "d3c7acf2",
   "metadata": {},
   "outputs": [
    {
     "name": "stdout",
     "output_type": "stream",
     "text": [
      "e is too short You need python\n",
      "Life i\n",
      "Life is too short You need python\n",
      "Life is too short You need\n"
     ]
    }
   ],
   "source": [
    "#슬라이싱 [시작위치 : 종료위치]\n",
    "#종료위치는 출력에 포함하지 않음\n",
    "#위치 미지정 시 무조건 처음 or 마지막 의미\n",
    "#문자열의 경우, 공백 포함됨.\n",
    "print(str1[3:])\n",
    "print(str1[:6]) #안주면 0 \n",
    "print(str1[:]) \n",
    "print(str1[:-7]) "
   ]
  },
  {
   "cell_type": "code",
   "execution_count": 37,
   "id": "4bf0eea1",
   "metadata": {},
   "outputs": [
    {
     "name": "stdout",
     "output_type": "stream",
     "text": [
      "20250602\n",
      "Rainy\n",
      "20250602\n",
      "Rainy\n"
     ]
    }
   ],
   "source": [
    "a = \"20250602Rainy\"\n",
    "\n",
    "#날짜와 날씨 구분 후 출력\n",
    "print(a[:8])\n",
    "print(a[8:14])\n",
    "\n",
    "date = a[:8]\n",
    "weather = a[8:]\n",
    "print(date)\n",
    "print(weather)"
   ]
  },
  {
   "cell_type": "markdown",
   "id": "f748d03a",
   "metadata": {},
   "source": [
    " - 문자열 포매팅\n",
    "    - %s : 문자열, (모든 것 가능)\n",
    "    - %c : 문자 1개\n",
    "    - %d : 정수\n",
    "    - %f : 부동소수\n",
    "    - %% : 문자 %를 의미"
   ]
  },
  {
   "cell_type": "code",
   "execution_count": 44,
   "id": "54db6952",
   "metadata": {},
   "outputs": [
    {
     "name": "stdout",
     "output_type": "stream",
     "text": [
      "I eat 3 apples\n",
      "I eat 3 apples\n",
      "I eat five apples\n",
      "I ate 3 apples. so I was sick for three days\n",
      "error is 98%\n"
     ]
    }
   ],
   "source": [
    "#%d , %s(숫자,문자 다 받아들임) ,  %f\n",
    "\n",
    "print(\"I eat %d apples\" % 3)\n",
    "print(\"I eat %s apples\" % 3)\n",
    "\n",
    "print (\"I eat %s apples\" % \"five\")\n",
    "print (\"I ate %d apples. so I was sick for %s days\" % (3 , \"three\"))\n",
    "print('error is %d%%' % 98) "
   ]
  },
  {
   "cell_type": "code",
   "execution_count": 46,
   "id": "ddd3acca",
   "metadata": {},
   "outputs": [
    {
     "name": "stdout",
     "output_type": "stream",
     "text": [
      "hi\n",
      "        hi\n",
      "hi        \n"
     ]
    }
   ],
   "source": [
    "print('%s' % 'hi')  #(문자는 오른쪽 정렬)\n",
    "print('%10s' % 'hi') #오른쪽 정렬\n",
    "print('%-10s' % 'hi') #왼쪽 정렬"
   ]
  },
  {
   "cell_type": "code",
   "execution_count": 50,
   "id": "334e662c",
   "metadata": {},
   "outputs": [
    {
     "name": "stdout",
     "output_type": "stream",
     "text": [
      "3.1234\n",
      "    3.1234\n"
     ]
    }
   ],
   "source": [
    "print(\"%.4f\" % 3.12341234)\n",
    "print(\"%10.4f\" % 3.12341234)"
   ]
  },
  {
   "cell_type": "markdown",
   "id": "b2a88fc1",
   "metadata": {},
   "source": [
    "format 함수 사용한 포매팅"
   ]
  },
  {
   "cell_type": "code",
   "execution_count": 51,
   "id": "054c987c",
   "metadata": {},
   "outputs": [
    {
     "name": "stdout",
     "output_type": "stream",
     "text": [
      "I eat 3 apples\n",
      "I eat 3 apples\n",
      "I eat five apples\n"
     ]
    }
   ],
   "source": [
    "print(\"I eat {0} apples\".format(3))\n",
    "print(\"I eat {0} apples\".format(3))\n",
    "print(\"I eat {0} apples\".format(\"five\"))\n",
    "\n",
    "print (\"I ate {0} apples. so I was sick for {1} days\".format(3 , \"three\"))\n",
    "print('error is %d%%' % 98) "
   ]
  },
  {
   "cell_type": "code",
   "execution_count": 55,
   "id": "136519dd",
   "metadata": {},
   "outputs": [
    {
     "name": "stdout",
     "output_type": "stream",
     "text": [
      "I eat 3 apples\n",
      "I eat 3 apples\n",
      "I eat 3 apples\n"
     ]
    }
   ],
   "source": [
    "number =3\n",
    "print(\"I eat %d apples\" % number)\n",
    "print(\"I eat {0} apples\".format(number))\n",
    "\n",
    "print(\"I eat\", number, \"apples\")"
   ]
  },
  {
   "cell_type": "markdown",
   "id": "246e89ec",
   "metadata": {},
   "source": [
    "f 문자열 포매팅"
   ]
  },
  {
   "cell_type": "code",
   "execution_count": 58,
   "id": "577e4200",
   "metadata": {},
   "outputs": [
    {
     "name": "stdout",
     "output_type": "stream",
     "text": [
      "나의 이름은 홍길동입니다. 나이는 30 입니다.\n",
      "나의 이름은 홍길동입니다. 나이는 31입니다.\n"
     ]
    }
   ],
   "source": [
    "name = '홍길동'\n",
    "age =30\n",
    "\n",
    "print(f\"나의 이름은 {name}입니다. 나이는 {age} 입니다.\")\n",
    "print(f\"나의 이름은 {name}입니다. 나이는 {age + 1}입니다.\")"
   ]
  },
  {
   "cell_type": "markdown",
   "id": "4b2d227f",
   "metadata": {},
   "source": [
    "문자열 관련 함수"
   ]
  },
  {
   "cell_type": "code",
   "execution_count": 60,
   "id": "324b9631",
   "metadata": {},
   "outputs": [
    {
     "data": {
      "text/plain": [
       "2"
      ]
     },
     "execution_count": 60,
     "metadata": {},
     "output_type": "execute_result"
    }
   ],
   "source": [
    "a = \"hobby\"\n",
    "\n",
    "#Count() : 특정 문자열 개수\n",
    "\n",
    "a.count('b')"
   ]
  },
  {
   "cell_type": "code",
   "execution_count": 61,
   "id": "1b6491ae",
   "metadata": {},
   "outputs": [
    {
     "data": {
      "text/plain": [
       "5"
      ]
     },
     "execution_count": 61,
     "metadata": {},
     "output_type": "execute_result"
    }
   ],
   "source": [
    "#길이\n",
    "len(a)"
   ]
  },
  {
   "cell_type": "code",
   "execution_count": 67,
   "id": "43912bea",
   "metadata": {},
   "outputs": [
    {
     "name": "stdout",
     "output_type": "stream",
     "text": [
      "14\n",
      "14\n",
      "-1\n"
     ]
    }
   ],
   "source": [
    "a = \"Python is the best choice\"\n",
    "\n",
    "#b 라는 문자가 처음 나온 위치가 궁금하다면?\n",
    " #find(찾을문자, 시작위치(옵션))\n",
    "print(a.find(\"b\"))\n",
    "print(a.find(\"b\", 10))\n",
    "print(a.rfind(\"b\")) # rfind : 오른쪽부터 찾음.\n",
    "print(a.find(\"k\")) # 없는 문자일경우(indexOf마냥) -1, 안전하게 하고자 find 사용 권면."
   ]
  },
  {
   "cell_type": "code",
   "execution_count": 68,
   "id": "f08f1659",
   "metadata": {},
   "outputs": [
    {
     "name": "stdout",
     "output_type": "stream",
     "text": [
      "14\n"
     ]
    }
   ],
   "source": [
    "print(a.index(\"b\"))\n",
    "#print(a.index(\"k\")) #인덱스는 찾는 문자열이 없을 경우 error 반환함."
   ]
  },
  {
   "cell_type": "code",
   "execution_count": 70,
   "id": "207a4442",
   "metadata": {},
   "outputs": [
    {
     "name": "stdout",
     "output_type": "stream",
     "text": [
      "True\n",
      "False\n"
     ]
    }
   ],
   "source": [
    "#startswith() : 특정 문자로 시작하는\n",
    "#endswith() : 특정 문자로 끝하는\n",
    "print(a.startswith(\"P\"))\n",
    "print(a.endswith(\"P\"))\n"
   ]
  },
  {
   "cell_type": "code",
   "execution_count": 71,
   "id": "1dedc83b",
   "metadata": {},
   "outputs": [
    {
     "name": "stdout",
     "output_type": "stream",
     "text": [
      "abcde\n",
      "ABCD\n"
     ]
    }
   ],
   "source": [
    "#join() : 리스트를 일반 문자열로 변경 시 가장 많이 사용\n",
    "\n",
    "print(\"\".join(\"abcde\"))\n",
    "print(\"\".join([\"A\", \"B\", \"C\", \"D\"]))"
   ]
  },
  {
   "cell_type": "code",
   "execution_count": 75,
   "id": "cc88dc6b",
   "metadata": {},
   "outputs": [
    {
     "name": "stdout",
     "output_type": "stream",
     "text": [
      "ABCDE\n",
      "abcde\n",
      "aBcDe\n"
     ]
    }
   ],
   "source": [
    "#upper(), lower()\n",
    "#swacase() : 대소문자 상호 변환\n",
    "a = \"abcde\"\n",
    "print(a.upper())\n",
    "\n",
    "a=\"ABCDE\"\n",
    "print(a.lower())\n",
    "\n",
    "a=\"AbCdE\"\n",
    "print(a.swapcase())"
   ]
  },
  {
   "cell_type": "code",
   "execution_count": null,
   "id": "336323a5",
   "metadata": {},
   "outputs": [
    {
     "name": "stdout",
     "output_type": "stream",
     "text": [
      "   hi\n",
      "hi\n",
      "hi   \n",
      "hi\n",
      "   hi   \n",
      "hi\n"
     ]
    }
   ],
   "source": [
    "#공백 제거\n",
    "#lstrip() : 왼쪽 공백 제거\n",
    "#rstrip() : 오른쪽 공백 제거\n",
    "#strip() : 양쪽 공백 제거\n",
    "\n",
    "a = \"   hi\"\n",
    "print(a)\n",
    "print(a.lstrip())\n",
    "\n",
    "a = \"hi   \"\n",
    "print(a)\n",
    "print(a.rstrip())\n",
    "\n",
    "a = \"   hi   \"\n",
    "print(a)\n",
    "print(a.strip())\n",
    "\n"
   ]
  },
  {
   "cell_type": "code",
   "execution_count": 82,
   "id": "82e1534d",
   "metadata": {},
   "outputs": [
    {
     "data": {
      "text/plain": [
       "'Your leg is too short'"
      ]
     },
     "execution_count": 82,
     "metadata": {},
     "output_type": "execute_result"
    }
   ],
   "source": [
    "#문자열 변경: replace\n",
    "#***원본 변경되지 않음.\n",
    "\n",
    "a = \"Life is too short\"\n",
    "a.replace(\"Life\", \"Your leg\")"
   ]
  },
  {
   "cell_type": "code",
   "execution_count": 85,
   "id": "a75934ea",
   "metadata": {},
   "outputs": [
    {
     "name": "stdout",
     "output_type": "stream",
     "text": [
      "['a:b:c:d']\n",
      "['a', 'b', 'c', 'd']\n"
     ]
    }
   ],
   "source": [
    "#문자열 나누기 : split\n",
    "#default는 공백기준으로 나눔.\n",
    "#list로 반환해줌.  -> [대괄호 형식]\n",
    "\n",
    "print(a.split())\n",
    "\n",
    "a = \"a:b:c:d\"\n",
    "print(a.split(\":\"))"
   ]
  },
  {
   "cell_type": "code",
   "execution_count": 91,
   "id": "9bea0e6f",
   "metadata": {},
   "outputs": [
    {
     "name": "stdout",
     "output_type": "stream",
     "text": [
      "True\n",
      "False\n",
      "True\n",
      "False\n",
      "False\n",
      "True\n"
     ]
    }
   ],
   "source": [
    "#문자열 구성 파악\n",
    "print(\"1234\".isdigit()) \n",
    "print(\"1234\".isalpha())\n",
    "print(\"1234\".isalnum()) # isalnum : alpha + num \n",
    "print(\"ABCD\".islower())\n",
    "print(\"abcd\".isupper())\n",
    "print(\"    \".isspace())\n",
    "\n",
    "\n"
   ]
  }
 ],
 "metadata": {
  "kernelspec": {
   "display_name": "venv",
   "language": "python",
   "name": "python3"
  },
  "language_info": {
   "codemirror_mode": {
    "name": "ipython",
    "version": 3
   },
   "file_extension": ".py",
   "mimetype": "text/x-python",
   "name": "python",
   "nbconvert_exporter": "python",
   "pygments_lexer": "ipython3",
   "version": "3.13.3"
  }
 },
 "nbformat": 4,
 "nbformat_minor": 5
}
