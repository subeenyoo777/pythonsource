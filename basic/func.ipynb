{
 "cells": [
  {
   "cell_type": "markdown",
   "id": "01a0321c",
   "metadata": {},
   "source": [
    "### 함수\n",
    "``` \n",
    " def 함수명(매개변수) : \n",
    "        수행할 문장n\n",
    "```"
   ]
  },
  {
   "cell_type": "code",
   "execution_count": 1,
   "id": "c2bf3df3",
   "metadata": {},
   "outputs": [],
   "source": [
    "def add(a,b):\n",
    "    return a + b"
   ]
  },
  {
   "cell_type": "code",
   "execution_count": 4,
   "id": "2a37b245",
   "metadata": {},
   "outputs": [
    {
     "name": "stdout",
     "output_type": "stream",
     "text": [
      "11\n"
     ]
    }
   ],
   "source": [
    "print(add(5,6))"
   ]
  },
  {
   "cell_type": "code",
   "execution_count": 5,
   "id": "1ee62db8",
   "metadata": {},
   "outputs": [
    {
     "name": "stdout",
     "output_type": "stream",
     "text": [
      "Hi\n"
     ]
    }
   ],
   "source": [
    "def say():\n",
    "    return \"Hi\"\n",
    "\n",
    "print(say())"
   ]
  },
  {
   "cell_type": "code",
   "execution_count": 6,
   "id": "3231cc6c",
   "metadata": {},
   "outputs": [
    {
     "name": "stdout",
     "output_type": "stream",
     "text": [
      "12\n"
     ]
    }
   ],
   "source": [
    "#+매개변수를 지정할 수 있음\n",
    "print(add(a=7, b=5))"
   ]
  },
  {
   "cell_type": "code",
   "execution_count": null,
   "id": "0d576d00",
   "metadata": {},
   "outputs": [],
   "source": [
    "#기본 매개변수 지정 #n 미지정시 2번만.\n",
    "def print_n_times(value, n=2):\n",
    "    for i in range(n):\n",
    "        print(value)\n",
    "        "
   ]
  },
  {
   "cell_type": "code",
   "execution_count": 9,
   "id": "9bd33183",
   "metadata": {},
   "outputs": [
    {
     "name": "stdout",
     "output_type": "stream",
     "text": [
      "안녕하세요\n",
      "안녕하세요\n",
      "안녕하세요\n",
      "안녕하세요\n",
      "안녕하세요\n"
     ]
    }
   ],
   "source": [
    "\n",
    "print_n_times(\"안녕하세요\",5)"
   ]
  },
  {
   "cell_type": "code",
   "execution_count": null,
   "id": "12f2dee4",
   "metadata": {},
   "outputs": [],
   "source": [
    "#가변 매개변수 (\"*\"~로 선언)\n",
    "\n",
    "def add_many(*args):\n",
    "    print(args)\n",
    "\n",
    "#가변 매개변수 뒤에는 일반매개변수가 올 수 없음 = 가변 매개변수는 늘 마지막에 선언. = 일반은 앞에\n",
    "#가변매개변수는 하나만 사용한다.\n",
    "def add_many2(*args, n):\n",
    "    print(args)"
   ]
  },
  {
   "cell_type": "code",
   "execution_count": 15,
   "id": "5f67b184",
   "metadata": {},
   "outputs": [
    {
     "name": "stdout",
     "output_type": "stream",
     "text": [
      "()\n",
      "('35', '24', '45')\n",
      "('A', 'B', 'C', 'D')\n",
      "([1, 2, 3, 4, 5],)\n"
     ]
    }
   ],
   "source": [
    "#얼마나 필요할지 모를 때 가변 매개변수 사용\n",
    "add_many()#없든\n",
    "add_many(\"35\",\"24\",\"45\")#3개넣든\n",
    "add_many(\"A\",\"B\",\"C\",\"D\")#4개 넣든\n",
    "add_many([1,2,3,4,5])#[]로 오든\n",
    "\n",
    "\n",
    "# add_many2([1,2,3,4,5],33)\n"
   ]
  },
  {
   "cell_type": "code",
   "execution_count": 37,
   "id": "983e290c",
   "metadata": {},
   "outputs": [],
   "source": [
    "#일반,가변 매개변수 함께 선언\n",
    "def add_mul(choice, *args):\n",
    "    if choice == \"add\":\n",
    "        result = 0\n",
    "        for i in args:\n",
    "            result = result + i\n",
    "    elif choice == \"mul\":\n",
    "        result = 1\n",
    "        for i in args:\n",
    "            result = result * i\n",
    "    return result"
   ]
  },
  {
   "cell_type": "code",
   "execution_count": 38,
   "id": "c7d8d6cd",
   "metadata": {},
   "outputs": [
    {
     "name": "stdout",
     "output_type": "stream",
     "text": [
      "46\n",
      "17160\n"
     ]
    }
   ],
   "source": [
    "print(add_mul(\"add\",10,11,12,13))\n",
    "print(add_mul(\"mul\",10,11,12,13))"
   ]
  },
  {
   "cell_type": "code",
   "execution_count": 24,
   "id": "d88f990b",
   "metadata": {},
   "outputs": [],
   "source": [
    "#키워드 매개변수 : **kwargs\n",
    "#매개변수를 딕셔너리 형태로 처리\n",
    "\n",
    "def args_func1(**kwargs):\n",
    "    print(kwargs)\n",
    "    for k in kwargs.keys():\n",
    "        print(k)\n",
    "    for v in kwargs.values():\n",
    "        print(v)    \n"
   ]
  },
  {
   "cell_type": "code",
   "execution_count": 25,
   "id": "2d141314",
   "metadata": {},
   "outputs": [
    {
     "name": "stdout",
     "output_type": "stream",
     "text": [
      "{'name': 'Kim'}\n",
      "name\n",
      "Kim\n",
      "{'name': 'Kim', 'age': 15, 'active': 'Test'}\n",
      "name\n",
      "age\n",
      "active\n",
      "Kim\n",
      "15\n",
      "Test\n",
      "{'name': 'Kim', 'year': '2025'}\n",
      "name\n",
      "year\n",
      "Kim\n",
      "2025\n"
     ]
    }
   ],
   "source": [
    "args_func1(name =\"Kim\")\n",
    "args_func1(name =\"Kim\", age = 15, active = \"Test\")\n",
    "args_func1(name =\"Kim\", year = \"2025\")"
   ]
  },
  {
   "cell_type": "code",
   "execution_count": 29,
   "id": "7b550d04",
   "metadata": {},
   "outputs": [],
   "source": [
    "def example_mul(arg1, arg2=5, *args, **kwargs):\n",
    "    print(arg1, arg2, args, kwargs)"
   ]
  },
  {
   "cell_type": "code",
   "execution_count": 30,
   "id": "f67247df",
   "metadata": {},
   "outputs": [
    {
     "name": "stdout",
     "output_type": "stream",
     "text": [
      "10 20 () {}\n",
      "10 5 () {}\n",
      "10 15 ('park', 'kim') {}\n",
      "10 15 ('park', 'kim') {'age': 25, 'name': 'choi'}\n"
     ]
    }
   ],
   "source": [
    "example_mul(10,20)\n",
    "example_mul(10)\n",
    "example_mul(10,15,\"park\",\"kim\")\n",
    "example_mul(10,15,\"park\",\"kim\", age= 25, name=\"choi\")"
   ]
  },
  {
   "cell_type": "code",
   "execution_count": null,
   "id": "65dd5d18",
   "metadata": {},
   "outputs": [],
   "source": [
    "#다중 리턴(처럼 보이나 실상 tuple 로 묶어서 하나로 내보내는 것 | 리턴값 하나)\n",
    "def func(a,b):\n",
    "    return a+b, a*b"
   ]
  },
  {
   "cell_type": "code",
   "execution_count": 36,
   "id": "8c56666c",
   "metadata": {},
   "outputs": [
    {
     "name": "stdout",
     "output_type": "stream",
     "text": [
      "(11, 30)\n"
     ]
    }
   ],
   "source": [
    "print(func(5,6))"
   ]
  },
  {
   "cell_type": "code",
   "execution_count": 39,
   "id": "c33062f9",
   "metadata": {},
   "outputs": [],
   "source": [
    "def func2(a,b):\n",
    "    return [a+b, a*b, a-b]"
   ]
  },
  {
   "cell_type": "code",
   "execution_count": 41,
   "id": "02ffe0b9",
   "metadata": {},
   "outputs": [
    {
     "name": "stdout",
     "output_type": "stream",
     "text": [
      "[17, 66, 5]\n"
     ]
    }
   ],
   "source": [
    "print(func2(11,6))"
   ]
  },
  {
   "cell_type": "code",
   "execution_count": 51,
   "id": "a78bde63",
   "metadata": {},
   "outputs": [],
   "source": [
    "#[사칙연산]\n",
    "# 두개의 숫자와 세개의 매개변수 입력받아 사칙연산 결과 리턴 받는 함수 생성\n",
    "\n",
    "def fourRules(x,y,op):\n",
    "    result = 0\n",
    "    if op == \"+\":\n",
    "        result = x + y\n",
    "    elif op == \"-\":\n",
    "        result = x - y \n",
    "    elif op == \"*\":\n",
    "         result = x * y   \n",
    "    elif op == \"/\":\n",
    "         result = x / y\n",
    "    return result"
   ]
  },
  {
   "cell_type": "code",
   "execution_count": 50,
   "id": "b60e2067",
   "metadata": {},
   "outputs": [
    {
     "name": "stdout",
     "output_type": "stream",
     "text": [
      "11\n",
      "9\n",
      "36\n",
      "1.6666666666666667\n"
     ]
    }
   ],
   "source": [
    "print(fourRules(5,6,\"+\"))\n",
    "print(fourRules(15,6,\"-\"))\n",
    "print(fourRules(6,6,\"*\"))\n",
    "print(fourRules(10,6,\"/\"))"
   ]
  },
  {
   "cell_type": "code",
   "execution_count": null,
   "id": "a983a0be",
   "metadata": {},
   "outputs": [],
   "source": [
    "#람다함수\n",
    "#익명함수\n",
    "#한번만 쓸 때 사용함.\n",
    "\n",
    "def square(x):\n",
    "    return x**2\n",
    "\n",
    "\n",
    "square2 = lambda x:x**2"
   ]
  },
  {
   "cell_type": "code",
   "execution_count": 54,
   "id": "df6095ec",
   "metadata": {},
   "outputs": [
    {
     "name": "stdout",
     "output_type": "stream",
     "text": [
      "25\n"
     ]
    }
   ],
   "source": [
    "print(square(5))"
   ]
  },
  {
   "cell_type": "code",
   "execution_count": null,
   "id": "82921efc",
   "metadata": {},
   "outputs": [
    {
     "name": "stdout",
     "output_type": "stream",
     "text": [
      "<class 'function'>\n"
     ]
    }
   ],
   "source": [
    "print(type(square2)) #타입: <class 'function'>"
   ]
  },
  {
   "cell_type": "code",
   "execution_count": 57,
   "id": "6d5b1f25",
   "metadata": {},
   "outputs": [
    {
     "name": "stdout",
     "output_type": "stream",
     "text": [
      "36\n"
     ]
    }
   ],
   "source": [
    "print(square2(6))"
   ]
  },
  {
   "cell_type": "code",
   "execution_count": null,
   "id": "563d55b2",
   "metadata": {},
   "outputs": [],
   "source": [
    "def add(a,b):\n",
    "    return a + b\n",
    "\n",
    "add2 = lambda a,b : a+b"
   ]
  },
  {
   "cell_type": "code",
   "execution_count": 60,
   "id": "fbcaedfa",
   "metadata": {},
   "outputs": [
    {
     "name": "stdout",
     "output_type": "stream",
     "text": [
      "17\n"
     ]
    }
   ],
   "source": [
    "print(add2(6,11))"
   ]
  },
  {
   "cell_type": "code",
   "execution_count": 65,
   "id": "5f45b9e4",
   "metadata": {},
   "outputs": [
    {
     "name": "stdout",
     "output_type": "stream",
     "text": [
      "['bob', 'charles', 'alexander3', 'teddy']\n",
      "['alexander3', 'bob', 'charles', 'teddy']\n"
     ]
    }
   ],
   "source": [
    "list1 = [\"bob\", \"charles\", \"alexander3\", \"teddy\"]\n",
    "\n",
    "print(list1)\n",
    "list1.sort() #알파벳 순서대로 오름차순(default)\n",
    "print(list1)"
   ]
  },
  {
   "cell_type": "code",
   "execution_count": null,
   "id": "9a4752f9",
   "metadata": {},
   "outputs": [
    {
     "data": {
      "text/plain": [
       "['bob', 'teddy', 'charles', 'alexander3']"
      ]
     },
     "execution_count": 64,
     "metadata": {},
     "output_type": "execute_result"
    }
   ],
   "source": [
    "# 문자의 길이가 짧은 순서대로 정렬\n",
    "# => sort 기준을 만들어야 함.\n",
    "\n",
    "def str_len(s):\n",
    "    return len(s)\n",
    "\n",
    "list1.sort(key=str_len)\n",
    "list1"
   ]
  },
  {
   "cell_type": "code",
   "execution_count": 66,
   "id": "35cf34b3",
   "metadata": {},
   "outputs": [
    {
     "data": {
      "text/plain": [
       "['bob', 'teddy', 'charles', 'alexander3']"
      ]
     },
     "execution_count": 66,
     "metadata": {},
     "output_type": "execute_result"
    }
   ],
   "source": [
    "#람다식으로 \n",
    "\n",
    "list1 = [\"bob\", \"charles\", \"alexander3\", \"teddy\"]\n",
    "\n",
    "list1.sort(key=lambda s:len(s))\n",
    "list1"
   ]
  },
  {
   "cell_type": "code",
   "execution_count": 73,
   "id": "928be6e3",
   "metadata": {},
   "outputs": [
    {
     "name": "stdout",
     "output_type": "stream",
     "text": [
      "[2, 4, 10, 12, 14]\n"
     ]
    }
   ],
   "source": [
    "#filter, map: 실행 후 새로운 리스트로 반환\n",
    "\n",
    "list1 = [1,2,3,4,5,7,9,10,12,14]\n",
    "\n",
    "#list1에서 짝수만 추출한 후 새로운 리스트로 만드는 함수 생성\n",
    "list2 = [x for x in list1 if x % 2 == 0]\n",
    "print(list2)\n",
    "\n",
    "def even(data):\n",
    "    return [x for x in data if x % 2 == 0]"
   ]
  },
  {
   "cell_type": "code",
   "execution_count": 72,
   "id": "7722e616",
   "metadata": {},
   "outputs": [
    {
     "name": "stdout",
     "output_type": "stream",
     "text": [
      "[2, 4, 10, 12, 14]\n",
      "[2, 4, 10, 12, 14]\n"
     ]
    }
   ],
   "source": [
    "print(even([22,3,4,5,6,7,9,8]))\n",
    "print(even(list1))"
   ]
  },
  {
   "cell_type": "code",
   "execution_count": null,
   "id": "61b3f583",
   "metadata": {},
   "outputs": [
    {
     "data": {
      "text/plain": [
       "[2, 4, 10, 12, 14]"
      ]
     },
     "execution_count": 76,
     "metadata": {},
     "output_type": "execute_result"
    }
   ],
   "source": [
    "# filter(함수, 필터 적용할 list)\n",
    "#filter( even,list1) #<filter at 0x21e9dbdb820>\n",
    "#필터링할 조건만 작성해준다.\n",
    "def even(n):\n",
    "    return n % 2 == 0\n",
    "\n",
    "list(filter(even, list1))"
   ]
  },
  {
   "cell_type": "code",
   "execution_count": 77,
   "id": "68832774",
   "metadata": {},
   "outputs": [
    {
     "data": {
      "text/plain": [
       "[2, 4, 10, 12, 14]"
      ]
     },
     "execution_count": 77,
     "metadata": {},
     "output_type": "execute_result"
    }
   ],
   "source": [
    "list(filter(lambda n :  n % 2 == 0, list1))"
   ]
  },
  {
   "cell_type": "code",
   "execution_count": 78,
   "id": "e14083ec",
   "metadata": {},
   "outputs": [
    {
     "data": {
      "text/plain": [
       "[1, 4, 9, 16, 25, 49, 81, 100, 144, 196]"
      ]
     },
     "execution_count": 78,
     "metadata": {},
     "output_type": "execute_result"
    }
   ],
   "source": [
    "#map(함수, 리스트)\n",
    "\n",
    "def mul(x):\n",
    "    return x **2\n",
    "\n",
    "list(map(mul, list1))"
   ]
  },
  {
   "cell_type": "code",
   "execution_count": 79,
   "id": "5c806bc6",
   "metadata": {},
   "outputs": [
    {
     "data": {
      "text/plain": [
       "[1, 4, 9, 16, 25, 49, 81, 100, 144, 196]"
      ]
     },
     "execution_count": 79,
     "metadata": {},
     "output_type": "execute_result"
    }
   ],
   "source": [
    "list(map(lambda x : x**2 , list1))"
   ]
  }
 ],
 "metadata": {
  "kernelspec": {
   "display_name": "venv",
   "language": "python",
   "name": "python3"
  },
  "language_info": {
   "codemirror_mode": {
    "name": "ipython",
    "version": 3
   },
   "file_extension": ".py",
   "mimetype": "text/x-python",
   "name": "python",
   "nbconvert_exporter": "python",
   "pygments_lexer": "ipython3",
   "version": "3.13.3"
  }
 },
 "nbformat": 4,
 "nbformat_minor": 5
}
