{
 "cells": [
  {
   "cell_type": "markdown",
   "id": "39c2c23c",
   "metadata": {},
   "source": [
    "제어문\n",
    " - if\n",
    " "
   ]
  },
  {
   "cell_type": "code",
   "execution_count": null,
   "id": "cd3d1542",
   "metadata": {},
   "outputs": [],
   "source": [
    "a = 200\n",
    "if a < 100:\n",
    "    print(\"a는 100보다 작다.\")"
   ]
  },
  {
   "cell_type": "code",
   "execution_count": null,
   "id": "7e28ea0d",
   "metadata": {},
   "outputs": [
    {
     "name": "stdout",
     "output_type": "stream",
     "text": [
      "a는 100보다 크고 300보다 작다.\n"
     ]
    }
   ],
   "source": [
    "#기존코드# a > 100 and a < 300\n",
    "\n",
    "if 100 < a < 300:\n",
    "    print(\"a는 100보다 크고 300보다 작다.\")\n"
   ]
  },
  {
   "cell_type": "code",
   "execution_count": 12,
   "id": "8a6770b9",
   "metadata": {},
   "outputs": [
    {
     "name": "stdout",
     "output_type": "stream",
     "text": [
      "가장 큰 수는 18\n"
     ]
    }
   ],
   "source": [
    "#a = 12,b = 6 ,c = 18\n",
    "# 가장 큰 수를 출력  \n",
    "\n",
    "# a = 12 \n",
    "# b = 6\n",
    "# c = 18\n",
    "\n",
    "# if a < b: \n",
    "#     if c < b :\n",
    "#         print(\"제일 큰 수는 b입니다\")\n",
    "#     if c < a :\n",
    "#         print(\"제일 큰 수는 a입니다\") \n",
    "# print(\"제일 큰 수는 c입니다.\")        \n",
    "\n",
    "a,b,c =12,6,18\n",
    "\n",
    "max = a\n",
    "if max < b:\n",
    "    max = b\n",
    "if max < c:\n",
    "    max =c\n",
    "print(f\"가장 큰 수는 {max}\")        "
   ]
  },
  {
   "cell_type": "code",
   "execution_count": 13,
   "id": "2ec49a23",
   "metadata": {},
   "outputs": [
    {
     "name": "stdout",
     "output_type": "stream",
     "text": [
      "a는 100보다 작다\n"
     ]
    }
   ],
   "source": [
    "if a < 100:\n",
    "    print(\"a는 100보다 작다\")\n",
    "else:\n",
    "    print(\"a는 100보다 크다\")    \n"
   ]
  },
  {
   "cell_type": "code",
   "execution_count": 14,
   "id": "4d59547d",
   "metadata": {},
   "outputs": [
    {
     "name": "stdout",
     "output_type": "stream",
     "text": [
      "불합격\n"
     ]
    }
   ],
   "source": [
    "# && 부호는 python 사용 불가\n",
    "# \"and\" 사용\n",
    "\n",
    "score, grade = 90, \"A\"\n",
    "\n",
    "if score > 90 and grade == \"A\":\n",
    "    print(\"합격\")\n",
    "else: \n",
    "    print(\"불합격\")\n"
   ]
  },
  {
   "cell_type": "code",
   "execution_count": null,
   "id": "8184b9cf",
   "metadata": {},
   "outputs": [
    {
     "name": "stdout",
     "output_type": "stream",
     "text": [
      "1 출력값\n"
     ]
    }
   ],
   "source": [
    "#사용자한테 입력받은 숫자가 짝수/홀수인지 출력\n",
    "#input()은 string으로 반환함.\n",
    "\n",
    "num = int(input(\"숫자 입력\"))\n",
    "\n",
    "if num % 2 == 0:\n",
    "    print(\"짝수\")\n",
    "else:\n",
    "    print(\"홀수\")\n",
    "\n"
   ]
  },
  {
   "cell_type": "code",
   "execution_count": null,
   "id": "e4f4e552",
   "metadata": {},
   "outputs": [
    {
     "name": "stdout",
     "output_type": "stream",
     "text": [
      "등급 B\n"
     ]
    }
   ],
   "source": [
    "# if ~ elif ~ else\n",
    "\n",
    "if score >= 90:\n",
    "    grade = \"A\"\n",
    "elif score > 80:\n",
    "    grade = \"B\"\n",
    "elif score >= 70:\n",
    "    grade = \"C\"\n",
    "elif score >= 60:\n",
    "    grade = \"D\"\n",
    "\n",
    "else:\n",
    "    grade = \"F\"      \n",
    "\n",
    "print(f\"등급 {grade}\")"
   ]
  },
  {
   "cell_type": "markdown",
   "id": "79a0da18",
   "metadata": {},
   "source": []
  },
  {
   "cell_type": "code",
   "execution_count": 31,
   "id": "5b68fc28",
   "metadata": {},
   "outputs": [
    {
     "name": "stdout",
     "output_type": "stream",
     "text": [
      "1 + 1 = 2\n"
     ]
    }
   ],
   "source": [
    "#숫자 두 개 입력, 연산자(+, -, /, //, %) 입력\n",
    "#계산기\n",
    "\n",
    "num1 = int(input(\"num1 입력\"))\n",
    "op = input(\"연산자(+, -, /, //, %) 입력\")\n",
    "num2 = int(input(\"num2 입력\"))\n",
    "\n",
    "result = 0\n",
    "\n",
    "if op == \"+\" :\n",
    "    result = num1 + num2\n",
    "elif op == \"-\" :\n",
    "    result = num1 - num2\n",
    "elif op == \"/\" :\n",
    "    result = num1 / num2\n",
    "elif op == \"//\" :\n",
    "    result = num1 // num2\n",
    "elif op == \"%\" :\n",
    "    result = num1 % num2\n",
    "else:\n",
    "    print(\"연산자 확인\")\n",
    "\n",
    "print(f\"{num1} {op} {num2} = {result}\")\n",
    "\n",
    "\n"
   ]
  },
  {
   "cell_type": "code",
   "execution_count": 35,
   "id": "9a645631",
   "metadata": {},
   "outputs": [
    {
     "name": "stdout",
     "output_type": "stream",
     "text": [
      "True\n",
      "True\n"
     ]
    }
   ],
   "source": [
    "# x in list : x가 리스트 안에 포함되었나?\n",
    "# x in 문자열 : x가 문자열 안에 포함되었나?\n",
    "print(1 in [1,2,3])\n",
    "print(a in [a,b,c])"
   ]
  },
  {
   "cell_type": "code",
   "execution_count": 37,
   "id": "9549ebff",
   "metadata": {},
   "outputs": [
    {
     "name": "stdout",
     "output_type": "stream",
     "text": [
      "money 있음\n"
     ]
    }
   ],
   "source": [
    "pocket = [\"paper\", \"money\", \"cellphone\"]\n",
    "\n",
    "if \"money\" in pocket:\n",
    "    print(\"money 있음\")"
   ]
  },
  {
   "cell_type": "code",
   "execution_count": 43,
   "id": "0839f78b",
   "metadata": {},
   "outputs": [
    {
     "data": {
      "text/plain": [
       "'success'"
      ]
     },
     "execution_count": 43,
     "metadata": {},
     "output_type": "execute_result"
    }
   ],
   "source": [
    "#파이썬_삼항 연산자 개념 없음 ||  (조건 ? 참 : 거짓 )\n",
    "\n",
    "message =\"\"\n",
    "\n",
    "# if score >= 60:\n",
    "#     maessage =\"success\"\n",
    "# else:\n",
    "#     maessage = \"fail\"\n",
    "\n",
    "message = \"success\" if score >= 60 else \"fail\"\n",
    "\n",
    "message"
   ]
  },
  {
   "cell_type": "markdown",
   "id": "bed5f766",
   "metadata": {},
   "source": [
    "반복문\n",
    " - while\n",
    " - for"
   ]
  },
  {
   "cell_type": "code",
   "execution_count": 44,
   "id": "4c0b9916",
   "metadata": {},
   "outputs": [
    {
     "name": "stdout",
     "output_type": "stream",
     "text": [
      "1  2  3  4  5  6  7  8  9  10  "
     ]
    }
   ],
   "source": [
    "i = 1\n",
    "\n",
    "while i < 11:\n",
    "    print(i, end = \"  \")\n",
    "    # i++\n",
    "    i = i +1\n"
   ]
  },
  {
   "cell_type": "code",
   "execution_count": null,
   "id": "13bf5d15",
   "metadata": {},
   "outputs": [
    {
     "name": "stdout",
     "output_type": "stream",
     "text": [
      "1~100까지의 합: 5050\n"
     ]
    }
   ],
   "source": [
    "# 1~100 까지의 합계 구하기\n",
    "j, hap = 1, 0\n",
    "\n",
    "while j < 101:\n",
    "    j = j + 1\n",
    "    hap += j\n",
    "\n",
    "print (f\"1~100까지의 합: {hap}\")"
   ]
  },
  {
   "cell_type": "code",
   "execution_count": 61,
   "id": "b040293d",
   "metadata": {},
   "outputs": [
    {
     "name": "stdout",
     "output_type": "stream",
     "text": [
      "range(0, 5)\n",
      "[0, 1, 2, 3, 4]\n",
      "10\n",
      "5050\n",
      "5050\n",
      "2500\n"
     ]
    }
   ],
   "source": [
    "#sum() \n",
    "print(range(5))\n",
    "print(list(range(5))) # range 해당하는 값을 list 로 만들어줘.\n",
    "print(sum(range(5))) #range 해당하는 값을 더해줌.\n",
    "\n",
    "print(sum(range(101))) # range 값_0~100까지의 합을 더해줌\n",
    "print(sum(range(1, 101)))\n",
    "\n",
    "print(sum(range(1, 101, 2))) # 1부터 시작해 +2값..을 더해줘.(홀수값 계산)"
   ]
  },
  {
   "cell_type": "code",
   "execution_count": 56,
   "id": "03c9abc6",
   "metadata": {},
   "outputs": [
    {
     "name": "stdout",
     "output_type": "stream",
     "text": [
      "0  1  2  3  4  5  6  7  8  9  "
     ]
    }
   ],
   "source": [
    "for i in range(10):\n",
    "    print(i, end=\"  \")\n",
    "    "
   ]
  },
  {
   "cell_type": "code",
   "execution_count": 57,
   "id": "8058a7b1",
   "metadata": {},
   "outputs": [
    {
     "name": "stdout",
     "output_type": "stream",
     "text": [
      "1  2  3  4  5  6  7  8  9  10  "
     ]
    }
   ],
   "source": [
    "for i in range(1, 11):\n",
    "    print(i, end=\"  \")"
   ]
  },
  {
   "cell_type": "code",
   "execution_count": 58,
   "id": "33531c3d",
   "metadata": {},
   "outputs": [
    {
     "name": "stdout",
     "output_type": "stream",
     "text": [
      "1  3  5  7  9  11  13  15  17  19  21  23  25  27  29  31  33  35  37  39  41  43  45  47  49  51  53  55  57  59  61  63  65  67  69  71  73  75  77  79  81  83  85  87  89  91  93  95  97  99  "
     ]
    }
   ],
   "source": [
    "for i in range(1, 101, 2):\n",
    "    print(i, end=\"  \")"
   ]
  },
  {
   "cell_type": "code",
   "execution_count": 72,
   "id": "fbbe9d57",
   "metadata": {},
   "outputs": [
    {
     "name": "stdout",
     "output_type": "stream",
     "text": [
      "1~3 : 6\n"
     ]
    }
   ],
   "source": [
    "# 1~ 사용자가 입력한 숫자까지의 합계 계산.\n",
    "\n",
    "num = int(input(\"숫자 : \")) \n",
    "\n",
    "hap = 0\n",
    "\n",
    "for i in range(1, num + 1):\n",
    "    hap += i\n",
    "\n",
    "print(f\"1~{num} : {hap}\")"
   ]
  },
  {
   "cell_type": "code",
   "execution_count": null,
   "id": "3a40c188",
   "metadata": {},
   "outputs": [
    {
     "name": "stdout",
     "output_type": "stream",
     "text": [
      "5   4   3   2   1   0   "
     ]
    }
   ],
   "source": [
    "#range(start, stop, step)에서 stop은 포함되지 않음\n",
    "\n",
    "for i in range(5, -1, -1):\n",
    "    print(i , end = \"   \") # 공백 3칸"
   ]
  },
  {
   "cell_type": "code",
   "execution_count": 81,
   "id": "4fd58f84",
   "metadata": {},
   "outputs": [
    {
     "name": "stdout",
     "output_type": "stream",
     "text": [
      "사과\n",
      "딸기\n",
      "바나나\n",
      "포도\n"
     ]
    }
   ],
   "source": [
    "list1 = [\"사과\",\"딸기\",\"바나나\",\"포도\"]\n",
    "\n",
    "#list 출력\n",
    "for fruit in list1:\n",
    "    print(fruit)"
   ]
  },
  {
   "cell_type": "code",
   "execution_count": null,
   "id": "51204634",
   "metadata": {},
   "outputs": [
    {
     "name": "stdout",
     "output_type": "stream",
     "text": [
      "사과\n",
      "0 사과\n",
      "딸기\n",
      "1 딸기\n",
      "바나나\n",
      "2 바나나\n",
      "포도\n",
      "3 포도\n"
     ]
    }
   ],
   "source": [
    "#enumerate(iterable, start=0)\n",
    "#iterable:리스트, 문자열, set, tuple, dictionary  등 반복 가능한 객체\n",
    "#start: 인덱스를 몇부터 시작할지 (기본값은 0)\n",
    "#반환: (index, value) 형태의 튜플을 하나씩 반환\n",
    "\n",
    "for idx, fruit in enumerate(list1):\n",
    "     print(fruit)\n",
    "     print(idx, fruit) #인덱스와 과일을 함께 출력"
   ]
  },
  {
   "cell_type": "code",
   "execution_count": null,
   "id": "3f4a5f3c",
   "metadata": {},
   "outputs": [
    {
     "name": "stdout",
     "output_type": "stream",
     "text": [
      "평균 : 78.89\n"
     ]
    }
   ],
   "source": [
    "a_class =[70, 60, 55, 75, 95, 90, 80, 85, 100]\n",
    "\n",
    "#a_class의 중간고사 점수에 대해서 평균 구하기\n",
    "\n",
    "total = 0\n",
    "\n",
    "for num in a_class:\n",
    "    total += num\n",
    "\n",
    "print(\"평균 : %.2f\" % (total / len(a_class)))\n"
   ]
  },
  {
   "cell_type": "code",
   "execution_count": 87,
   "id": "a669d44a",
   "metadata": {},
   "outputs": [
    {
     "name": "stdout",
     "output_type": "stream",
     "text": [
      "평균 : 78.89\n"
     ]
    }
   ],
   "source": [
    "print(\"평균 : %.2f\" % (sum(a_class) / len(a_class)))"
   ]
  }
 ],
 "metadata": {
  "kernelspec": {
   "display_name": "venv",
   "language": "python",
   "name": "python3"
  },
  "language_info": {
   "codemirror_mode": {
    "name": "ipython",
    "version": 3
   },
   "file_extension": ".py",
   "mimetype": "text/x-python",
   "name": "python",
   "nbconvert_exporter": "python",
   "pygments_lexer": "ipython3",
   "version": "3.13.3"
  }
 },
 "nbformat": 4,
 "nbformat_minor": 5
}
