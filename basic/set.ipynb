{
 "cells": [
  {
   "cell_type": "markdown",
   "id": "c89a9ccc",
   "metadata": {},
   "source": [
    "### Set\n",
    " - 집합 자료형\n",
    " - 자바 Set 같은 개념\n",
    " - 순서가 없음(리스트 같은 개념 아님)"
   ]
  },
  {
   "cell_type": "code",
   "execution_count": null,
   "id": "4da0399a",
   "metadata": {},
   "outputs": [],
   "source": [
    "#생성\n",
    "\n",
    "set1 = set()\n",
    "set2 = set([1,2,3,4,5])\n",
    "set3 = set([1,4,5,6,6])"
   ]
  },
  {
   "cell_type": "code",
   "execution_count": 11,
   "id": "f39bcc95",
   "metadata": {},
   "outputs": [
    {
     "name": "stdout",
     "output_type": "stream",
     "text": [
      "set()\n",
      "{1, 2, 3, 4, 5}\n",
      "{1, 4, 5, 6}\n"
     ]
    }
   ],
   "source": [
    "print(set1)\n",
    "print(set2)\n",
    "print(set3)#중복된 값은 스스로 걸려준다, 자바와 동일"
   ]
  },
  {
   "cell_type": "code",
   "execution_count": null,
   "id": "b20a97fe",
   "metadata": {},
   "outputs": [
    {
     "name": "stdout",
     "output_type": "stream",
     "text": [
      "{1, 2, 3, 4, 5}\n"
     ]
    }
   ],
   "source": [
    "# 다른 자료형으로 변경\n",
    "#list() ,set(), dict()\n",
    "\n",
    "t1 = (1,2,3,4,5)\n",
    "set4 = set(t1)\n",
    "\n",
    "print(set4) #소 -> 중괄호로 바뀜"
   ]
  },
  {
   "cell_type": "code",
   "execution_count": 7,
   "id": "eddf0759",
   "metadata": {},
   "outputs": [
    {
     "name": "stdout",
     "output_type": "stream",
     "text": [
      "{'name', 'age', 'no'}\n"
     ]
    }
   ],
   "source": [
    "dict1 = {\"no\" : 1, \"name\": \"hong\", \"age\":20}\n",
    "set5 = set(dict1)\n",
    "print(set5)\n"
   ]
  },
  {
   "cell_type": "code",
   "execution_count": 19,
   "id": "44f08ca3",
   "metadata": {},
   "outputs": [
    {
     "name": "stdout",
     "output_type": "stream",
     "text": [
      "{'g', 'f', 'd', 'c', 'b', 'a', 'e'}\n",
      "{'g', 'f', 'd', 'c', 'b', 'a', 'e'}\n"
     ]
    }
   ],
   "source": [
    "set6 = set('abcdefg')\n",
    "print(set6)\n",
    "\n",
    "set00 = set('abcdefg')\n",
    "print(set00)"
   ]
  },
  {
   "cell_type": "code",
   "execution_count": 27,
   "id": "ad41dedf",
   "metadata": {},
   "outputs": [
    {
     "data": {
      "text/plain": [
       "1"
      ]
     },
     "execution_count": 27,
     "metadata": {},
     "output_type": "execute_result"
    }
   ],
   "source": [
    "#set => tuple\n",
    "\n",
    "t2 = tuple(set4)\n",
    "t2[0]"
   ]
  },
  {
   "cell_type": "code",
   "execution_count": null,
   "id": "8fb606c5",
   "metadata": {},
   "outputs": [
    {
     "name": "stdout",
     "output_type": "stream",
     "text": [
      "{4, 5, 6}\n",
      "{4, 5, 6}\n",
      "{1, 2, 3}\n",
      "{1, 2, 3}\n",
      "{1, 2, 3, 4, 5, 6, 7, 8, 9}\n",
      "{1, 2, 3, 4, 5, 6, 7, 8, 9}\n"
     ]
    }
   ],
   "source": [
    "s1 = set([1,2,3,4,5,6])\n",
    "s2 = set([4,5,6,7,8,9])\n",
    "\n",
    "\n",
    "#교집합 #{4, 5, 6}\n",
    "print(s1 & s2) \n",
    "print(s1.intersection(s2)) \n",
    "\n",
    "#차집합 #{1, 2, 3}\n",
    "print(s1 - s2)\n",
    "print(s1.difference(s2))\n",
    "\n",
    "#합집합 #{1, 2, 3, 4, 5, 6, 7, 8, 9}\n",
    "print(s1 | s2)\n",
    "print(s1.union(s2))"
   ]
  },
  {
   "cell_type": "code",
   "execution_count": 35,
   "id": "c5419b98",
   "metadata": {},
   "outputs": [
    {
     "data": {
      "text/plain": [
       "{1, 2, 3, 4, 5, 6, 9}"
      ]
     },
     "execution_count": 35,
     "metadata": {},
     "output_type": "execute_result"
    }
   ],
   "source": [
    "#add() : 1개의 값만 추가\n",
    "\n",
    "s1.add(9)\n",
    "s1"
   ]
  },
  {
   "cell_type": "code",
   "execution_count": 36,
   "id": "68526752",
   "metadata": {},
   "outputs": [
    {
     "data": {
      "text/plain": [
       "{1, 2, 3, 4, 5, 6, 9, 10, 11, 12}"
      ]
     },
     "execution_count": 36,
     "metadata": {},
     "output_type": "execute_result"
    }
   ],
   "source": [
    "#update() : 값 여러개 추가\n",
    "\n",
    "s1.update([10,11,12])\n",
    "s1"
   ]
  },
  {
   "cell_type": "code",
   "execution_count": null,
   "id": "fe3dea77",
   "metadata": {},
   "outputs": [
    {
     "data": {
      "text/plain": [
       "{1, 2, 3, 4, 5, 6, 10, 11, 12}"
      ]
     },
     "execution_count": 37,
     "metadata": {},
     "output_type": "execute_result"
    }
   ],
   "source": [
    "# remove() : 제거, 이미 제거됐다면  key erorr 발생함.\n",
    "s1.remove(9)\n",
    "s1"
   ]
  }
 ],
 "metadata": {
  "kernelspec": {
   "display_name": "venv",
   "language": "python",
   "name": "python3"
  },
  "language_info": {
   "codemirror_mode": {
    "name": "ipython",
    "version": 3
   },
   "file_extension": ".py",
   "mimetype": "text/x-python",
   "name": "python",
   "nbconvert_exporter": "python",
   "pygments_lexer": "ipython3",
   "version": "3.13.3"
  }
 },
 "nbformat": 4,
 "nbformat_minor": 5
}
