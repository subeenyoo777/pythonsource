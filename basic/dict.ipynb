{
 "cells": [
  {
   "cell_type": "markdown",
   "id": "feb4b5c3",
   "metadata": {},
   "source": [
    "### dictionary\n",
    "- 자바의 map 과 같은 개념\n",
    "- { key: value}"
   ]
  },
  {
   "cell_type": "code",
   "execution_count": 12,
   "id": "741838aa",
   "metadata": {},
   "outputs": [],
   "source": [
    "dict1 = {\"name\" : \"Kim\", \"age\": 12 }\n",
    "dict2 = {0 : \"Kim1\", 1: 12 }\n",
    "dict3 = {\"arr\" : {1,2,3,4,5} }"
   ]
  },
  {
   "cell_type": "code",
   "execution_count": 13,
   "id": "8e1fd2b3",
   "metadata": {},
   "outputs": [
    {
     "name": "stdout",
     "output_type": "stream",
     "text": [
      "{'name': 'Kim', 'age': 12}\n",
      "Kim\n",
      "12\n",
      "{1, 2, 3, 4, 5}\n"
     ]
    }
   ],
   "source": [
    "print(dict1)\n",
    "print(dict1[\"name\"])\n",
    "print(dict2[1])\n",
    "print(dict3[\"arr\"])"
   ]
  },
  {
   "cell_type": "code",
   "execution_count": 14,
   "id": "eae28080",
   "metadata": {},
   "outputs": [
    {
     "name": "stdout",
     "output_type": "stream",
     "text": [
      "{'arr': {1, 2, 3, 4, 5}, 'rank': (16, 17, 18)}\n"
     ]
    }
   ],
   "source": [
    "#추가\n",
    "dict3[\"rank\"] = (16,17,18)\n",
    "print(dict3)"
   ]
  },
  {
   "cell_type": "code",
   "execution_count": 15,
   "id": "88f374d4",
   "metadata": {},
   "outputs": [
    {
     "name": "stdout",
     "output_type": "stream",
     "text": [
      "{1: 3, 2: 4, 6: 1, 8: 2, 4: 3, 3: 3, 9: 3, 5: 2, 7: 2}\n"
     ]
    }
   ],
   "source": [
    "#numbers 내부에 들어있는 숫자가 몇번 등장하는지 dict 구조로 생성\n",
    "#키 값 중복은 안된다(map과 같은 개념이다.)\n",
    "\n",
    "numbers = [1,2,6,8,4,3,2,1,9,5,4,9,7,2,1,3,5,4,8,9,7,2,3]\n",
    "counter = {}\n",
    "\n",
    "#{1:3, 2:4, 6:1}\n",
    "for num in numbers:\n",
    "    counter[num] = numbers.count(num)\n",
    "print(counter)\n",
    "\n"
   ]
  },
  {
   "cell_type": "code",
   "execution_count": null,
   "id": "941d13b6",
   "metadata": {},
   "outputs": [
    {
     "name": "stdout",
     "output_type": "stream",
     "text": [
      "{'name': 'Kim'}\n"
     ]
    }
   ],
   "source": [
    "#삭제\n",
    "del dict1[\"age\"]\n",
    "print(dict1)"
   ]
  },
  {
   "cell_type": "code",
   "execution_count": 17,
   "id": "5818898e",
   "metadata": {},
   "outputs": [
    {
     "name": "stdout",
     "output_type": "stream",
     "text": [
      "None\n"
     ]
    }
   ],
   "source": [
    "#get() : 찾고자 하는 요소 없어도 에러 안 냄 | 에러 안 내기 위해서 get()추천\n",
    "\n",
    "#print(dict1[\"age\"]) --> 에러가 남.\n",
    "print(dict1.get(\"age\")) #None\n"
   ]
  },
  {
   "cell_type": "code",
   "execution_count": 18,
   "id": "ff8ee111",
   "metadata": {},
   "outputs": [
    {
     "name": "stdout",
     "output_type": "stream",
     "text": [
      "dict_keys(['name'])\n",
      "dict_values(['Kim'])\n",
      "dict_items([('name', 'Kim')])\n"
     ]
    }
   ],
   "source": [
    "#keys(), values(), items()\n",
    "\n",
    "print(dict1.keys()) #name ..key 값 가져오기\n",
    "print(dict1.values()) #Kim ..value 값 가져오기\n",
    "print(dict1.items()) #'name', 'Kim' ..key,value 값 가져오기"
   ]
  },
  {
   "cell_type": "code",
   "execution_count": 19,
   "id": "b4d9c67e",
   "metadata": {},
   "outputs": [
    {
     "name": "stdout",
     "output_type": "stream",
     "text": [
      "name\n"
     ]
    }
   ],
   "source": [
    "#데이터 분석할 때 많이 쓰는 데이터 타입이 리스트, 그 다음이 딕셔너리이다.\n",
    "\n",
    "for k in dict1.keys():\n",
    "    print(k)\n",
    "    "
   ]
  },
  {
   "cell_type": "code",
   "execution_count": 22,
   "id": "4254f1ef",
   "metadata": {},
   "outputs": [
    {
     "name": "stdout",
     "output_type": "stream",
     "text": [
      "0 Kim1\n",
      "1 12\n"
     ]
    }
   ],
   "source": [
    "# key, value 출력\n",
    "for k,v in dict2.items():\n",
    "        print(k, v)"
   ]
  },
  {
   "cell_type": "code",
   "execution_count": 37,
   "id": "79a34ed1",
   "metadata": {},
   "outputs": [
    {
     "name": "stdout",
     "output_type": "stream",
     "text": [
      "포함됨\n"
     ]
    }
   ],
   "source": [
    "dict4 = {\"봄\" : \"딸기\", \"여름\" : \"토마토\", \"가을\" :\"사과\", \"겨울\": \"바나나\"}\n",
    "\n",
    "#value 에 사과가 포함되어있는지 확인\n",
    "for v in dict4.values():\n",
    "    if v == \"사과\":\n",
    "        print(\"포함됨\")\n",
    "        break"
   ]
  },
  {
   "cell_type": "code",
   "execution_count": 36,
   "id": "e6999ad2",
   "metadata": {},
   "outputs": [
    {
     "name": "stdout",
     "output_type": "stream",
     "text": [
      "포함됨\n"
     ]
    }
   ],
   "source": [
    "if \"사과\" in  dict4.values():\n",
    "    print(\"포함됨\")\n",
    "else:\n",
    "    print(\"포함되지 않음\")"
   ]
  },
  {
   "cell_type": "code",
   "execution_count": 38,
   "id": "be348e52",
   "metadata": {},
   "outputs": [
    {
     "data": {
      "text/plain": [
       "{'딸기', '바나나', '사과', '토마토'}"
      ]
     },
     "execution_count": 38,
     "metadata": {},
     "output_type": "execute_result"
    }
   ],
   "source": [
    "#comprehension\n",
    "\n",
    "fruits = {v for v in dict4.values()}\n",
    "fruits"
   ]
  },
  {
   "cell_type": "code",
   "execution_count": 44,
   "id": "1b264f8b",
   "metadata": {},
   "outputs": [
    {
     "data": {
      "text/plain": [
       "{'딸기', '바나나', '사과', '토마토'}"
      ]
     },
     "execution_count": 44,
     "metadata": {},
     "output_type": "execute_result"
    }
   ],
   "source": [
    "#comprehension..? {'딸기', '토마토', '사과', '바나나'}\n",
    "\n",
    "fruits = {v for v in dict4.values()}\n",
    "fruits"
   ]
  },
  {
   "cell_type": "code",
   "execution_count": 40,
   "id": "df28bec5",
   "metadata": {},
   "outputs": [
    {
     "data": {
      "text/plain": [
       "{'딸기', '바나나', '토마토'}"
      ]
     },
     "execution_count": 40,
     "metadata": {},
     "output_type": "execute_result"
    }
   ],
   "source": [
    "fruits = {v for v in dict4.values() if v != \"사과\"}\n",
    "fruits"
   ]
  },
  {
   "cell_type": "code",
   "execution_count": 42,
   "id": "345c2f2a",
   "metadata": {},
   "outputs": [
    {
     "data": {
      "text/plain": [
       "{('겨울', '바나나'), ('봄', '딸기'), ('여름', '토마토')}"
      ]
     },
     "execution_count": 42,
     "metadata": {},
     "output_type": "execute_result"
    }
   ],
   "source": [
    "\n",
    "fruits = {(k, v) for k, v in dict4.items() if v != \"사과\"}\n",
    "fruits"
   ]
  },
  {
   "cell_type": "code",
   "execution_count": null,
   "id": "33287b63",
   "metadata": {},
   "outputs": [],
   "source": [
    "#딕셔너리 생성 - dict1\n",
    "#A: 90, B:80, C:70\n",
    "\n",
    "dict1 = { \"A\":90,\"B\":80,\"C\":70 }"
   ]
  },
  {
   "cell_type": "code",
   "execution_count": null,
   "id": "69865397",
   "metadata": {},
   "outputs": [
    {
     "name": "stdout",
     "output_type": "stream",
     "text": [
      "80\n",
      "80\n"
     ]
    }
   ],
   "source": [
    "#생성된 dict1에서 키가 B인 값만 출력\n",
    "print(dict1[\"B\"])\n",
    "print(dict1.get(\"B\")) #오류발생 안함."
   ]
  },
  {
   "cell_type": "code",
   "execution_count": 49,
   "id": "ec3f2301",
   "metadata": {},
   "outputs": [
    {
     "name": "stdout",
     "output_type": "stream",
     "text": [
      "{'성인': 10000, '청소년': 7000, '아동': 3000}\n"
     ]
    }
   ],
   "source": [
    "#딕셔너리 생성 - dict2\n",
    "#성인 : 10000, 청소년 : 7000, 아동 : 3000\n",
    "dict2 = { \"성인\":10000,\"청소년\":7000,\"아동\":3000 }\n",
    "print(dict2)"
   ]
  },
  {
   "cell_type": "code",
   "execution_count": null,
   "id": "afc46403",
   "metadata": {},
   "outputs": [
    {
     "name": "stdout",
     "output_type": "stream",
     "text": [
      "{'성인': 10000, '청소년': 7000, '아동': 3000, '소아': 0}\n",
      "dict_keys(['성인', '청소년', '아동', '소아'])\n",
      "dict_values([10000, 7000, 3000, 0])\n"
     ]
    }
   ],
   "source": [
    "#dict2에 새로운 요소 추가\n",
    "#소아 : 0\n",
    "dict2[\"소아\"] = 0\n",
    "print(dict2)\n",
    "\n",
    "\n",
    "#key 항목만 출력\n",
    "print(dict2.keys())\n",
    "\n",
    "\n",
    "#value 항목만 출력\n",
    "print(dict2.values())"
   ]
  }
 ],
 "metadata": {
  "kernelspec": {
   "display_name": "venv",
   "language": "python",
   "name": "python3"
  },
  "language_info": {
   "codemirror_mode": {
    "name": "ipython",
    "version": 3
   },
   "file_extension": ".py",
   "mimetype": "text/x-python",
   "name": "python",
   "nbconvert_exporter": "python",
   "pygments_lexer": "ipython3",
   "version": "3.13.3"
  }
 },
 "nbformat": 4,
 "nbformat_minor": 5
}
