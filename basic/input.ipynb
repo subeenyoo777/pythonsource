{
 "cells": [
  {
   "cell_type": "markdown",
   "id": "1ec29d24",
   "metadata": {},
   "source": [
    "입력 : input()"
   ]
  },
  {
   "cell_type": "code",
   "execution_count": 5,
   "id": "359bf0e8",
   "metadata": {},
   "outputs": [
    {
     "name": "stdout",
     "output_type": "stream",
     "text": [
      "<class 'str'>\n"
     ]
    }
   ],
   "source": [
    "num = input(\"숫자 입력하세요\")\n",
    "print(type(num)) #String 타입. "
   ]
  },
  {
   "cell_type": "code",
   "execution_count": 6,
   "id": "f7f9d786",
   "metadata": {},
   "outputs": [
    {
     "name": "stdout",
     "output_type": "stream",
     "text": [
      "15\n"
     ]
    }
   ],
   "source": [
    "#int(문자열)\n",
    "print(int('15'))"
   ]
  },
  {
   "cell_type": "code",
   "execution_count": 10,
   "id": "9128d416",
   "metadata": {},
   "outputs": [
    {
     "name": "stdout",
     "output_type": "stream",
     "text": [
      "<class 'int'>\n"
     ]
    }
   ],
   "source": [
    "num = input(\"숫자 입력하세요\")\n",
    "print(type(int(num))) "
   ]
  },
  {
   "cell_type": "code",
   "execution_count": 9,
   "id": "1f9848d3",
   "metadata": {},
   "outputs": [
    {
     "name": "stdout",
     "output_type": "stream",
     "text": [
      "3\n"
     ]
    }
   ],
   "source": [
    "num1 = int(input(\"num1\"))\n",
    "num2 = int(input(\"num1\"))\n",
    "print(num1 + num2)"
   ]
  },
  {
   "cell_type": "code",
   "execution_count": 21,
   "id": "50a12519",
   "metadata": {},
   "outputs": [
    {
     "name": "stdout",
     "output_type": "stream",
     "text": [
      "2025/02/02\n",
      "입력한 날짜의 10년 후는? 2035년02월02일\n"
     ]
    }
   ],
   "source": [
    "#사용자에게 2030/10/30 형태로 \n",
    "# 10년 후의 날짜를 계산한 후에 보여주기\n",
    "\n",
    "date1 =input(\"날짜입력(년/월/일)\")\n",
    "print(date1)\n",
    "\n",
    "pos = date1.find(\"/\")\n",
    "# print(pos)\n",
    "\n",
    "year = int(date1[:pos]) + 10\n",
    "\n",
    "# (int) + (str) --> TypeError: unsupported operand type(s)\n",
    "print(\"입력한 날짜의 10년 후는? %s\" % (str(year) + \"년\" +date1[5:7] + \"월\" + date1[8:] + \"일\"))\n"
   ]
  },
  {
   "cell_type": "code",
   "execution_count": null,
   "id": "f0678799",
   "metadata": {},
   "outputs": [
    {
     "name": "stdout",
     "output_type": "stream",
     "text": [
      "['2025', '02', '02']\n",
      "2025\n",
      "02\n",
      "02\n",
      "입력한 날짜의 10년 후는? 2035년02월02일\n"
     ]
    }
   ],
   "source": [
    "data = date1.split(\"/\")\n",
    "print(data)\n",
    "\n",
    "\n",
    "print(data[1])\n",
    "print(data[2])\n",
    "\n",
    "year = int(data[0]) + 10\n",
    "\n",
    "# (int) + (str) --> TypeError: unsupported operand type(s)\n",
    "print(\"입력한 날짜의 10년 후는? %s\" % (str(year) + \"년\" +data[1] + \"월\" + data[2] + \"일\"))\n"
   ]
  },
  {
   "cell_type": "code",
   "execution_count": 43,
   "id": "23b278af",
   "metadata": {},
   "outputs": [
    {
     "name": "stdout",
     "output_type": "stream",
     "text": [
      "naver.com\n",
      "naver\n",
      "nav51!\n"
     ]
    }
   ],
   "source": [
    "#암호 생성\n",
    "\n",
    "#규칙1 : \"http://\" 제외\n",
    "url = \"http://naver.com\"\n",
    "data = url[7:]\n",
    "print(data)\n",
    "\n",
    "#규칙2 : 처음 나오는 . 이후 부분은 제외\n",
    "data = data[:data.find(\".\")]\n",
    "print(data)\n",
    "\n",
    "#규칙3 : 아래 형식으로 구성\n",
    "#  남은 글자 중 세 자리 + 글자 개수 + 글자 내 'e' 개수 + ! \n",
    "result = data[:3] + str(len(data)) + str(data.count(\"e\")) + \"!\"\n",
    "print(result)"
   ]
  }
 ],
 "metadata": {
  "kernelspec": {
   "display_name": "venv",
   "language": "python",
   "name": "python3"
  },
  "language_info": {
   "codemirror_mode": {
    "name": "ipython",
    "version": 3
   },
   "file_extension": ".py",
   "mimetype": "text/x-python",
   "name": "python",
   "nbconvert_exporter": "python",
   "pygments_lexer": "ipython3",
   "version": "3.13.3"
  }
 },
 "nbformat": 4,
 "nbformat_minor": 5
}
