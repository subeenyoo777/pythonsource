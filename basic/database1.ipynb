{
 "cells": [
  {
   "cell_type": "markdown",
   "id": "47cf73e9",
   "metadata": {},
   "source": [
    "### DB 연동\n",
    " - 내장 db:SQLite(휴대폰...등에 있음)\n",
    "    - RDBMS: 테이블 형태 DB"
   ]
  },
  {
   "cell_type": "code",
   "execution_count": 1,
   "id": "d11ed0e6",
   "metadata": {},
   "outputs": [],
   "source": [
    "import sqlite3\n",
    "from datetime import datetime"
   ]
  },
  {
   "cell_type": "code",
   "execution_count": 2,
   "id": "a327d4a8",
   "metadata": {},
   "outputs": [
    {
     "name": "stdout",
     "output_type": "stream",
     "text": [
      "version 3.49.1\n"
     ]
    }
   ],
   "source": [
    "print('version', sqlite3.sqlite_version)"
   ]
  },
  {
   "cell_type": "code",
   "execution_count": 4,
   "id": "a9ccf750",
   "metadata": {},
   "outputs": [
    {
     "name": "stdout",
     "output_type": "stream",
     "text": [
      "2025-06-10 10:48:57.918220\n",
      "2025-06-10 10:48:57\n"
     ]
    }
   ],
   "source": [
    "now = datetime.now()\n",
    "print(now)\n",
    "\n",
    "#원하는 형식으로 변경\n",
    "nowDateTime = now.strftime(\"%Y-%m-%d %H:%M:%S\")\n",
    "print(nowDateTime)"
   ]
  },
  {
   "cell_type": "code",
   "execution_count": null,
   "id": "1243e82c",
   "metadata": {},
   "outputs": [],
   "source": [
    "#database 하나 생성\n",
    "#isolation_level : autocommit 하지 않기\n",
    "\n",
    "conn = sqlite3.connect(\"./test.db\", isolation_level=None)"
   ]
  },
  {
   "cell_type": "code",
   "execution_count": null,
   "id": "14f4ecdf",
   "metadata": {},
   "outputs": [],
   "source": [
    "#cursor : 테이블을 가리키는 기능, 이것으로 접근\n",
    "\n",
    "cursor = conn.cursor()\n"
   ]
  },
  {
   "cell_type": "code",
   "execution_count": 9,
   "id": "063e34f7",
   "metadata": {},
   "outputs": [
    {
     "data": {
      "text/plain": [
       "<sqlite3.Cursor at 0x1c43cec43c0>"
      ]
     },
     "execution_count": 9,
     "metadata": {},
     "output_type": "execute_result"
    }
   ],
   "source": [
    "#테이블 생성\n",
    "sql = \"create table if not exists users(id integer primary key, username text, email text, phone text, website text, regdate text)\"\n",
    "\n",
    "cursor.execute(sql)"
   ]
  },
  {
   "cell_type": "code",
   "execution_count": null,
   "id": "31e4f607",
   "metadata": {},
   "outputs": [],
   "source": [
    "#create(insert)\n",
    "\n",
    "sql = \"insert into users(id,username,email,phone,website,regdate)\"\n",
    "\n",
    "sql += \"values(1, 'Kim','Kim@gmail.com','010-1234-1234','Kim.com',?)\"\n",
    "\n",
    "\n",
    "# ? : 튜플로 지정하기\n",
    "cursor.execute(sql, (nowDateTime, ))"
   ]
  },
  {
   "cell_type": "code",
   "execution_count": null,
   "id": "6eceaa2e",
   "metadata": {},
   "outputs": [
    {
     "data": {
      "text/plain": [
       "<sqlite3.Cursor at 0x1c43cec43c0>"
      ]
     },
     "execution_count": 14,
     "metadata": {},
     "output_type": "execute_result"
    }
   ],
   "source": [
    "sql = \"insert into users(id,username,email,phone,website,regdate)\"\n",
    "\n",
    "sql += \"values(?,?,?,?,?,?)\"\n",
    "\n",
    "cursor.execute(sql, (2, 'Park','Park@gmail.com','010-1234-5678','Park.com', nowDateTime))"
   ]
  },
  {
   "cell_type": "code",
   "execution_count": 16,
   "id": "c16f6002",
   "metadata": {},
   "outputs": [
    {
     "data": {
      "text/plain": [
       "<sqlite3.Cursor at 0x1c43cec43c0>"
      ]
     },
     "execution_count": 16,
     "metadata": {},
     "output_type": "execute_result"
    }
   ],
   "source": [
    "userList =[\n",
    "(3, 'Hong','Hong@gmail.com','010-1234-1234','Hong.com', nowDateTime),\n",
    "(4, 'Cho','Cho@gmail.com','010-1234-1234','Cho.com', nowDateTime),\n",
    "(5, 'Yoo','Yoo@gmail.com','010-1234-1234','Yoo.com', nowDateTime)\n",
    "]\n",
    "\n",
    "cursor.executemany(sql, userList)"
   ]
  },
  {
   "cell_type": "code",
   "execution_count": 17,
   "id": "d0a58fc8",
   "metadata": {},
   "outputs": [
    {
     "data": {
      "text/plain": [
       "<sqlite3.Cursor at 0x1c43cec43c0>"
      ]
     },
     "execution_count": 17,
     "metadata": {},
     "output_type": "execute_result"
    }
   ],
   "source": [
    "#W조회(Read) - fetchone(), fetchmany(), fetchall()\n",
    "\n",
    "sql = \"select * from users\"\n",
    "\n",
    "cursor.execute(sql)"
   ]
  },
  {
   "cell_type": "code",
   "execution_count": 18,
   "id": "2f0961cc",
   "metadata": {},
   "outputs": [
    {
     "data": {
      "text/plain": [
       "(1, 'Kim', 'Kim@gmail.com', '010-1234-1234', 'Kim.com', '2025-06-10 10:48:57')"
      ]
     },
     "execution_count": 18,
     "metadata": {},
     "output_type": "execute_result"
    }
   ],
   "source": [
    "cursor.fetchone()"
   ]
  },
  {
   "cell_type": "code",
   "execution_count": 19,
   "id": "b9ad8cdf",
   "metadata": {},
   "outputs": [
    {
     "data": {
      "text/plain": [
       "[(2,\n",
       "  'Park',\n",
       "  'Park@gmail.com',\n",
       "  '010-1234-5678',\n",
       "  'Park.com',\n",
       "  '2025-06-10 10:48:57'),\n",
       " (3,\n",
       "  'Hong',\n",
       "  'Hong@gmail.com',\n",
       "  '010-1234-1234',\n",
       "  'Hong.com',\n",
       "  '2025-06-10 10:48:57')]"
      ]
     },
     "execution_count": 19,
     "metadata": {},
     "output_type": "execute_result"
    }
   ],
   "source": [
    "cursor.fetchmany(size=2)"
   ]
  },
  {
   "cell_type": "code",
   "execution_count": 20,
   "id": "b1d0eeba",
   "metadata": {},
   "outputs": [
    {
     "data": {
      "text/plain": [
       "[(4,\n",
       "  'Cho',\n",
       "  'Cho@gmail.com',\n",
       "  '010-1234-1234',\n",
       "  'Cho.com',\n",
       "  '2025-06-10 10:48:57'),\n",
       " (5,\n",
       "  'Yoo',\n",
       "  'Yoo@gmail.com',\n",
       "  '010-1234-1234',\n",
       "  'Yoo.com',\n",
       "  '2025-06-10 10:48:57')]"
      ]
     },
     "execution_count": 20,
     "metadata": {},
     "output_type": "execute_result"
    }
   ],
   "source": [
    "cursor.fetchall()"
   ]
  },
  {
   "cell_type": "code",
   "execution_count": 22,
   "id": "aaf896c0",
   "metadata": {},
   "outputs": [
    {
     "name": "stdout",
     "output_type": "stream",
     "text": [
      "(1, 'Kim', 'Kim@gmail.com', '010-1234-1234', 'Kim.com', '2025-06-10 10:48:57')\n",
      "(2, 'Park', 'Park@gmail.com', '010-1234-5678', 'Park.com', '2025-06-10 10:48:57')\n",
      "(3, 'Hong', 'Hong@gmail.com', '010-1234-1234', 'Hong.com', '2025-06-10 10:48:57')\n",
      "(4, 'Cho', 'Cho@gmail.com', '010-1234-1234', 'Cho.com', '2025-06-10 10:48:57')\n",
      "(5, 'Yoo', 'Yoo@gmail.com', '010-1234-1234', 'Yoo.com', '2025-06-10 10:48:57')\n"
     ]
    }
   ],
   "source": [
    "sql = \"select * from users\"\n",
    "\n",
    "cursor.execute(sql)\n",
    "\n",
    "for row in cursor.fetchall():\n",
    "    print(row)"
   ]
  },
  {
   "cell_type": "code",
   "execution_count": 23,
   "id": "1785b814",
   "metadata": {},
   "outputs": [
    {
     "data": {
      "text/plain": [
       "[(3,\n",
       "  'Hong',\n",
       "  'Hong@gmail.com',\n",
       "  '010-1234-1234',\n",
       "  'Hong.com',\n",
       "  '2025-06-10 10:48:57')]"
      ]
     },
     "execution_count": 23,
     "metadata": {},
     "output_type": "execute_result"
    }
   ],
   "source": [
    "sql = \"select * from users where id=?\"\n",
    "cursor.execute(sql,(3,))\n",
    "cursor.fetchall()"
   ]
  },
  {
   "cell_type": "code",
   "execution_count": null,
   "id": "02d8e7aa",
   "metadata": {},
   "outputs": [
    {
     "data": {
      "text/plain": [
       "[(3,\n",
       "  'Hong',\n",
       "  'Hong@gmail.com',\n",
       "  '010-1234-1234',\n",
       "  'Hong.com',\n",
       "  '2025-06-10 10:48:57'),\n",
       " (5,\n",
       "  'Yoo',\n",
       "  'Yoo@gmail.com',\n",
       "  '010-1234-1234',\n",
       "  'Yoo.com',\n",
       "  '2025-06-10 10:48:57')]"
      ]
     },
     "execution_count": 24,
     "metadata": {},
     "output_type": "execute_result"
    }
   ],
   "source": [
    "sql = \"select * from users where id in (?,?)\"\n",
    "\n",
    "cursor.execute(sql,(3,5))\n",
    "cursor.fetchall()"
   ]
  },
  {
   "cell_type": "code",
   "execution_count": 28,
   "id": "9f950822",
   "metadata": {},
   "outputs": [
    {
     "data": {
      "text/plain": [
       "[(3,\n",
       "  'Hong',\n",
       "  'Hong@gmail.com',\n",
       "  '010-1234-1234',\n",
       "  'Hong.com',\n",
       "  '2025-06-10 10:48:57')]"
      ]
     },
     "execution_count": 28,
     "metadata": {},
     "output_type": "execute_result"
    }
   ],
   "source": [
    "#username : Hong\n",
    "\n",
    "sql = \"select * from users where username=?\"\n",
    "\n",
    "cursor.execute(sql,(\"Hong\",))\n",
    "cursor.fetchall()"
   ]
  },
  {
   "cell_type": "code",
   "execution_count": 29,
   "id": "d8af537a",
   "metadata": {},
   "outputs": [
    {
     "data": {
      "text/plain": [
       "<sqlite3.Cursor at 0x1c43cec43c0>"
      ]
     },
     "execution_count": 29,
     "metadata": {},
     "output_type": "execute_result"
    }
   ],
   "source": [
    "#update(수정)\n",
    "\n",
    "\n",
    "sql = \"update users set phone=? where id=?\"\n",
    "\n",
    "cursor.execute(sql, ('010-4567-8528', 2))"
   ]
  },
  {
   "cell_type": "code",
   "execution_count": 30,
   "id": "23fd85ff",
   "metadata": {},
   "outputs": [
    {
     "data": {
      "text/plain": [
       "<sqlite3.Cursor at 0x1c43cec43c0>"
      ]
     },
     "execution_count": 30,
     "metadata": {},
     "output_type": "execute_result"
    }
   ],
   "source": [
    "# delete(삭제)\n",
    "\n",
    "sql = \"delete from users where id=?\"\n",
    "cursor.execute(sql,(5,))"
   ]
  },
  {
   "cell_type": "code",
   "execution_count": null,
   "id": "fb49f1e1",
   "metadata": {},
   "outputs": [],
   "source": []
  }
 ],
 "metadata": {
  "kernelspec": {
   "display_name": "venv",
   "language": "python",
   "name": "python3"
  },
  "language_info": {
   "codemirror_mode": {
    "name": "ipython",
    "version": 3
   },
   "file_extension": ".py",
   "mimetype": "text/x-python",
   "name": "python",
   "nbconvert_exporter": "python",
   "pygments_lexer": "ipython3",
   "version": "3.13.3"
  }
 },
 "nbformat": 4,
 "nbformat_minor": 5
}
