{
 "cells": [
  {
   "cell_type": "markdown",
   "id": "0ee1840d",
   "metadata": {},
   "source": [
    "### 모듈\n",
    " - 함수, 클래스 모아놓은 파일\n",
    "\n",
    "### 패키지\n",
    " - 관련있는 모듈의 집합"
   ]
  },
  {
   "cell_type": "code",
   "execution_count": null,
   "id": "e0340e5e",
   "metadata": {},
   "outputs": [
    {
     "name": "stdout",
     "output_type": "stream",
     "text": [
      "4\n",
      "3\n",
      "0.1411200080598672\n"
     ]
    }
   ],
   "source": [
    "import math\n",
    "\n",
    "print(math.ceil(3.14))\n",
    "print(math.floor(3.14))\n",
    "print(math.sin(3))"
   ]
  },
  {
   "cell_type": "code",
   "execution_count": null,
   "id": "46c74f25",
   "metadata": {},
   "outputs": [
    {
     "name": "stdout",
     "output_type": "stream",
     "text": [
      "0.7344382341461781\n",
      "19.82882167115839\n",
      "7\n",
      "10\n",
      "7\n",
      "[6, 7, 3, 1, 5, 2, 4]\n",
      "[6, 1]\n"
     ]
    }
   ],
   "source": [
    "import random\n",
    "\n",
    "# 0.0 <=  < 1.0\n",
    "print(random.random())\n",
    "\n",
    "#uniform(x,y) : x ~ y 사이의  임의의 값 float 리턴\n",
    "print(random.uniform(10, 20))\n",
    "\n",
    "#randrange(max) : 0~max 사이의 int 값 리턴\n",
    "#randrange(min ,max) : min ~ max 사이의 int 값 리턴\n",
    "print(random.randrange(10))\n",
    "print(random.randrange(10,20))\n",
    "\n",
    "#choice\n",
    "list1 = [1,2,3,4,5,6,7]\n",
    "#choice(리스트) : 리스트에서 임의로 하나 \n",
    "print(random.choice(list1))\n",
    "\n",
    "#shuffle(리스트): 리스트 내부 요소들을 랜덤하게 섞기\n",
    "random.shuffle(list1)\n",
    "print(list1)\n",
    "\n",
    "#sample(리스트, k=숫자) : 리스트 요소 중에서 k개 뽑기\n",
    "print(random.sample(list1, k=2))"
   ]
  },
  {
   "cell_type": "code",
   "execution_count": 8,
   "id": "25cf26e1",
   "metadata": {},
   "outputs": [
    {
     "name": "stdout",
     "output_type": "stream",
     "text": [
      "지금부터 5초 정리\n",
      "프로그램 종료됨\n"
     ]
    }
   ],
   "source": [
    "import time\n",
    "\n",
    "print(\"지금부터 5초 정리\")\n",
    "time.sleep(5)\n",
    "print(\"프로그램 종료됨\")"
   ]
  },
  {
   "cell_type": "code",
   "execution_count": 21,
   "id": "f82ef36f",
   "metadata": {},
   "outputs": [
    {
     "name": "stdout",
     "output_type": "stream",
     "text": [
      "4\n",
      "3\n",
      "0.1411200080598672\n"
     ]
    }
   ],
   "source": [
    "#import 모듈명 : 전체 모듈 load\n",
    "#from 모듈명 import 함수명, 클래스명 ... : 사용할 함수, 클래스만 가져오기\n",
    "#필요한 것만 사용하기에 해당 방법을 많이 쓴다. \n",
    "\n",
    "from math import ceil, floor, sin\n",
    "\n",
    "print(ceil(3.14))\n",
    "print(floor(3.14))\n",
    "print(sin(3))"
   ]
  },
  {
   "cell_type": "code",
   "execution_count": 22,
   "id": "c12e25b5",
   "metadata": {},
   "outputs": [
    {
     "name": "stdout",
     "output_type": "stream",
     "text": [
      "0.5665973957243412\n",
      "17.83632978918682\n",
      "6\n",
      "12\n",
      "5\n",
      "[1, 4, 5, 2, 7, 3, 6]\n",
      "[3, 7]\n"
     ]
    }
   ],
   "source": [
    "from random import random, randrange, choice, shuffle, sample, uniform\n",
    "\n",
    "# 0.0 <=  < 1.0\n",
    "print(random())\n",
    "\n",
    "#uniform(x,y) : x ~ y 사이의  임의의 값 float 리턴\n",
    "print(uniform(10, 20))\n",
    "\n",
    "#randrange(max) : 0~max 사이의 int 값 리턴\n",
    "#randrange(min ,max) : min ~ max 사이의 int 값 리턴\n",
    "print(randrange(10))\n",
    "print(randrange(10,20))\n",
    "\n",
    "#choice\n",
    "list1 = [1,2,3,4,5,6,7]\n",
    "#choice(리스트) : 리스트에서 임의로 하나 \n",
    "print(choice(list1))\n",
    "\n",
    "#shuffle(리스트): 리스트 내부 요소들을 랜덤하게 섞기\n",
    "shuffle(list1)\n",
    "print(list1)\n",
    "\n",
    "#sample(리스트, k=숫자) : 리스트 요소 중에서 k개 뽑기\n",
    "print(sample(list1, k=2))"
   ]
  },
  {
   "cell_type": "markdown",
   "id": "0fe645e3",
   "metadata": {},
   "source": [
    "# 커스텀 모듈"
   ]
  },
  {
   "cell_type": "code",
   "execution_count": 28,
   "id": "249051e2",
   "metadata": {},
   "outputs": [
    {
     "name": "stdout",
     "output_type": "stream",
     "text": [
      "11\n",
      "4\n"
     ]
    }
   ],
   "source": [
    "import mod1\n",
    "\n",
    "print(mod1.add(5,6))\n",
    "print(mod1.sub(10,6))"
   ]
  },
  {
   "cell_type": "code",
   "execution_count": 31,
   "id": "43a012f7",
   "metadata": {},
   "outputs": [
    {
     "name": "stdout",
     "output_type": "stream",
     "text": [
      "11\n",
      "4\n"
     ]
    }
   ],
   "source": [
    "from mod1 import add, sub\n",
    "\n",
    "print(add(5,6))\n",
    "print(sub(10,6))"
   ]
  },
  {
   "cell_type": "code",
   "execution_count": 33,
   "id": "458eb219",
   "metadata": {},
   "outputs": [
    {
     "name": "stdout",
     "output_type": "stream",
     "text": [
      "78.5398\n",
      "21\n"
     ]
    }
   ],
   "source": [
    "from mod2 import *\n",
    "\n",
    "obj = Math()\n",
    "print(obj.solv(5))\n",
    "\n",
    "print(add(9,12))"
   ]
  },
  {
   "cell_type": "code",
   "execution_count": 34,
   "id": "1c4b271c",
   "metadata": {},
   "outputs": [
    {
     "name": "stdout",
     "output_type": "stream",
     "text": [
      "20\n"
     ]
    }
   ],
   "source": [
    "from mod3 import Calc\n",
    "\n",
    "Calc = Calc(15,5)\n",
    "print(Calc.sum())"
   ]
  },
  {
   "cell_type": "code",
   "execution_count": 2,
   "id": "cd1bab37",
   "metadata": {},
   "outputs": [],
   "source": [
    "import datetime\n",
    "\n",
    "day1 =datetime.datetime(2025,6,9,13,17,11)\n",
    "day2 =datetime.date(2025,6,9)\n",
    "day3 =datetime.date(2023,6,9)\n",
    "time =datetime.time(13,17,11)"
   ]
  },
  {
   "cell_type": "code",
   "execution_count": null,
   "id": "ae36c398",
   "metadata": {},
   "outputs": [
    {
     "data": {
      "text/plain": [
       "1749442767.7721426"
      ]
     },
     "execution_count": 36,
     "metadata": {},
     "output_type": "execute_result"
    }
   ],
   "source": [
    "import time\n",
    "\n",
    "# 1970-01-01 기준으로 지난 시간 초 단위로 리턴함.\n",
    "time.time()"
   ]
  },
  {
   "cell_type": "code",
   "execution_count": null,
   "id": "0d4a2cfd",
   "metadata": {},
   "outputs": [
    {
     "name": "stdout",
     "output_type": "stream",
     "text": [
      "0\n",
      "731 days, 0:00:00\n"
     ]
    }
   ],
   "source": [
    "#weekday : 요일을 숫자로 처리( 월 - 0)\n",
    "\n",
    "print(day1.weekday())\n",
    "\n",
    "print(day2 - day3) #며칠 지났는지 알려줌."
   ]
  },
  {
   "cell_type": "code",
   "execution_count": null,
   "id": "d23d929e",
   "metadata": {},
   "outputs": [
    {
     "data": {
      "text/plain": [
       "datetime.datetime(2025, 6, 10, 9, 50, 20, 996643)"
      ]
     },
     "execution_count": 4,
     "metadata": {},
     "output_type": "execute_result"
    }
   ],
   "source": [
    "now = datetime.datetime.now() #datetime 모듈 안에 있는 datetime 클래스를 호출함.\n",
    "\n",
    "now"
   ]
  },
  {
   "cell_type": "code",
   "execution_count": 5,
   "id": "173d453b",
   "metadata": {},
   "outputs": [
    {
     "data": {
      "text/plain": [
       "datetime.datetime(2025, 6, 10, 9, 51, 49, 949277)"
      ]
     },
     "execution_count": 5,
     "metadata": {},
     "output_type": "execute_result"
    }
   ],
   "source": [
    "from datetime import datetime\n",
    "\n",
    "now = datetime.now()\n",
    "now"
   ]
  },
  {
   "cell_type": "code",
   "execution_count": 6,
   "id": "3eb00e6f",
   "metadata": {},
   "outputs": [
    {
     "data": {
      "text/plain": [
       "datetime.datetime(2025, 6, 10, 9, 52, 52, 197052)"
      ]
     },
     "execution_count": 6,
     "metadata": {},
     "output_type": "execute_result"
    }
   ],
   "source": [
    "now = datetime.today()\n",
    "\n",
    "now"
   ]
  },
  {
   "cell_type": "code",
   "execution_count": 9,
   "id": "cdd37760",
   "metadata": {},
   "outputs": [
    {
     "name": "stdout",
     "output_type": "stream",
     "text": [
      "1749516924.532194\n",
      "time.struct_time(tm_year=2025, tm_mon=6, tm_mday=10, tm_hour=9, tm_min=55, tm_sec=24, tm_wday=1, tm_yday=161, tm_isdst=0)\n",
      "Tue Jun 10 09:55:24 2025\n"
     ]
    }
   ],
   "source": [
    "print(time.time())\n",
    "\n",
    "print(time.localtime(time.time()))\n",
    "print(time.asctime(time.localtime(time.time())))"
   ]
  },
  {
   "cell_type": "markdown",
   "id": "a605368e",
   "metadata": {},
   "source": [
    "### 내장함수"
   ]
  },
  {
   "cell_type": "code",
   "execution_count": 12,
   "id": "28625941",
   "metadata": {},
   "outputs": [
    {
     "name": "stdout",
     "output_type": "stream",
     "text": [
      "body\n",
      "foo\n",
      "boo\n",
      "bar\n",
      "0 body\n",
      "1 foo\n",
      "2 boo\n",
      "3 bar\n"
     ]
    }
   ],
   "source": [
    "#enumerate() : 리스트, 튜플, 문자열을 입력받아 --> 인덱스와 enumerate 객체 리턴\n",
    "# - 많이 사용함\n",
    "\n",
    "list1 = [\"body\", \"foo\", \"boo\", \"bar\"]\n",
    "\n",
    "for item in list1:\n",
    "    print(item)\n",
    "    \n",
    "for idx, item in enumerate(list1):\n",
    "    print(idx, item)"
   ]
  },
  {
   "cell_type": "code",
   "execution_count": null,
   "id": "f90f8636",
   "metadata": {},
   "outputs": [
    {
     "name": "stdout",
     "output_type": "stream",
     "text": [
      "3\n",
      "3\n",
      "3.0\n",
      "3.0\n",
      "3\n",
      "3.4\n"
     ]
    }
   ],
   "source": [
    "str1 = \"3\"\n",
    "\n",
    "#숫자(int)로 변경 => int(문자숫자)\n",
    "print(int(str1))\n",
    "print(int(3.6))\n",
    "\n",
    "# 실수로 변경 = float()\n",
    "print(float(str1))\n",
    "print(float(3))\n",
    "\n",
    "#문자 => str()\n",
    "print(str(3))\n",
    "print(str(3.4))"
   ]
  },
  {
   "cell_type": "code",
   "execution_count": 22,
   "id": "bb497821",
   "metadata": {},
   "outputs": [
    {
     "name": "stdout",
     "output_type": "stream",
     "text": [
      "[1, 2, 3]\n",
      "(4, 5, 6)\n",
      "3\n",
      "3\n"
     ]
    }
   ],
   "source": [
    "#tuple <==> list\n",
    "\n",
    "t1 = (1,2,3)\n",
    "list1 = [4,5,6]\n",
    "\n",
    "#list() / tuple()\n",
    "print(list(t1))\n",
    "print(tuple(list1))\n",
    "\n",
    "#len() : 길이 \n",
    "print(len(t1))\n",
    "print(len(list1))"
   ]
  },
  {
   "cell_type": "code",
   "execution_count": null,
   "id": "774d8d96",
   "metadata": {},
   "outputs": [
    {
     "data": {
      "text/plain": [
       "[6, 5, 4]"
      ]
     },
     "execution_count": 24,
     "metadata": {},
     "output_type": "execute_result"
    }
   ],
   "source": [
    "#sort : 기본은 오름차순\n",
    "#lsit.sort() : 원본 자체를 정렬한다.\n",
    "\n",
    "#\n",
    "\n",
    "list1.sort(reverse=True)\n",
    "list1"
   ]
  },
  {
   "cell_type": "code",
   "execution_count": 33,
   "id": "c7341846",
   "metadata": {},
   "outputs": [
    {
     "name": "stdout",
     "output_type": "stream",
     "text": [
      "list1: [4, 5, 6, 2, 1]\n",
      "list2: [6, 5, 4, 2, 1]\n"
     ]
    }
   ],
   "source": [
    "list1 = [4,5,6,2,1]\n",
    "\n",
    "#원본 자체를 정렬하지 않고 정렬을 원한다면! \n",
    "#sorted() : 리스트 정렬 후 그 결과를 새로운 리스트로 리턴\n",
    "list2 = sorted(list1, reverse=True)\n",
    "\n",
    "print(\"list1:\",list1)\n",
    "print(\"list2:\",list2)"
   ]
  },
  {
   "cell_type": "code",
   "execution_count": null,
   "id": "c0f44626",
   "metadata": {},
   "outputs": [],
   "source": []
  }
 ],
 "metadata": {
  "kernelspec": {
   "display_name": "venv",
   "language": "python",
   "name": "python3"
  },
  "language_info": {
   "codemirror_mode": {
    "name": "ipython",
    "version": 3
   },
   "file_extension": ".py",
   "mimetype": "text/x-python",
   "name": "python",
   "nbconvert_exporter": "python",
   "pygments_lexer": "ipython3",
   "version": "3.13.3"
  }
 },
 "nbformat": 4,
 "nbformat_minor": 5
}
