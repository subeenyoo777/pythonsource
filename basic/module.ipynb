{
 "cells": [
  {
   "cell_type": "markdown",
   "id": "0ee1840d",
   "metadata": {},
   "source": [
    "### 모듈\n",
    " - 함수, 클래스 모아놓은 파일\n",
    "\n",
    "### 패키지\n",
    " - 관련있는 모듈의 집합"
   ]
  },
  {
   "cell_type": "code",
   "execution_count": null,
   "id": "e0340e5e",
   "metadata": {},
   "outputs": [
    {
     "name": "stdout",
     "output_type": "stream",
     "text": [
      "4\n",
      "3\n",
      "0.1411200080598672\n"
     ]
    }
   ],
   "source": [
    "import math\n",
    "\n",
    "print(math.ceil(3.14))\n",
    "print(math.floor(3.14))\n",
    "print(math.sin(3))"
   ]
  },
  {
   "cell_type": "code",
   "execution_count": null,
   "id": "46c74f25",
   "metadata": {},
   "outputs": [
    {
     "name": "stdout",
     "output_type": "stream",
     "text": [
      "0.7344382341461781\n",
      "19.82882167115839\n",
      "7\n",
      "10\n",
      "7\n",
      "[6, 7, 3, 1, 5, 2, 4]\n",
      "[6, 1]\n"
     ]
    }
   ],
   "source": [
    "import random\n",
    "\n",
    "# 0.0 <=  < 1.0\n",
    "print(random.random())\n",
    "\n",
    "#uniform(x,y) : x ~ y 사이의  임의의 값 float 리턴\n",
    "print(random.uniform(10, 20))\n",
    "\n",
    "#randrange(max) : 0~max 사이의 int 값 리턴\n",
    "#randrange(min ,max) : min ~ max 사이의 int 값 리턴\n",
    "print(random.randrange(10))\n",
    "print(random.randrange(10,20))\n",
    "\n",
    "#choice\n",
    "list1 = [1,2,3,4,5,6,7]\n",
    "#choice(리스트) : 리스트에서 임의로 하나 \n",
    "print(random.choice(list1))\n",
    "\n",
    "#shuffle(리스트): 리스트 내부 요소들을 랜덤하게 섞기\n",
    "random.shuffle(list1)\n",
    "print(list1)\n",
    "\n",
    "#sample(리스트, k=숫자) : 리스트 요소 중에서 k개 뽑기\n",
    "print(random.sample(list1, k=2))"
   ]
  },
  {
   "cell_type": "code",
   "execution_count": 19,
   "id": "25cf26e1",
   "metadata": {},
   "outputs": [
    {
     "name": "stdout",
     "output_type": "stream",
     "text": [
      "지금부터 5초 정리\n",
      "프로그램 종료됨\n"
     ]
    }
   ],
   "source": [
    "import time\n",
    "\n",
    "print(\"지금부터 5초 정리\")\n",
    "time.sleep(5)\n",
    "print(\"프로그램 종료됨\")"
   ]
  },
  {
   "cell_type": "code",
   "execution_count": 21,
   "id": "f82ef36f",
   "metadata": {},
   "outputs": [
    {
     "name": "stdout",
     "output_type": "stream",
     "text": [
      "4\n",
      "3\n",
      "0.1411200080598672\n"
     ]
    }
   ],
   "source": [
    "#import 모듈명 : 전체 모듈 load\n",
    "#from 모듈명 import 함수명, 클래스명 ... : 사용할 함수, 클래스만 가져오기\n",
    "#필요한 것만 사용하기에 해당 방법을 많이 쓴다. \n",
    "\n",
    "from math import ceil, floor, sin\n",
    "\n",
    "print(ceil(3.14))\n",
    "print(floor(3.14))\n",
    "print(sin(3))"
   ]
  },
  {
   "cell_type": "code",
   "execution_count": 22,
   "id": "c12e25b5",
   "metadata": {},
   "outputs": [
    {
     "name": "stdout",
     "output_type": "stream",
     "text": [
      "0.5665973957243412\n",
      "17.83632978918682\n",
      "6\n",
      "12\n",
      "5\n",
      "[1, 4, 5, 2, 7, 3, 6]\n",
      "[3, 7]\n"
     ]
    }
   ],
   "source": [
    "from random import random, randrange, choice, shuffle, sample, uniform\n",
    "\n",
    "# 0.0 <=  < 1.0\n",
    "print(random())\n",
    "\n",
    "#uniform(x,y) : x ~ y 사이의  임의의 값 float 리턴\n",
    "print(uniform(10, 20))\n",
    "\n",
    "#randrange(max) : 0~max 사이의 int 값 리턴\n",
    "#randrange(min ,max) : min ~ max 사이의 int 값 리턴\n",
    "print(randrange(10))\n",
    "print(randrange(10,20))\n",
    "\n",
    "#choice\n",
    "list1 = [1,2,3,4,5,6,7]\n",
    "#choice(리스트) : 리스트에서 임의로 하나 \n",
    "print(choice(list1))\n",
    "\n",
    "#shuffle(리스트): 리스트 내부 요소들을 랜덤하게 섞기\n",
    "shuffle(list1)\n",
    "print(list1)\n",
    "\n",
    "#sample(리스트, k=숫자) : 리스트 요소 중에서 k개 뽑기\n",
    "print(sample(list1, k=2))"
   ]
  },
  {
   "cell_type": "markdown",
   "id": "0fe645e3",
   "metadata": {},
   "source": [
    "# 커스텀 모듈"
   ]
  },
  {
   "cell_type": "code",
   "execution_count": 28,
   "id": "249051e2",
   "metadata": {},
   "outputs": [
    {
     "name": "stdout",
     "output_type": "stream",
     "text": [
      "11\n",
      "4\n"
     ]
    }
   ],
   "source": [
    "import mod1\n",
    "\n",
    "print(mod1.add(5,6))\n",
    "print(mod1.sub(10,6))"
   ]
  },
  {
   "cell_type": "code",
   "execution_count": 31,
   "id": "43a012f7",
   "metadata": {},
   "outputs": [
    {
     "name": "stdout",
     "output_type": "stream",
     "text": [
      "11\n",
      "4\n"
     ]
    }
   ],
   "source": [
    "from mod1 import add, sub\n",
    "\n",
    "print(add(5,6))\n",
    "print(sub(10,6))"
   ]
  },
  {
   "cell_type": "code",
   "execution_count": 33,
   "id": "458eb219",
   "metadata": {},
   "outputs": [
    {
     "name": "stdout",
     "output_type": "stream",
     "text": [
      "78.5398\n",
      "21\n"
     ]
    }
   ],
   "source": [
    "from mod2 import *\n",
    "\n",
    "obj = Math()\n",
    "print(obj.solv(5))\n",
    "\n",
    "print(add(9,12))"
   ]
  },
  {
   "cell_type": "code",
   "execution_count": 34,
   "id": "1c4b271c",
   "metadata": {},
   "outputs": [
    {
     "name": "stdout",
     "output_type": "stream",
     "text": [
      "20\n"
     ]
    }
   ],
   "source": [
    "from mod3 import Calc\n",
    "\n",
    "Calc = Calc(15,5)\n",
    "print(Calc.sum())"
   ]
  },
  {
   "cell_type": "code",
   "execution_count": 35,
   "id": "cd1bab37",
   "metadata": {},
   "outputs": [],
   "source": [
    "import datetime\n",
    "\n",
    "day1 =datetime.datetime(2025,6,9,13,17,11)\n",
    "day2 =datetime.date(2025,6,9)\n",
    "day3 =datetime.time(13,17,11)"
   ]
  },
  {
   "cell_type": "code",
   "execution_count": null,
   "id": "ae36c398",
   "metadata": {},
   "outputs": [
    {
     "data": {
      "text/plain": [
       "1749442767.7721426"
      ]
     },
     "execution_count": 36,
     "metadata": {},
     "output_type": "execute_result"
    }
   ],
   "source": [
    "import time\n",
    "\n",
    "# 1970-01-01 기준으로 지난 시간 초 단위로 리턴함.\n",
    "time.time()"
   ]
  }
 ],
 "metadata": {
  "kernelspec": {
   "display_name": "venv",
   "language": "python",
   "name": "python3"
  },
  "language_info": {
   "codemirror_mode": {
    "name": "ipython",
    "version": 3
   },
   "file_extension": ".py",
   "mimetype": "text/x-python",
   "name": "python",
   "nbconvert_exporter": "python",
   "pygments_lexer": "ipython3",
   "version": "3.13.3"
  }
 },
 "nbformat": 4,
 "nbformat_minor": 5
}
