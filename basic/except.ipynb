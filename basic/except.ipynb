{
 "cells": [
  {
   "cell_type": "markdown",
   "id": "72268245",
   "metadata": {},
   "source": [
    "### 예외\n",
    " - SyntaxError : 문법적인 에러\n",
    " - RuntimeError : 실행 중 발생 에러\n",
    "\n",
    " ```\n",
    "    try : \n",
    "        에러 발생할 가능성이 있는 코드\n",
    "    except ~~ as e:\n",
    "        해당 에러가 발생할 경우 처리할 구문\n",
    "    else:\n",
    "        error가 발생하지 않았을 경우 실행할 코드\n",
    "    finally:\n",
    "        error와 상관없이 무조건 실행할 코드        \n",
    " ```"
   ]
  },
  {
   "cell_type": "code",
   "execution_count": 6,
   "id": "b0bceaeb",
   "metadata": {},
   "outputs": [],
   "source": [
    "a,b = 10,15\n",
    "\n",
    "# NameError : 변수 선언 안 함.\n",
    "# print(c)\n",
    "\n",
    "#ZeroDivisionError : 0으로 나눌 때 발생하는 에러\n",
    "# print( 10 /0 )\n",
    "\n",
    "#IndexError: 해당 인덱스 없는 데 출력\n",
    "# x = [10,20,30]\n",
    "# print(x[3])\n",
    "\n",
    "# #KeyError                                  \n",
    "# dict1 = {\"name\":\"Kim\",\"age\":33,\"city\":\"seoul\"}\n",
    "# print(dict1[\"hobby\"])"
   ]
  },
  {
   "cell_type": "code",
   "execution_count": 8,
   "id": "37d28dfc",
   "metadata": {},
   "outputs": [
    {
     "name": "stdout",
     "output_type": "stream",
     "text": [
      "못 찾았음\n"
     ]
    }
   ],
   "source": [
    "names = [\"Kim\",\"Park\",\"Lee\"]\n",
    "\n",
    "try:\n",
    "    z = \"Let\"\n",
    "    idx = names.index(z)\n",
    "    print(f\"{z} 찾았음 {idx + 1 } 위치\")\n",
    "except:\n",
    "    print(\"못 찾았음\")"
   ]
  },
  {
   "cell_type": "code",
   "execution_count": null,
   "id": "1efd03d1",
   "metadata": {},
   "outputs": [
    {
     "name": "stdout",
     "output_type": "stream",
     "text": [
      "못 찾았음\n"
     ]
    }
   ],
   "source": [
    "#ValueError                                    \n",
    "    # idx = names.index(z)\n",
    "#Error 명시해도 안해도 됨\n",
    "try:\n",
    "    z = \"Let\"\n",
    "    idx = names.index(z)\n",
    "    print(f\"{z} 찾았음 {idx + 1 } 위치\")\n",
    "except ValueError:\n",
    "    print(\"못 찾았음\")\n"
   ]
  },
  {
   "cell_type": "code",
   "execution_count": 18,
   "id": "9725296e",
   "metadata": {},
   "outputs": [
    {
     "name": "stdout",
     "output_type": "stream",
     "text": [
      "Kim 찾았음 1 위치\n"
     ]
    }
   ],
   "source": [
    "try:\n",
    "     z = \"Kim\"\n",
    "     idx = names.index(z)\n",
    "except ValueError:\n",
    "     print(\"못찾았음\")\n",
    "else:\n",
    "     print(f\"{z} 찾았음 {idx + 1 } 위치\")"
   ]
  },
  {
   "cell_type": "code",
   "execution_count": 12,
   "id": "dcfcd75a",
   "metadata": {},
   "outputs": [
    {
     "name": "stdout",
     "output_type": "stream",
     "text": [
      "Kim 찾았음 1 위치\n"
     ]
    }
   ],
   "source": [
    "try:\n",
    "    z = \"Kim\"\n",
    "    idx = names.index(z)\n",
    "    print(f\"{z} 찾았음 {idx + 1 } 위치\")\n",
    "except ValueError:\n",
    "    print(\"못찾았음\")"
   ]
  },
  {
   "cell_type": "code",
   "execution_count": 13,
   "id": "4a09c7d0",
   "metadata": {},
   "outputs": [
    {
     "name": "stdout",
     "output_type": "stream",
     "text": [
      "Kim 찾았음 1 위치\n"
     ]
    }
   ],
   "source": [
    "try:\n",
    "    z = \"Kim\"\n",
    "    idx = names.index(z)\n",
    "\n",
    "except Exception:\n",
    "    print(\"못찾았음\")\n",
    "else:\n",
    "    print(f\"{z} 찾았음 {idx + 1 } 위치\")        "
   ]
  },
  {
   "cell_type": "code",
   "execution_count": 16,
   "id": "ed689bd2",
   "metadata": {},
   "outputs": [
    {
     "name": "stdout",
     "output_type": "stream",
     "text": [
      "못찾았음\n",
      "Ok\n"
     ]
    }
   ],
   "source": [
    "try:\n",
    "    # z = \"Kim\"\n",
    "    z = \"Let\"\n",
    "    idx = names.index(z)\n",
    "\n",
    "except Exception:\n",
    "    print(\"못찾았음\")\n",
    "else:\n",
    "    print(f\"{z} 찾았음 {idx + 1 } 위치\")        \n",
    "finally:\n",
    "    print(\"Ok\")"
   ]
  },
  {
   "cell_type": "code",
   "execution_count": 17,
   "id": "6fef27e9",
   "metadata": {},
   "outputs": [
    {
     "name": "stdout",
     "output_type": "stream",
     "text": [
      "문제 발생\n"
     ]
    }
   ],
   "source": [
    "#예외 직접 발생 : raise\n",
    "\n",
    "try:\n",
    "    a = \"333\"\n",
    "    if a == \"Kim\":\n",
    "        print(\"허가\")\n",
    "    else:\n",
    "        raise ValueError\n",
    "except ValueError:\n",
    "    print(\"문제 발생\")\n",
    "except Exception as e:\n",
    "    print(e)\n",
    "else:\n",
    "    print(\"OK\")"
   ]
  }
 ],
 "metadata": {
  "kernelspec": {
   "display_name": "venv",
   "language": "python",
   "name": "python3"
  },
  "language_info": {
   "codemirror_mode": {
    "name": "ipython",
    "version": 3
   },
   "file_extension": ".py",
   "mimetype": "text/x-python",
   "name": "python",
   "nbconvert_exporter": "python",
   "pygments_lexer": "ipython3",
   "version": "3.13.3"
  }
 },
 "nbformat": 4,
 "nbformat_minor": 5
}
