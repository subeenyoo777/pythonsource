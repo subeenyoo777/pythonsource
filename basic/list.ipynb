{
 "cells": [
  {
   "cell_type": "markdown",
   "id": "59cf0671",
   "metadata": {},
   "source": [
    "### 리스트\n",
    " - java/javascript 의 배열과 개념 동일\n",
    " - javascript 의 배열과 동작 방식이 동일함(데이터 여러 타입을 담을 수 있음)"
   ]
  },
  {
   "cell_type": "code",
   "execution_count": null,
   "id": "f8666f45",
   "metadata": {},
   "outputs": [],
   "source": [
    "#list생성 : 데이터 분석, crolling.. 등 정말 많이 사용한다/java의 배열 개념.\n",
    "#list(함수) \n",
    "list1 = []\n",
    "list2 = [\"a\", \"b\", \"c\", 1, 2, 3 ]\n",
    "list3 = [1, 2, 3, 4, 5.5, 6.5 ]\n",
    "list4 = [1, 2,[\"Life\", \"is\" ,\"short\"]] #2차원 리스트\n",
    "list5 =list('34')\n"
   ]
  },
  {
   "cell_type": "code",
   "execution_count": 4,
   "id": "405d5471",
   "metadata": {},
   "outputs": [
    {
     "name": "stdout",
     "output_type": "stream",
     "text": [
      "[]\n",
      "['a', 'b', 'c', 1, 2, 3]\n",
      "[1, 2, 3, 4, 5.5, 6.5]\n",
      "[1, 2, ['Life', 'is', 'short']]\n",
      "['3', '4']\n"
     ]
    }
   ],
   "source": [
    "print(list1)\n",
    "print(list2)\n",
    "print(list3)\n",
    "print(list4)\n",
    "print(list5)"
   ]
  },
  {
   "cell_type": "markdown",
   "id": "182cb1fe",
   "metadata": {},
   "source": [
    "리스트 인덱싱과 슬라이싱\n",
    "(인덱싱은 문자와 똑같음)"
   ]
  },
  {
   "cell_type": "code",
   "execution_count": 11,
   "id": "88b25e82",
   "metadata": {},
   "outputs": [
    {
     "name": "stdout",
     "output_type": "stream",
     "text": [
      "a\n",
      "['Life', 'is', 'short']\n",
      "['Life', 'is', 'short']\n",
      "Life\n",
      "4\n"
     ]
    }
   ],
   "source": [
    "print(list2[0])\n",
    "print(list4[2])\n",
    "print(list4[-1])\n",
    "print(list4[-1][0])\n",
    "print(list5[-1])"
   ]
  },
  {
   "cell_type": "code",
   "execution_count": 16,
   "id": "96247534",
   "metadata": {},
   "outputs": [
    {
     "name": "stdout",
     "output_type": "stream",
     "text": [
      "is\n",
      "is\n"
     ]
    }
   ],
   "source": [
    "list6 = [1,2,[\"a\", \"b\", [\"life\", \"is\"]]]\n",
    "\n",
    "#is 글자 출력\n",
    "print(list6[2][2][1])\n",
    "print(list6[-1][-1][-1])"
   ]
  },
  {
   "cell_type": "code",
   "execution_count": 20,
   "id": "1a129efa",
   "metadata": {},
   "outputs": [
    {
     "name": "stdout",
     "output_type": "stream",
     "text": [
      "['a', 'b', 'c', 1, 2, 3]\n",
      "['a', 'b']\n",
      "['c', 1, 2, 3]\n",
      "[1, 2, ['Life', 'is', 'short']]\n",
      "['Life', 'is']\n"
     ]
    }
   ],
   "source": [
    "print(list2)\n",
    "print(list2[:2])\n",
    "print(list2[2:])\n",
    "\n",
    "print(list4)\n",
    "print(list4[2][:2])"
   ]
  },
  {
   "cell_type": "code",
   "execution_count": null,
   "id": "187735f8",
   "metadata": {},
   "outputs": [
    {
     "name": "stdout",
     "output_type": "stream",
     "text": [
      "['a', 'b', 'c', 1, 2, 3, 1, 2, 3, 4, 5.5, 6.5]\n",
      "['a', 'b', 'c', 1, 2, 3, 'a', 'b', 'c', 1, 2, 3, 'a', 'b', 'c', 1, 2, 3]\n"
     ]
    }
   ],
   "source": [
    "# +(연결) , *(반복) \n",
    "print(list2 + list3 )\n",
    "print(list2 * 3 )"
   ]
  },
  {
   "cell_type": "code",
   "execution_count": 32,
   "id": "9a197ba6",
   "metadata": {},
   "outputs": [
    {
     "name": "stdout",
     "output_type": "stream",
     "text": [
      "['a', 'd', 11, 12, 11, 12, 'c', 1, 2, 3]\n",
      "['a', 10, 11, 12, 11, 12, 11, 12, 'c', 1, 2, 3]\n",
      "['a', [15, 16, 17], 11, 12, 11, 12, 11, 12, 'c', 1, 2, 3]\n"
     ]
    }
   ],
   "source": [
    "list2[1] = 'd'\n",
    "print(list2)\n",
    "\n",
    "list2[1:2] = [10,11,12]\n",
    "print(list2)\n",
    "\n",
    "list2[1] = [15,16,17]\n",
    "print(list2)"
   ]
  },
  {
   "cell_type": "code",
   "execution_count": 34,
   "id": "e81f44d4",
   "metadata": {},
   "outputs": [
    {
     "name": "stdout",
     "output_type": "stream",
     "text": [
      "['a', 11, 12, 11, 12, 11, 12, 'c', 1, 2, 3]\n"
     ]
    }
   ],
   "source": [
    "#list 요소 삭제\n",
    "del list2[1]\n",
    "print(list2) "
   ]
  },
  {
   "cell_type": "code",
   "execution_count": 36,
   "id": "9cd5ac9f",
   "metadata": {},
   "outputs": [
    {
     "data": {
      "text/plain": [
       "11"
      ]
     },
     "execution_count": 36,
     "metadata": {},
     "output_type": "execute_result"
    }
   ],
   "source": [
    "#len() : 길이\n",
    "len(list2)"
   ]
  },
  {
   "cell_type": "code",
   "execution_count": 39,
   "id": "fb17c6d9",
   "metadata": {},
   "outputs": [
    {
     "name": "stdout",
     "output_type": "stream",
     "text": [
      "a  11  12  11  12  11  12  c  1  2  3  "
     ]
    }
   ],
   "source": [
    "for i in list2:\n",
    "    print(i, end=\"  \")"
   ]
  },
  {
   "cell_type": "markdown",
   "id": "bc5f00a6",
   "metadata": {},
   "source": [
    "리스트 함수"
   ]
  },
  {
   "cell_type": "code",
   "execution_count": 51,
   "id": "efbd4133",
   "metadata": {},
   "outputs": [
    {
     "data": {
      "text/plain": [
       "['3', '4', '', '5', '5', '5', '5', '5', [6, 7, 8], '5', '5', '5', [6, 7, 8]]"
      ]
     },
     "execution_count": 51,
     "metadata": {},
     "output_type": "execute_result"
    }
   ],
   "source": [
    "#append() : list 뒤에 요소 추가\n",
    "\n",
    "list5.append('5')\n",
    "#list5.append('5', '6', 7) #list는 여러개 한번에 안되기에 하나씩 또는 묶어서 보내야 함 \n",
    "list5\n",
    "\n",
    "list5.append([6,7,8])\n",
    "list5"
   ]
  },
  {
   "cell_type": "code",
   "execution_count": null,
   "id": "3d51b4fd",
   "metadata": {},
   "outputs": [
    {
     "name": "stdout",
     "output_type": "stream",
     "text": [
      "[2, 4, 6, 8, 10, 12, 14, 16, 18, 20, 22, 24, 26, 28, 30, 32, 34, 36, 38, 40, 42, 44, 46, 48, 50, 52, 54, 56, 58, 60, 62, 64, 66, 68, 70, 72, 74, 76, 78, 80, 82, 84, 86, 88, 90, 92, 94, 96, 98, 100]\n",
      "1  3  5  7  9  11  13  15  17  19  21  23  25  27  29  31  33  35  37  39  41  43  45  47  49  51  53  55  57  59  61  63  65  67  69  71  73  75  77  79  81  83  85  87  89  91  93  95  97  99  "
     ]
    }
   ],
   "source": [
    "#1 ~ 100 숫자 중에서 짝수만 리스트로 생성\n",
    "#range(시작, 종료, 증감) : 종료는 포함하지 않음.\n",
    "\n",
    "even = []\n",
    "#짝수\n",
    "for i in range(2, 101, 2):\n",
    "    even.append(i)\n",
    "print(even)\n",
    "\n",
    "#홀수\n",
    "for j in range(1, 101, 2):\n",
    "    print(j, end=\"  \")"
   ]
  },
  {
   "cell_type": "code",
   "execution_count": null,
   "id": "81861bd4",
   "metadata": {},
   "outputs": [
    {
     "data": {
      "text/plain": [
       "[1, 2, 3, 4]"
      ]
     },
     "execution_count": 62,
     "metadata": {},
     "output_type": "execute_result"
    }
   ],
   "source": [
    "#리스트 원본 정렬해버리는 => \"sort()\" - 오름차순\n",
    "\n",
    "\n",
    "list1 =[1,4,3,2]\n",
    "list1.sort()\n",
    "list1"
   ]
  },
  {
   "cell_type": "code",
   "execution_count": null,
   "id": "61968613",
   "metadata": {},
   "outputs": [
    {
     "data": {
      "text/plain": [
       "['b', 'c', 'f', 'z']"
      ]
     },
     "execution_count": 66,
     "metadata": {},
     "output_type": "execute_result"
    }
   ],
   "source": [
    "list2 = ['z','b','c','f']\n",
    "\n",
    "list2.sort()\n",
    "list2"
   ]
  },
  {
   "cell_type": "code",
   "execution_count": 72,
   "id": "e0c851b3",
   "metadata": {},
   "outputs": [
    {
     "data": {
      "text/plain": [
       "['A', 'C', 'b', 'f']"
      ]
     },
     "execution_count": 72,
     "metadata": {},
     "output_type": "execute_result"
    }
   ],
   "source": [
    "list2 = ['A','b','C','f'] #대문자부터 정렬(아스키 코드값 기준)\n",
    "\n",
    "list2.sort()\n",
    "list2"
   ]
  },
  {
   "cell_type": "code",
   "execution_count": 73,
   "id": "e703eeb7",
   "metadata": {},
   "outputs": [
    {
     "name": "stdout",
     "output_type": "stream",
     "text": [
      "정렬 전 ['A', 'C', 'b', 'f']\n",
      "정렬 후 ['f', 'b', 'C', 'A']\n"
     ]
    }
   ],
   "source": [
    "#내림차순\n",
    "#sort(reverse = True)\n",
    "print(\"정렬 전\", list2)\n",
    "\n",
    "list2.sort(reverse = True)\n",
    "print(\"정렬 후\", list2)"
   ]
  },
  {
   "cell_type": "code",
   "execution_count": null,
   "id": "807057c7",
   "metadata": {},
   "outputs": [
    {
     "name": "stdout",
     "output_type": "stream",
     "text": [
      "[6.5, 5.5, 4, 3, 2, 1]\n",
      "[1, 2, 3, 4, 5.5, 6.5]\n"
     ]
    }
   ],
   "source": [
    "#reverse() : 거꾸로 뒤집음, 정렬개념이 아님\n",
    "print(list3)\n",
    "\n",
    "list3.reverse()\n",
    "print(list3)"
   ]
  },
  {
   "cell_type": "code",
   "execution_count": 7,
   "id": "16d5c303",
   "metadata": {},
   "outputs": [
    {
     "data": {
      "text/plain": [
       "0"
      ]
     },
     "execution_count": 7,
     "metadata": {},
     "output_type": "execute_result"
    }
   ],
   "source": [
    "#index() : 특정 요소 위치 반환(없는 경우 error)\n",
    "\n",
    "#list3.index(9) \n",
    "list3.index(1) "
   ]
  },
  {
   "cell_type": "code",
   "execution_count": null,
   "id": "f2878f7b",
   "metadata": {},
   "outputs": [],
   "source": [
    "#insert() : 특정 위치 지정해서 요소 삽입 <> append: 무조건 뒤에서 삽입.\n",
    "\n",
    "list3.insert(2,35)"
   ]
  },
  {
   "cell_type": "code",
   "execution_count": 11,
   "id": "1134f397",
   "metadata": {},
   "outputs": [
    {
     "data": {
      "text/plain": [
       "[1, 2, 35, 3, 4, 5.5, 6.5]"
      ]
     },
     "execution_count": 11,
     "metadata": {},
     "output_type": "execute_result"
    }
   ],
   "source": [
    "list3"
   ]
  },
  {
   "cell_type": "code",
   "execution_count": 12,
   "id": "e2ebb851",
   "metadata": {},
   "outputs": [
    {
     "data": {
      "text/plain": [
       "[1, 2, 35, 3, 5.5, 6.5]"
      ]
     },
     "execution_count": 12,
     "metadata": {},
     "output_type": "execute_result"
    }
   ],
   "source": [
    "#remove: 첫번째로 나오는 요소 삭제(list 전용 삭제<>del : 공통 삭제 기능)\n",
    "#4값을 없앨 시, 첫번째 4값만 없앰.\n",
    "\n",
    "list3.remove(4)\n",
    "list3"
   ]
  },
  {
   "cell_type": "code",
   "execution_count": 13,
   "id": "512be95a",
   "metadata": {},
   "outputs": [
    {
     "data": {
      "text/plain": [
       "[1, 2, 35, 3, 5.5]"
      ]
     },
     "execution_count": 13,
     "metadata": {},
     "output_type": "execute_result"
    }
   ],
   "source": [
    "#pop() : 리스트 된 맨 마지막 요소를 리턴하고 그 요소는 삭제.\n",
    "\n",
    "\n",
    "list3.pop()\n",
    "\n",
    "list3"
   ]
  },
  {
   "cell_type": "code",
   "execution_count": 14,
   "id": "168034cb",
   "metadata": {},
   "outputs": [
    {
     "data": {
      "text/plain": [
       "[1, 35, 3, 5.5]"
      ]
     },
     "execution_count": 14,
     "metadata": {},
     "output_type": "execute_result"
    }
   ],
   "source": [
    "#index 를 줘서 특정 위치에 있는 값을 삭제할 수 있다.\n",
    "list3.pop(1)\n",
    "list3"
   ]
  },
  {
   "cell_type": "code",
   "execution_count": 16,
   "id": "9fb396a0",
   "metadata": {},
   "outputs": [
    {
     "data": {
      "text/plain": [
       "1"
      ]
     },
     "execution_count": 16,
     "metadata": {},
     "output_type": "execute_result"
    }
   ],
   "source": [
    "#count() : 리스트에 포함된 요소 개수를 센다\n",
    "list3.count(35)"
   ]
  },
  {
   "cell_type": "code",
   "execution_count": 17,
   "id": "9f52aa31",
   "metadata": {},
   "outputs": [
    {
     "data": {
      "text/plain": [
       "[1, 35, 3, 5.5, 4]"
      ]
     },
     "execution_count": 17,
     "metadata": {},
     "output_type": "execute_result"
    }
   ],
   "source": [
    "#append() : 값을 하나만 넣을 수 있다.\n",
    "list3.append(4)\n",
    "list3"
   ]
  },
  {
   "cell_type": "code",
   "execution_count": 20,
   "id": "d7b72aa7",
   "metadata": {},
   "outputs": [
    {
     "data": {
      "text/plain": [
       "[1, 35, 3, 5.5, 4, [7, 8, 9]]"
      ]
     },
     "execution_count": 20,
     "metadata": {},
     "output_type": "execute_result"
    }
   ],
   "source": [
    "#append 에서 여러 개 값을 넣어주고 싶다면? list(배열 개념)들어감.\n",
    "list3.append([7,8,9])\n",
    "list3"
   ]
  },
  {
   "cell_type": "code",
   "execution_count": 21,
   "id": "868d4b24",
   "metadata": {},
   "outputs": [
    {
     "data": {
      "text/plain": [
       "[1, 35, 3, 5.5, 4, [7, 8, 9], 16, 17, 18]"
      ]
     },
     "execution_count": 21,
     "metadata": {},
     "output_type": "execute_result"
    }
   ],
   "source": [
    "#extend: 확장\n",
    "list3.extend([16,17,18])\n",
    "list3"
   ]
  },
  {
   "cell_type": "code",
   "execution_count": 25,
   "id": "be249f51",
   "metadata": {},
   "outputs": [
    {
     "name": "stdout",
     "output_type": "stream",
     "text": [
      "True\n"
     ]
    }
   ],
   "source": [
    "# 참 : list 안에 요소를 가지고 있으면 True  <>\n",
    "# 거짓 : 비어있을 경우 --> [리스트], \"문자열\" \n",
    "\n",
    "if list2:\n",
    "    print(True)\n",
    "else: \n",
    "    print(False)    \n"
   ]
  },
  {
   "cell_type": "code",
   "execution_count": 26,
   "id": "4479d454",
   "metadata": {},
   "outputs": [
    {
     "data": {
      "text/plain": [
       "['a', 'b', 'c', 1, 2, 3]"
      ]
     },
     "execution_count": 26,
     "metadata": {},
     "output_type": "execute_result"
    }
   ],
   "source": [
    "list2"
   ]
  },
  {
   "cell_type": "code",
   "execution_count": null,
   "id": "9a468b27",
   "metadata": {},
   "outputs": [
    {
     "data": {
      "text/plain": [
       "[2, 4, 6, 8]"
      ]
     },
     "execution_count": 27,
     "metadata": {},
     "output_type": "execute_result"
    }
   ],
   "source": [
    "#list 각 요소의 (*2) 한 후, 새로운 리스트로 반환.\n",
    "list1 = [1,2,3,4]\n",
    "\n",
    "list2 = []\n",
    "#list1 안에 있는 값을 하나씩 꺼내서 \n",
    "# 변수 num에 임시로 저장\n",
    "for num in list1:  \n",
    "    list2.append(num*2)\n",
    "\n",
    "list2"
   ]
  },
  {
   "cell_type": "code",
   "execution_count": null,
   "id": "54043838",
   "metadata": {},
   "outputs": [
    {
     "data": {
      "text/plain": [
       "[2, 4, 6, 8]"
      ]
     },
     "execution_count": 29,
     "metadata": {},
     "output_type": "execute_result"
    }
   ],
   "source": [
    "#리스트 컴프리헨션 \n",
    "#list1의 각 요소 x를 2배로 곱한 결과를\n",
    "#새로운 리스트 list3에 담는 코드\n",
    "#[원소 처리 for 원소 in 리스트]\n",
    "list3 = [x * 2 for x in list1 ]\n",
    "\n",
    "list3"
   ]
  },
  {
   "cell_type": "code",
   "execution_count": null,
   "id": "a68f10b9",
   "metadata": {},
   "outputs": [
    {
     "name": "stdout",
     "output_type": "stream",
     "text": [
      "[0, 1, 4, 9, 16]\n"
     ]
    }
   ],
   "source": [
    "#range(5)에 대해 제곱값 생성 --> \"x * x\"실행\n",
    "print([x * x for x in range(5)])"
   ]
  },
  {
   "cell_type": "markdown",
   "id": "2a6f10f4",
   "metadata": {},
   "source": [
    "1. 메뉴선택\n",
    "A 자동차 들어감, 주차장 상태 ==> [\"A\"]\n",
    "B 자동차 들어감, 주차장 상태 ==> [\"A\", \"B\"]\n",
    "...\n",
    "E 자동차 들어감, 주차장 상태 ==> [\"A\", \"B\", \"C\", \"D\", \"E\"]\n",
    "\n",
    "2. 메뉴 선택\n",
    "E 자동차 나감. 주차장 상태 ==> [\"A\", \"B\", \"C\", \"D\"]\n"
   ]
  },
  {
   "cell_type": "code",
   "execution_count": 36,
   "id": "f7cd4a37",
   "metadata": {},
   "outputs": [
    {
     "name": "stdout",
     "output_type": "stream",
     "text": [
      "65\n",
      "A\n"
     ]
    }
   ],
   "source": [
    "# 문자 => 유니코드 값\n",
    "print(ord(\"A\"))\n",
    "\n",
    "#유니코드 값 => 문자\n",
    "print(chr(65))\n"
   ]
  },
  {
   "cell_type": "code",
   "execution_count": null,
   "id": "2a3ad27d",
   "metadata": {},
   "outputs": [
    {
     "ename": "IndentationError",
     "evalue": "unexpected indent (992646602.py, line 30)",
     "output_type": "error",
     "traceback": [
      "  \u001b[36mCell\u001b[39m\u001b[36m \u001b[39m\u001b[32mIn[42]\u001b[39m\u001b[32m, line 30\u001b[39m\n\u001b[31m    \u001b[39m\u001b[31melse:\u001b[39m\n    ^\n\u001b[31mIndentationError\u001b[39m\u001b[31m:\u001b[39m unexpected indent\n"
     ]
    }
   ],
   "source": [
    "#주차장 프로그램 작성\n",
    "# pass 구문 = 작성 전 오류 안 나기 위해 사용함.\n",
    "\n",
    "parking_lot = [] # 주차장 (스택 역할)\n",
    "top,car_name = 0, \"A\"  # 현재 주차된 차량 수\n",
    "\n",
    "\n",
    "while True:\n",
    "    no = int(input(\"[1] 자동차 넣기 | [2] 자동차 빼기 | [3] 종료\" ))\n",
    "if no <= 3:    \n",
    "    if no == 1:\n",
    "        if top >= 5: #주차장 꽉 찼음 출력\n",
    "            print(\"주차장 꽉 찼음\")\n",
    "        else:\n",
    "            parking_lot.append(car_name)\n",
    "        #A 자동차 들어감, 주차장 상태 ==> [\"A\"]\n",
    "            print(f\"{car_name} 자동차 들어감. 주차장 상태 ==>{parking_lot}\")\n",
    "            top += 1\n",
    "            car_name = chr(ord(car_name) +1)\n",
    "    elif no == 2:\n",
    "         if top > 0:\n",
    "            outCar = parking_lot.pop()\n",
    "            print(f\"{outCar} 자동차 나감. 주차장 상태 ==>{parking_lot}\")\n",
    "            top -= 1\n",
    "            car_name = chr(ord(car_name) -1)\n",
    "         else:\n",
    "            print(\"빠져나갈 자동차 없음\")\n",
    "    elif no == 3:\n",
    "        print(\"프로그램 종료\")\n",
    "        break              \n",
    "else:\n",
    "    print(\"메뉴를 확인해 주세요\")"
   ]
  },
  {
   "cell_type": "code",
   "execution_count": null,
   "id": "1e386d21",
   "metadata": {},
   "outputs": [
    {
     "name": "stdout",
     "output_type": "stream",
     "text": [
      "\n",
      "[1] 자동차 넣기 | [2] 자동차 빼기 | [3] 종료\n",
      "✅ A 자동차 들어감. 주차장 상태 ==> ['A']\n",
      "\n",
      "[1] 자동차 넣기 | [2] 자동차 빼기 | [3] 종료\n",
      "👋 프로그램 종료\n"
     ]
    }
   ],
   "source": [
    "# 주차장 프로그램\n",
    "\n",
    "parking_lot = []  # 주차장 (스택 역할)\n",
    "top,car_name = 0, \"A\"  # 현재 주차된 차량 수\n",
    "\n",
    "while True:\n",
    "    print(\"\\n[1] 자동차 넣기 | [2] 자동차 빼기 | [3] 종료\")\n",
    "    no = int(input(\"메뉴 선택: \"))\n",
    "\n",
    "    if no == 1:\n",
    "        if top >= 5:\n",
    "            print(\"🚫 주차장 꽉 찼음\")\n",
    "        else:\n",
    "            car_name = input(\"차 번호 입력: \")\n",
    "            parking_lot.append(car_name)\n",
    "            top += 1\n",
    "            print(f\"✅ {car_name} 자동차 들어감. 주차장 상태 ==> {parking_lot}\")\n",
    "    \n",
    "    elif no == 2:\n",
    "        if top > 0:\n",
    "            outCar = parking_lot.pop()\n",
    "            top -= 1\n",
    "            print(f\"⬅️ {outCar} 자동차 나감. 주차장 상태 ==> {parking_lot}\")\n",
    "        else:\n",
    "            print(\"🚫 빠져나갈 자동차 없음\")\n",
    "\n",
    "    elif no == 3:\n",
    "        print(\"👋 프로그램 종료\")\n",
    "        break\n",
    "    \n",
    "    else:\n",
    "        print(\"⚠️ 메뉴를 확인해 주세요\")\n"
   ]
  },
  {
   "cell_type": "markdown",
   "id": "dbd4b4bf",
   "metadata": {},
   "source": [
    "### List comprehension"
   ]
  },
  {
   "cell_type": "code",
   "execution_count": null,
   "id": "e4856f24",
   "metadata": {},
   "outputs": [],
   "source": [
    "list3 = [x * 2 for x in list1 ]"
   ]
  },
  {
   "cell_type": "code",
   "execution_count": null,
   "id": "b4f8f08a",
   "metadata": {},
   "outputs": [],
   "source": [
    "print([x * x for x in range(5)])"
   ]
  },
  {
   "cell_type": "code",
   "execution_count": null,
   "id": "b34cf09d",
   "metadata": {},
   "outputs": [
    {
     "name": "stdout",
     "output_type": "stream",
     "text": [
      "['갑', '을', '병']\n"
     ]
    }
   ],
   "source": [
    "list1 = [\"갑\",\"을\",\"병\",\"정\"]\n",
    "#정 글자만 제외하고 새로운 list로 생성\n",
    "\n",
    "# list2 = []\n",
    "\n",
    "# for s in list1:\n",
    "#     if s != \"정\":\n",
    "#         list2.append(s)\n",
    "\n",
    "# print(list2)      \n",
    "\n",
    "list2 = [s for s in list1  if s != \"정\"]\n",
    "print(list2)     "
   ]
  },
  {
   "cell_type": "code",
   "execution_count": null,
   "id": "e6f50ff2",
   "metadata": {},
   "outputs": [
    {
     "name": "stdout",
     "output_type": "stream",
     "text": [
      "list3: [1, 3, 5, 7, 9, 11, 13, 15, 17, 19, 21, 23, 25, 27, 29, 31, 33, 35, 37, 39, 41, 43, 45, 47, 49, 51, 53, 55, 57, 59, 61, 63, 65, 67, 69, 71, 73, 75, 77, 79, 81, 83, 85, 87, 89, 91, 93, 95, 97, 99]\n",
      "list2: [1, 3, 5, 7, 9, 11, 13, 15, 17, 19, 21, 23, 25, 27, 29, 31, 33, 35, 37, 39, 41, 43, 45, 47, 49, 51, 53, 55, 57, 59, 61, 63, 65, 67, 69, 71, 73, 75, 77, 79, 81, 83, 85, 87, 89, 91, 93, 95, 97, 99]\n"
     ]
    }
   ],
   "source": [
    "#1~100 숫자 중 홀수만 리스트로 생성.\n",
    "\n",
    "# list2 = []\n",
    "# for i in range(1,101):\n",
    "#     if i % 2 ==1 :\n",
    "#         list2.append(i)\n",
    "\n",
    "# print(list2)\n",
    "\n",
    "list2 = [ i for i in range(1,101) if i % 2 ==1 ]\n",
    "print(\"list2:\", list2)        \n",
    "\n",
    "\n",
    "list3 = list(range(1,101,2))\n",
    "print(\"list3:\", list3)        "
   ]
  },
  {
   "cell_type": "code",
   "execution_count": null,
   "id": "9c42ea6f",
   "metadata": {},
   "outputs": [
    {
     "name": "stdout",
     "output_type": "stream",
     "text": [
      "['study', 'python', 'anaconda']\n"
     ]
    }
   ],
   "source": [
    "#5글자 이상의 단어만 새로운 리스트로 생성\n",
    "#해당 방식 많이 사용함.\n",
    "\n",
    "list1 = [\"nice\", \"study\",\"python\",\"anaconda\",\"!\"]\n",
    "\n",
    "# list2 =[]\n",
    "# for s in list1:\n",
    "#     if len(s) >= 5:\n",
    "#         list2.append(s)\n",
    "# print(list2)\n",
    "\n",
    "list2 = [s for s in list1  if len(s) >= 5]\n",
    "print(list2)"
   ]
  },
  {
   "cell_type": "code",
   "execution_count": 60,
   "id": "2dea2a47",
   "metadata": {},
   "outputs": [
    {
     "name": "stdout",
     "output_type": "stream",
     "text": [
      "[[1, 2, 3], [2, 3, 4], [3, 4, 5]]\n"
     ]
    }
   ],
   "source": [
    "print([ [x, x+1, x+2] for x in [1,2,3]])"
   ]
  },
  {
   "cell_type": "markdown",
   "id": "b4d44502",
   "metadata": {},
   "source": [
    "###  tuple\n",
    " - 리스트와 유사함\n",
    " - ()로 감싼다.\n",
    " - tuple 요소값 변경이 불가능함.\n",
    " - (=)읽기만 가능함\n",
    " - 접근 시 속도 빠름\n",
    "\n",
    " tuple은 함수의 리턴타입, 조회용, 자료 담을 때 주로 사용한다."
   ]
  },
  {
   "cell_type": "code",
   "execution_count": 67,
   "id": "2f0b1119",
   "metadata": {},
   "outputs": [],
   "source": [
    "#tuple 생성\n",
    "t1 = ()\n",
    "t2 = 1,2,3\n",
    "t3 = (1,) #1개의 요소만 가질 땐 반드시 \",\"가져야 한다.\n",
    "t4 = (1,2,3)\n",
    "t5 = (\"a\",\"b\", (\"ab\", \"cd\"))"
   ]
  },
  {
   "cell_type": "code",
   "execution_count": 70,
   "id": "0bff4944",
   "metadata": {},
   "outputs": [
    {
     "data": {
      "text/plain": [
       "(1, 2, 3)"
      ]
     },
     "execution_count": 70,
     "metadata": {},
     "output_type": "execute_result"
    }
   ],
   "source": [
    "t2"
   ]
  },
  {
   "cell_type": "code",
   "execution_count": null,
   "id": "b8ed043a",
   "metadata": {},
   "outputs": [
    {
     "ename": "TypeError",
     "evalue": "'tuple' object doesn't support item deletion",
     "output_type": "error",
     "traceback": [
      "\u001b[31m---------------------------------------------------------------------------\u001b[39m",
      "\u001b[31mTypeError\u001b[39m                                 Traceback (most recent call last)",
      "\u001b[36mCell\u001b[39m\u001b[36m \u001b[39m\u001b[32mIn[72]\u001b[39m\u001b[32m, line 2\u001b[39m\n\u001b[32m      1\u001b[39m \u001b[38;5;66;03m#u,d...tuple은 변경이 안됨\u001b[39;00m\n\u001b[32m----> \u001b[39m\u001b[32m2\u001b[39m \u001b[38;5;28;01mdel\u001b[39;00m \u001b[43mt2\u001b[49m\u001b[43m[\u001b[49m\u001b[32;43m0\u001b[39;49m\u001b[43m]\u001b[49m\n\u001b[32m      3\u001b[39m t2[\u001b[32m0\u001b[39m] =\u001b[32m5\u001b[39m \n",
      "\u001b[31mTypeError\u001b[39m: 'tuple' object doesn't support item deletion"
     ]
    }
   ],
   "source": [
    "#u,d...tuple은 변경이 안됨\n",
    "del t2[0]\n",
    "t2[0] =5 "
   ]
  },
  {
   "cell_type": "code",
   "execution_count": 75,
   "id": "1b6fa9ac",
   "metadata": {},
   "outputs": [
    {
     "name": "stdout",
     "output_type": "stream",
     "text": [
      "3\n",
      "(2, 3)\n"
     ]
    }
   ],
   "source": [
    "#인덱싱과 슬라이싱\n",
    "print(t4[2])#인덱싱\n",
    "print(t4[1:]) #슬라이싱"
   ]
  },
  {
   "cell_type": "code",
   "execution_count": null,
   "id": "7cff12c7",
   "metadata": {},
   "outputs": [
    {
     "name": "stdout",
     "output_type": "stream",
     "text": [
      "(1, 1, 2, 3)\n",
      "(1, 1, 2, 3, 1, 1, 2, 3, 1, 1, 2, 3)\n"
     ]
    }
   ],
   "source": [
    "# (+ - 연결) , (* - 반복)\n",
    "\n",
    "t6 = t3 + t4\n",
    "print(t6)\n",
    "\n",
    "t7 = t6 * 3\n",
    "print(t7)"
   ]
  }
 ],
 "metadata": {
  "kernelspec": {
   "display_name": "venv",
   "language": "python",
   "name": "python3"
  },
  "language_info": {
   "codemirror_mode": {
    "name": "ipython",
    "version": 3
   },
   "file_extension": ".py",
   "mimetype": "text/x-python",
   "name": "python",
   "nbconvert_exporter": "python",
   "pygments_lexer": "ipython3",
   "version": "3.13.3"
  }
 },
 "nbformat": 4,
 "nbformat_minor": 5
}
