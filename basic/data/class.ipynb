{
 "cells": [
  {
   "cell_type": "code",
   "execution_count": null,
   "id": "1e91be64",
   "metadata": {},
   "outputs": [],
   "source": [
    "class UserInfo:\n",
    "#self : 인스턴스 메소드일 때 \n",
    "    def user_info(self):\n",
    "        print(\"메소드 실행\")"
   ]
  },
  {
   "cell_type": "code",
   "execution_count": 3,
   "id": "407c50a6",
   "metadata": {},
   "outputs": [
    {
     "name": "stdout",
     "output_type": "stream",
     "text": [
      "메소드 실행\n"
     ]
    }
   ],
   "source": [
    "#객체 생성\n",
    "user1 = UserInfo()\n",
    "user1.user_info()"
   ]
  },
  {
   "cell_type": "code",
   "execution_count": null,
   "id": "047b7622",
   "metadata": {},
   "outputs": [],
   "source": [
    "class Car:\n",
    "    color = \"\"\n",
    "    speed = 0\n",
    "\n",
    "    def upSpeed(self, value):\n",
    "        self.speed += value\n",
    "    \n",
    "    def downSpeed(self, value):\n",
    "        self.speed -= value\n",
    "\n",
    "    def __str__(self): #java toString()..하면 주소가 안 나옴!\n",
    "        return f\"color {self.color}, speed {self.speed}\"        "
   ]
  },
  {
   "cell_type": "code",
   "execution_count": 10,
   "id": "f5a3f01f",
   "metadata": {},
   "outputs": [
    {
     "name": "stdout",
     "output_type": "stream",
     "text": [
      "myCar1 color Red, speed 10, color Red, speed 10 \n",
      "myCar2 color Blue, speed 50, color Blue, speed 50 \n"
     ]
    }
   ],
   "source": [
    "myCar1 = Car()\n",
    "myCar1.speed = 10\n",
    "myCar1.color = \"Red\"\n",
    "print(f\"myCar1 {myCar1}, color {myCar1.color}, speed {myCar1.speed} \")\n",
    "\n",
    "myCar2 = Car()\n",
    "myCar2.speed = 50\n",
    "myCar2.color = \"Blue\"\n",
    "print(f\"myCar2 {myCar2}, color {myCar2.color}, speed {myCar2.speed} \")"
   ]
  },
  {
   "cell_type": "code",
   "execution_count": 11,
   "id": "f8d42267",
   "metadata": {},
   "outputs": [],
   "source": [
    "class UserInfo:\n",
    "#생성자 \n",
    "\n",
    "    def __init__(self):\n",
    "        self.name = \"홍길동\"\n",
    "        self.age = \"25\"\n",
    "        \n",
    "\n",
    "    def user_info(self):\n",
    "        print(\"메소드 실행\")\n",
    "\n",
    "    def __str__(self):\n",
    "        return f\"name : {self.name}, age : {self.age}\"    "
   ]
  },
  {
   "cell_type": "code",
   "execution_count": 12,
   "id": "2da72fc6",
   "metadata": {},
   "outputs": [
    {
     "name": "stdout",
     "output_type": "stream",
     "text": [
      "name : 홍길동, age : 25\n"
     ]
    }
   ],
   "source": [
    "info = UserInfo()\n",
    "print(info)"
   ]
  },
  {
   "cell_type": "code",
   "execution_count": null,
   "id": "b04eba2a",
   "metadata": {},
   "outputs": [],
   "source": [
    "class UserInfo:\n",
    "#생성자 \n",
    "    def __init__(self, name = \"홍길동\", age= 25):\n",
    "        self.name = name\n",
    "        self.age = age\n",
    "        \n",
    "\n",
    "    def user_info(self):\n",
    "        print(\"메소드 실행\")\n",
    "\n",
    "    def __str__(self):\n",
    "        return f\"name : {self.name}, age : {self.age}\"    "
   ]
  },
  {
   "cell_type": "code",
   "execution_count": 17,
   "id": "24c9d3ee",
   "metadata": {},
   "outputs": [
    {
     "name": "stdout",
     "output_type": "stream",
     "text": [
      "name : 김중원, age : 30\n"
     ]
    }
   ],
   "source": [
    "info = UserInfo(\"김중원\", 30)\n",
    "print(info)"
   ]
  },
  {
   "cell_type": "code",
   "execution_count": 18,
   "id": "d125da4b",
   "metadata": {},
   "outputs": [],
   "source": [
    "class Car:\n",
    "    def __init__(self ,color, speed):\n",
    "        self.color = color\n",
    "        self.speed = speed\n",
    "\n",
    "    def upSpeed(self, value):\n",
    "        self.speed += value\n",
    "    \n",
    "    def downSpeed(self, value):\n",
    "        self.speed -= value\n",
    "\n",
    "    def __str__(self): #java toString()..하면 주소가 안 나옴!\n",
    "        return f\"color {self.color}, speed {self.speed}\"        "
   ]
  },
  {
   "cell_type": "code",
   "execution_count": 19,
   "id": "8ae259d2",
   "metadata": {},
   "outputs": [
    {
     "name": "stdout",
     "output_type": "stream",
     "text": [
      "color Red, speed 50\n",
      "color Black, speed 100\n"
     ]
    }
   ],
   "source": [
    "myCar1 = Car(\"Red\", 50)\n",
    "myCar2 = Car(\"Black\", 100)\n",
    "\n",
    "print(myCar1)\n",
    "print(myCar2)"
   ]
  },
  {
   "cell_type": "code",
   "execution_count": 28,
   "id": "8018acb5",
   "metadata": {},
   "outputs": [],
   "source": [
    "class UserInfo:\n",
    "#생성자 오버로딩 개념은 없다. | ~ = None 안들어올 수도 있다. \n",
    "# 초기값 이용해서 오버로딩 처리\n",
    "    def __init__(self, name, age,email = None):\n",
    "        self.name = name\n",
    "        self.age = age\n",
    "        self.email = email\n",
    "        \n",
    "\n",
    "    def user_info(self):\n",
    "        print(\"메소드 실행\")\n",
    "\n",
    "    def __str__(self):\n",
    "        return f\"name : {self.name}, age : {self.age}, email : {self.email}\"    "
   ]
  },
  {
   "cell_type": "code",
   "execution_count": 26,
   "id": "def2bf48",
   "metadata": {},
   "outputs": [],
   "source": [
    "info1 = UserInfo(\"홍길동\", \"30\")\n",
    "info2 = UserInfo(\"성춘향\", \"20\", \"test@naver.com\")"
   ]
  },
  {
   "cell_type": "code",
   "execution_count": 32,
   "id": "76030029",
   "metadata": {},
   "outputs": [],
   "source": [
    "#클래스 변수, 클래스 매소드 : static(자바)\n",
    "#인스턴스 변수, 인스턴스 메소드 : self\n",
    "\n",
    "\n",
    "class UserInfo:\n",
    "    userCnt = 0\n",
    "\n",
    "    def __init__(self, name, age,email = None):\n",
    "        self.name = name\n",
    "        self.age = age\n",
    "        self.email = email\n",
    "        \n",
    "        UserInfo.userCnt += 1\n",
    "\n",
    "    def user_info(self):\n",
    "        print(\"메소드 실행\")\n",
    "\n",
    "    def __str__(self):\n",
    "        return f\"name : {self.name}, age : {self.age}, email : {self.email}\"    \n",
    "    \n",
    "    def __del__(self):\n",
    "        UserInfo.userCnt -= 1"
   ]
  },
  {
   "cell_type": "code",
   "execution_count": 34,
   "id": "e28b23cc",
   "metadata": {},
   "outputs": [
    {
     "name": "stdout",
     "output_type": "stream",
     "text": [
      "생성된 user 수: 2\n"
     ]
    }
   ],
   "source": [
    "info1 = UserInfo(\"홍길동\", \"30\")\n",
    "info2 = UserInfo(\"성춘향\", \"20\", \"test@naver.com\")\n",
    "\n",
    "print(f\"생성된 user 수: {UserInfo.userCnt}\")"
   ]
  },
  {
   "cell_type": "code",
   "execution_count": 35,
   "id": "cf612d4d",
   "metadata": {},
   "outputs": [
    {
     "name": "stdout",
     "output_type": "stream",
     "text": [
      "생성된 user 수: 1\n"
     ]
    }
   ],
   "source": [
    "del info1 \n",
    "\n",
    "print(f\"생성된 user 수: {UserInfo.userCnt}\")"
   ]
  },
  {
   "cell_type": "code",
   "execution_count": 39,
   "id": "d10e95bb",
   "metadata": {},
   "outputs": [],
   "source": [
    "#클래스 선언 시 ()는 선언해도 안해도 됨\n",
    "class SelfTest(): \n",
    "    #(self 없을 시) 클래스 메소드 \n",
    "    @classmethod\n",
    "    def function1(cls):\n",
    "        print(\"function1\")\n",
    "\n",
    "    def function2(self):\n",
    "        print(\"function2\")    "
   ]
  },
  {
   "cell_type": "code",
   "execution_count": 40,
   "id": "db8e65b2",
   "metadata": {},
   "outputs": [
    {
     "name": "stdout",
     "output_type": "stream",
     "text": [
      "function1\n",
      "function2\n"
     ]
    }
   ],
   "source": [
    "test1 = SelfTest() \n",
    "#test1.function1() -- 오류남, 자바는 허용함\n",
    "SelfTest.function1()\n",
    "test1.function2()"
   ]
  },
  {
   "cell_type": "code",
   "execution_count": null,
   "id": "18dcb1a9",
   "metadata": {},
   "outputs": [],
   "source": [
    "#Clac\n",
    "#4개 method \n",
    "#생성자(num1,num2), 4개 (사칙연산)\n",
    "#사칙연산 기능 \n",
    "\n",
    "class Calc():\n",
    "    def __init__(self, num1=0, num2=0):\n",
    "        self.num1 = num1\n",
    "        self.num2 = num2\n",
    "\n",
    "    def sum(self):\n",
    "        return self.num1 + self.num2\n",
    "    \n",
    "    def sub(self):\n",
    "        return self.num1 - self.num2\n",
    "    \n",
    "    def mul(self):\n",
    "        return self.num1 * self.num2\n",
    "    \n",
    "    def div(self):\n",
    "        return self.num1 / self.num2"
   ]
  },
  {
   "cell_type": "code",
   "execution_count": 42,
   "id": "bdef0709",
   "metadata": {},
   "outputs": [
    {
     "name": "stdout",
     "output_type": "stream",
     "text": [
      "10 + 5 = 15\n",
      "10 - 5 = 5\n",
      "10 * 5 = 50\n",
      "10 / 5 = 2.0\n"
     ]
    }
   ],
   "source": [
    "a,b = 10,5\n",
    "\n",
    "Calc = Calc(a,b)\n",
    "print(f\"{a} + {b} = {Calc.sum()}\")\n",
    "print(f\"{a} - {b} = {Calc.sub()}\")\n",
    "print(f\"{a} * {b} = {Calc.mul()}\")\n",
    "print(f\"{a} / {b} = {Calc.div()}\")"
   ]
  },
  {
   "cell_type": "code",
   "execution_count": null,
   "id": "0611ef8a",
   "metadata": {},
   "outputs": [],
   "source": [
    "#클래스명 : Account\n",
    "# 맴버변수(인스턴스 변수) : ano(계좌번호), name(예금주), balance(남은 잔액)\n",
    "# 메소드 : withdraw(amount) -- 입금| amount에 추가, deposit(amount) -- 출금| amount 감소, 잔액부족시 m\n",
    "#__str__: name, balance \n",
    "#\"예금주: 홍길동, 잔액: 100000\" 형식 출력 (print(account) 시 자동 호출됨)\n",
    "\n",
    "class Account: \n",
    "    def __init__(self, ano, name, balance):\n",
    "        self.ano = ano #계좌번호\n",
    "        self.name = name #예금주\n",
    "        self.balance = balance #잔액\n",
    "\n",
    "    def deposite(self, amount):\n",
    "         if amount > 0:\n",
    "            self.balance += amount\n",
    "            return self.balance   \n",
    "         else:\n",
    "            print(\"입금액은 0보다 커야 합니다.\") \n",
    "    \n",
    "    def withdraw(self, amount):\n",
    "        if amount <= self.balance:\n",
    "            self.balance -= amount\n",
    "            return self.balance    \n",
    "        else:\n",
    "            print(\"잔액 부족\")\n",
    "               \n",
    "    def __str__(self):\n",
    "        return f\"{self.name} : {self.balance}\"\n",
    "\n"
   ]
  },
  {
   "cell_type": "code",
   "execution_count": 48,
   "id": "4343a512",
   "metadata": {},
   "outputs": [
    {
     "name": "stdout",
     "output_type": "stream",
     "text": [
      "홍길동 : 300000\n",
      "350000\n",
      "200000\n"
     ]
    }
   ],
   "source": [
    "user1 = Account(\"1111-22-333\", \"홍길동\", 300000)\n",
    "\n",
    "print(user1)\n",
    "\n",
    "print(user1.deposite(50000))\n",
    "print(user1.withdraw(150000))"
   ]
  },
  {
   "cell_type": "code",
   "execution_count": 45,
   "id": "25ecb99d",
   "metadata": {},
   "outputs": [],
   "source": [
    "#상속\n",
    "\n",
    "class Parent :\n",
    "    def __init__(self):\n",
    "        self.value = \"테스트\"\n",
    "        print(\"parent 클래스 __init__실행\")\n",
    "\n",
    "    def test(self):\n",
    "        print(\"parent  클래스 test 실행\")\n",
    "\n",
    "\n",
    "class Child(Parent):\n",
    "    def __init__(self):\n",
    "        super().__init__()\n",
    "        print(\"Child 클래스의 __init 실행\")"
   ]
  },
  {
   "cell_type": "code",
   "execution_count": 50,
   "id": "411fdb3c",
   "metadata": {},
   "outputs": [
    {
     "name": "stdout",
     "output_type": "stream",
     "text": [
      "parent 클래스 __init__실행\n",
      "Child 클래스의 __init 실행\n",
      "parent  클래스 test 실행\n",
      "테스트\n"
     ]
    }
   ],
   "source": [
    "child = Child()\n",
    "child.test()\n",
    "print(child.value)"
   ]
  },
  {
   "cell_type": "code",
   "execution_count": 52,
   "id": "a2551aff",
   "metadata": {},
   "outputs": [],
   "source": [
    "class AudioVisual:\n",
    "    def __init__(self,power,volume):\n",
    "        self.power = power\n",
    "        self.volume = volume\n",
    "\n",
    "    def switch(self, on_off):\n",
    "        self.power = on_off\n",
    "\n",
    "    def set_volume(self, vol):\n",
    "        self.volume = vol\n",
    "\n",
    "class Audio(AudioVisual):\n",
    "    def __init__(self, power, volume):\n",
    "        super().__init__(power, volume)\n",
    "\n",
    "    def tune(self):\n",
    "        str = \"la la la ...\" if self.power else \"turn it on\"\n",
    "        print(str)\n",
    "\n",
    "class Tv(AudioVisual):\n",
    "    def __init__(self, power, volume, size):\n",
    "        super().__init__(power, volume)  \n",
    "        self.size = size\n",
    "\n",
    "    def watch(self):\n",
    "        str = \"Have fun\" if self.power else \"switch on\"    \n",
    "        print(str)                  "
   ]
  },
  {
   "cell_type": "code",
   "execution_count": 55,
   "id": "8967c789",
   "metadata": {},
   "outputs": [
    {
     "name": "stdout",
     "output_type": "stream",
     "text": [
      "Have fun\n"
     ]
    }
   ],
   "source": [
    "tv = Tv(False, 12, 52)\n",
    "\n",
    "tv.switch(True) # Tv 전원 켜기\n",
    "tv.watch() #Tv보다"
   ]
  },
  {
   "cell_type": "code",
   "execution_count": 62,
   "id": "ec5c4243",
   "metadata": {},
   "outputs": [],
   "source": [
    "#오버라이딩\n",
    "\n",
    "class Parent :\n",
    "    def __init__(self):\n",
    "        self.value = \"테스트\"\n",
    "        print(\"parent 클래스 __init__실행\")\n",
    "\n",
    "    def func1(self):\n",
    "        print(\"parent 클래스의 func1 실행\")\n",
    "\n",
    "    def func2(self):\n",
    "        print(\"parent 클래스의 func2 실행\")     \n",
    "\n",
    "class Child(Parent):\n",
    "    def __init__(self):\n",
    "        super().__init__()\n",
    "        print(\"Child 클래스의 __init 실행\")\n",
    "\n",
    "    def func1(self):\n",
    "        print(\"Child 클래스의 func1 실행\")        \n",
    "\n",
    "    def func3(self):\n",
    "        print(\"Child 클래스의 func3 실행\")            "
   ]
  },
  {
   "cell_type": "code",
   "execution_count": 63,
   "id": "24297c92",
   "metadata": {},
   "outputs": [
    {
     "name": "stdout",
     "output_type": "stream",
     "text": [
      "parent 클래스 __init__실행\n",
      "parent 클래스 __init__실행\n",
      "Child 클래스의 __init 실행\n",
      "parent 클래스의 func1 실행\n",
      "Child 클래스의 func1 실행\n"
     ]
    }
   ],
   "source": [
    "parent = Parent()\n",
    "child = Child()\n",
    "\n",
    "parent.func1()\n",
    "child.func1()"
   ]
  },
  {
   "cell_type": "code",
   "execution_count": 69,
   "id": "c82b08db",
   "metadata": {},
   "outputs": [],
   "source": [
    "#private : __\n",
    "\n",
    "import math\n",
    "\n",
    "class Circle:\n",
    "    def __init__(self,radius):\n",
    "        self.__radius = radius\n",
    "\n",
    "#getter / setter\n",
    "    def get_circumference(self):\n",
    "        return 2 * math.pi * self.__radius\n",
    "    \n",
    "    def get_circle_area(self):\n",
    "        return math.pi * (self.__radius ** 2)\n",
    "    \n",
    "    def get_radius(self):\n",
    "        return self.__radius\n",
    "    \n",
    "    def set_radius(self, radius):\n",
    "        self.__radius = radius    \n",
    "        "
   ]
  },
  {
   "cell_type": "code",
   "execution_count": 70,
   "id": "c89e04c5",
   "metadata": {},
   "outputs": [
    {
     "name": "stdout",
     "output_type": "stream",
     "text": [
      "원 둘레 62.83185307179586\n",
      "원 면적 314.1592653589793\n",
      "10\n"
     ]
    }
   ],
   "source": [
    "circle = Circle(10)\n",
    "\n",
    "print(f\"원 둘레 {circle.get_circumference()}\")\n",
    "print(f\"원 면적 {circle.get_circle_area()}\")\n",
    "#print(circle.__radius)\n",
    "print(circle.get_radius())"
   ]
  }
 ],
 "metadata": {
  "kernelspec": {
   "display_name": "venv",
   "language": "python",
   "name": "python3"
  },
  "language_info": {
   "codemirror_mode": {
    "name": "ipython",
    "version": 3
   },
   "file_extension": ".py",
   "mimetype": "text/x-python",
   "name": "python",
   "nbconvert_exporter": "python",
   "pygments_lexer": "ipython3",
   "version": "3.13.3"
  }
 },
 "nbformat": 4,
 "nbformat_minor": 5
}
